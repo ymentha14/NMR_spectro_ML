{
 "cells": [
  {
   "cell_type": "code",
   "execution_count": null,
   "metadata": {},
   "outputs": [],
   "source": [
    "# Useful starting lines\n",
    "%matplotlib inline\n",
    "import numpy as np\n",
    "import matplotlib.pyplot as plt\n",
    "%load_ext autoreload\n",
    "%autoreload 2\n",
    "\n",
    "import pandas as pd # cannot use external libraries, just pandas for data exploration\n",
    "import pre_processing as pre"
   ]
  },
  {
   "cell_type": "code",
   "execution_count": null,
   "metadata": {},
   "outputs": [],
   "source": [
    "#trash\n",
    "def build_poly1(x, degree):\n",
    "    assert(all(x[:,0] == 1)\n",
    "    assert(x.shape[1] <= 31)\n",
    "    x = np.delete(x, 0, axis = 1)\n",
    "\n",
    "    \"\"\"polynomial basis functions for input data x, for j=0 up to j=degree.\"\"\"\n",
    "    x = np.concatenate([np.power(x,deg) for deg in range(1,degree+1)],axis = 1)\n",
    "    x = np.c_[np.ones((x.shape[0], 1)), x]\n",
    "    return x"
   ]
  },
  {
   "cell_type": "code",
   "execution_count": null,
   "metadata": {},
   "outputs": [],
   "source": [
    "def build_poly2(x, degree):\n",
    "    \"\"\"polynomial basis functions for input data x, for j=0 up to j=degree.\"\"\"\n",
    "    # kill cst columns (as this is our convention, it is not compatible with build_poly) \n",
    "    x_red = np.delete(x, 0, 1)\n",
    "    poly = np.ones((len(x_red), 1))\n",
    "    for deg in range(1, degree+1):\n",
    "        poly = np.c_[poly, np.power(x_red, deg)]\n",
    "    return poly #np.concatenate([np.power(x,deg) for deg in range(degree+1)],axis = 1)\n"
   ]
  },
  {
   "cell_type": "code",
   "execution_count": null,
   "metadata": {},
   "outputs": [],
   "source": [
    "k = np.array([[1,3,5],[1,2,4]])\n",
    "np.delete(k, 0, axis = 1)\n",
    "k == 1\n"
   ]
  },
  {
   "cell_type": "code",
   "execution_count": null,
   "metadata": {},
   "outputs": [],
   "source": [
    "x = np.random.randint(0,10,(2,2))\n",
    "x = np.array([[0,2,3],[4,5,6]])\n",
    "k1 = build_poly1(x,3)\n",
    "k2 = build_poly2(x,3)\n",
    "print(x)\n",
    "print(k1)\n",
    "print(k2)\n",
    "k1 == k2"
   ]
  },
  {
   "cell_type": "code",
   "execution_count": null,
   "metadata": {},
   "outputs": [],
   "source": [
    "from proj1_helpers import *\n",
    "DATA_TRAIN_PATH = '../data/train.csv' # TODO: download train data and supply path here \n",
    "y, tX, ids = load_csv_data(DATA_TRAIN_PATH)"
   ]
  },
  {
   "cell_type": "code",
   "execution_count": null,
   "metadata": {},
   "outputs": [],
   "source": [
    "from implementations import *"
   ]
  },
  {
   "cell_type": "markdown",
   "metadata": {},
   "source": [
    "Split dataset according to PRI_jet_num value:"
   ]
  },
  {
   "cell_type": "code",
   "execution_count": null,
   "metadata": {},
   "outputs": [],
   "source": [
    "x_subgroup0, y_subgroup0, x_subgroup1, y_subgroup1, x_subgroup2, y_subgroup2, x_subgroup3, y_subgroup3 = split_dataset(y, tX)"
   ]
  },
  {
   "cell_type": "markdown",
   "metadata": {},
   "source": [
    "for subset with PRI_jet_num = 0:"
   ]
  },
  {
   "cell_type": "code",
   "execution_count": null,
   "metadata": {},
   "outputs": [],
   "source": [
    "# divide subset into 2 new subsets: a training and a testing one\n",
    "x_train, x_test, y_train, y_test = train_test_split(x_subgroup0, y_subgroup0, ratio=0.5, seed=12)\n",
    "x_train, mean_train, std_train = standardize(x_train)\n",
    "x_test, _, _ = standardize(x_test, mean_train, std_train)"
   ]
  },
  {
   "cell_type": "code",
   "execution_count": null,
   "metadata": {
    "jupyter": {
     "outputs_hidden": true
    }
   },
   "outputs": [],
   "source": [
    "# doesn't work yet\n",
    "corr_matrix = np.corrcoef(x_train.T)\n",
    "corr_matrix.shape\n",
    "plt.matshow(corr_matrix)\n",
    "plt.colorbar()\n",
    "corr_matrix"
   ]
  },
  {
   "cell_type": "code",
   "execution_count": null,
   "metadata": {},
   "outputs": [],
   "source": []
  }
 ],
 "metadata": {
  "kernelspec": {
   "display_name": "Python 3",
   "language": "python",
   "name": "python3"
  },
  "language_info": {
   "codemirror_mode": {
    "name": "ipython",
    "version": 3
   },
   "file_extension": ".py",
   "mimetype": "text/x-python",
   "name": "python",
   "nbconvert_exporter": "python",
   "pygments_lexer": "ipython3",
   "version": "3.7.4"
  }
 },
 "nbformat": 4,
 "nbformat_minor": 4
}
