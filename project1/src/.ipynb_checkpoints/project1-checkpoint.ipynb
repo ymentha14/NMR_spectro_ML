{
 "cells": [
  {
   "cell_type": "markdown",
   "metadata": {},
   "source": [
    "## Classification ML project"
   ]
  },
  {
   "cell_type": "code",
   "execution_count": 1,
   "metadata": {},
   "outputs": [
    {
     "data": {
      "image/svg+xml": [
       "<svg height=\"1321px\" version=\"1.1\" width=\"731px\" xmlns=\"http://www.w3.org/2000/svg\" xmlns:xlink=\"http://www.w3.org/1999/xlink\"><defs/><g transform=\"translate(0.5,0.5)\"><path d=\"M 0 1118 L 730 1118 M 730 1122 L 0 1122 M 730 1122\" fill=\"none\" pointer-events=\"none\" stroke=\"#000000\" stroke-linejoin=\"round\" stroke-miterlimit=\"10\"/><path d=\"M 215 80 L 215 110 L 322 110 L 322 133.63\" fill=\"none\" pointer-events=\"none\" stroke=\"#000000\" stroke-miterlimit=\"10\"/><path d=\"M 322 138.88 L 318.5 131.88 L 322 133.63 L 325.5 131.88 Z\" fill=\"#000000\" pointer-events=\"none\" stroke=\"#000000\" stroke-miterlimit=\"10\"/><rect fill=\"#ffffff\" height=\"80\" pointer-events=\"none\" stroke=\"#000000\" width=\"130\" x=\"150\" y=\"0\"/><g transform=\"translate(168.5,33.5)\"><switch><foreignObject height=\"12\" pointer-events=\"all\" requiredFeatures=\"http://www.w3.org/TR/SVG11/feature#Extensibility\" style=\"overflow:visible;\" width=\"93\"><div style=\"display: inline-block; font-size: 12px; font-family: Helvetica; color: rgb(0, 0, 0); line-height: 1.2; vertical-align: top; width: 94px; white-space: nowrap; overflow-wrap: normal; text-align: center;\" xmlns=\"http://www.w3.org/1999/xhtml\"><div style=\"display:inline-block;text-align:inherit;text-decoration:inherit;\" xmlns=\"http://www.w3.org/1999/xhtml\"><span>tX </span><i>whole dataset)</i></div></div></foreignObject><text fill=\"#000000\" font-family=\"Helvetica\" font-size=\"12px\" text-anchor=\"middle\" x=\"47\" y=\"12\">[Not supported by viewer]</text></switch></g><path d=\"M 322 80 L 322 133.63\" fill=\"none\" pointer-events=\"none\" stroke=\"#000000\" stroke-miterlimit=\"10\"/><path d=\"M 322 138.88 L 318.5 131.88 L 322 133.63 L 325.5 131.88 Z\" fill=\"#000000\" pointer-events=\"none\" stroke=\"#000000\" stroke-miterlimit=\"10\"/><rect fill=\"#ffffff\" height=\"80\" pointer-events=\"none\" stroke=\"#000000\" width=\"36\" x=\"304\" y=\"0\"/><g transform=\"translate(316.5,33.5)\"><switch><foreignObject height=\"12\" pointer-events=\"all\" requiredFeatures=\"http://www.w3.org/TR/SVG11/feature#Extensibility\" style=\"overflow:visible;\" width=\"10\"><div style=\"display: inline-block; font-size: 12px; font-family: Helvetica; color: rgb(0, 0, 0); line-height: 1.2; vertical-align: top; width: 10px; white-space: nowrap; overflow-wrap: normal; text-align: center;\" xmlns=\"http://www.w3.org/1999/xhtml\"><div style=\"display:inline-block;text-align:inherit;text-decoration:inherit;\" xmlns=\"http://www.w3.org/1999/xhtml\">ty</div></div></foreignObject><text fill=\"#000000\" font-family=\"Helvetica\" font-size=\"12px\" text-anchor=\"middle\" x=\"5\" y=\"12\">ty</text></switch></g><path d=\"M 322 240 L 322 220 L 200 220 L 200 233.63\" fill=\"none\" pointer-events=\"none\" stroke=\"#000000\" stroke-miterlimit=\"10\"/><path d=\"M 200 238.88 L 196.5 231.88 L 200 233.63 L 203.5 231.88 Z\" fill=\"#000000\" pointer-events=\"none\" stroke=\"#000000\" stroke-miterlimit=\"10\"/><path d=\"M 322 220 L 488 220 L 488 231.63\" fill=\"none\" pointer-events=\"none\" stroke=\"#000000\" stroke-miterlimit=\"10\"/><path d=\"M 488 236.88 L 484.5 229.88 L 488 231.63 L 491.5 229.88 Z\" fill=\"#000000\" pointer-events=\"none\" stroke=\"#000000\" stroke-miterlimit=\"10\"/><ellipse cx=\"322\" cy=\"180\" fill=\"#ffffff\" pointer-events=\"none\" rx=\"60\" ry=\"40\" stroke=\"#000000\"/><g transform=\"translate(263.5,173.5)\"><switch><foreignObject height=\"12\" pointer-events=\"all\" requiredFeatures=\"http://www.w3.org/TR/SVG11/feature#Extensibility\" style=\"overflow:visible;\" width=\"116\"><div style=\"display: inline-block; font-size: 12px; font-family: Helvetica; color: rgb(0, 0, 0); line-height: 1.2; vertical-align: top; width: 117px; white-space: nowrap; overflow-wrap: normal; text-align: center;\" xmlns=\"http://www.w3.org/1999/xhtml\"><div style=\"display:inline-block;text-align:inherit;text-decoration:inherit;\" xmlns=\"http://www.w3.org/1999/xhtml\">split_categorical_data</div></div></foreignObject><text fill=\"#000000\" font-family=\"Helvetica\" font-size=\"12px\" text-anchor=\"middle\" x=\"58\" y=\"12\">split_categorical_data</text></switch></g><path d=\"M 480 80 L 480 110 L 322 110 L 322 133.63\" fill=\"none\" pointer-events=\"none\" stroke=\"#000000\" stroke-miterlimit=\"10\"/><path d=\"M 322 138.88 L 318.5 131.88 L 322 133.63 L 325.5 131.88 Z\" fill=\"#000000\" pointer-events=\"none\" stroke=\"#000000\" stroke-miterlimit=\"10\"/><rect fill=\"#ffffff\" height=\"80\" pointer-events=\"none\" stroke=\"#000000\" width=\"120\" x=\"400\" y=\"0\"/><g transform=\"translate(438.5,33.5)\"><switch><foreignObject height=\"12\" pointer-events=\"all\" requiredFeatures=\"http://www.w3.org/TR/SVG11/feature#Extensibility\" style=\"overflow:visible;\" width=\"42\"><div style=\"display: inline-block; font-size: 12px; font-family: Helvetica; color: rgb(0, 0, 0); line-height: 1.2; vertical-align: top; width: 43px; white-space: nowrap; overflow-wrap: normal; text-align: center;\" xmlns=\"http://www.w3.org/1999/xhtml\"><div style=\"display:inline-block;text-align:inherit;text-decoration:inherit;\" xmlns=\"http://www.w3.org/1999/xhtml\">test_set</div></div></foreignObject><text fill=\"#000000\" font-family=\"Helvetica\" font-size=\"12px\" text-anchor=\"middle\" x=\"21\" y=\"12\">test_set</text></switch></g><path d=\"M 265 340 L 330 340 L 330 413.63\" fill=\"none\" pointer-events=\"none\" stroke=\"#000000\" stroke-miterlimit=\"10\"/><path d=\"M 330 418.88 L 326.5 411.88 L 330 413.63 L 333.5 411.88 Z\" fill=\"#000000\" pointer-events=\"none\" stroke=\"#000000\" stroke-miterlimit=\"10\"/><path d=\"M 440 340 L 330 340 L 330 413.63\" fill=\"none\" pointer-events=\"none\" stroke=\"#000000\" stroke-miterlimit=\"10\"/><path d=\"M 330 418.88 L 326.5 411.88 L 330 413.63 L 333.5 411.88 Z\" fill=\"#000000\" pointer-events=\"none\" stroke=\"#000000\" stroke-miterlimit=\"10\"/><path d=\"M 330 500 L 330 520 L 330 500 L 330 513.63\" fill=\"none\" pointer-events=\"none\" stroke=\"#000000\" stroke-miterlimit=\"10\"/><path d=\"M 330 518.88 L 326.5 511.88 L 330 513.63 L 333.5 511.88 Z\" fill=\"#000000\" pointer-events=\"none\" stroke=\"#000000\" stroke-miterlimit=\"10\"/><ellipse cx=\"330\" cy=\"460\" fill=\"#ffffff\" pointer-events=\"none\" rx=\"60\" ry=\"40\" stroke=\"#000000\"/><g transform=\"translate(289.5,453.5)\"><switch><foreignObject height=\"12\" pointer-events=\"all\" requiredFeatures=\"http://www.w3.org/TR/SVG11/feature#Extensibility\" style=\"overflow:visible;\" width=\"81\"><div style=\"display: inline-block; font-size: 12px; font-family: Helvetica; color: rgb(0, 0, 0); line-height: 1.2; vertical-align: top; width: 82px; white-space: nowrap; overflow-wrap: normal; text-align: center;\" xmlns=\"http://www.w3.org/1999/xhtml\"><div style=\"display:inline-block;text-align:inherit;text-decoration:inherit;\" xmlns=\"http://www.w3.org/1999/xhtml\">clean_variance</div></div></foreignObject><text fill=\"#000000\" font-family=\"Helvetica\" font-size=\"12px\" text-anchor=\"middle\" x=\"41\" y=\"12\">clean_variance</text></switch></g><rect fill=\"#ffffff\" height=\"40\" pointer-events=\"none\" stroke=\"#000000\" width=\"130\" x=\"135\" y=\"240\"/><g transform=\"translate(193.5,253.5)\"><switch><foreignObject height=\"12\" pointer-events=\"all\" requiredFeatures=\"http://www.w3.org/TR/SVG11/feature#Extensibility\" style=\"overflow:visible;\" width=\"13\"><div style=\"display: inline-block; font-size: 12px; font-family: Helvetica; color: rgb(0, 0, 0); line-height: 1.2; vertical-align: top; width: 14px; white-space: nowrap; overflow-wrap: normal; text-align: center;\" xmlns=\"http://www.w3.org/1999/xhtml\"><div style=\"display:inline-block;text-align:inherit;text-decoration:inherit;\" xmlns=\"http://www.w3.org/1999/xhtml\">x0</div></div></foreignObject><text fill=\"#000000\" font-family=\"Helvetica\" font-size=\"12px\" text-anchor=\"middle\" x=\"7\" y=\"12\">x0</text></switch></g><rect fill=\"#ffffff\" height=\"40\" pointer-events=\"none\" stroke=\"#000000\" width=\"130\" x=\"135\" y=\"280\"/><g transform=\"translate(193.5,293.5)\"><switch><foreignObject height=\"12\" pointer-events=\"all\" requiredFeatures=\"http://www.w3.org/TR/SVG11/feature#Extensibility\" style=\"overflow:visible;\" width=\"13\"><div style=\"display: inline-block; font-size: 12px; font-family: Helvetica; color: rgb(0, 0, 0); line-height: 1.2; vertical-align: top; width: 14px; white-space: nowrap; overflow-wrap: normal; text-align: center;\" xmlns=\"http://www.w3.org/1999/xhtml\"><div style=\"display:inline-block;text-align:inherit;text-decoration:inherit;\" xmlns=\"http://www.w3.org/1999/xhtml\">x1</div></div></foreignObject><text fill=\"#000000\" font-family=\"Helvetica\" font-size=\"12px\" text-anchor=\"middle\" x=\"7\" y=\"12\">x1</text></switch></g><rect fill=\"#ffffff\" height=\"40\" pointer-events=\"none\" stroke=\"#000000\" width=\"130\" x=\"135\" y=\"320\"/><g transform=\"translate(193.5,333.5)\"><switch><foreignObject height=\"12\" pointer-events=\"all\" requiredFeatures=\"http://www.w3.org/TR/SVG11/feature#Extensibility\" style=\"overflow:visible;\" width=\"13\"><div style=\"display: inline-block; font-size: 12px; font-family: Helvetica; color: rgb(0, 0, 0); line-height: 1.2; vertical-align: top; width: 14px; white-space: nowrap; overflow-wrap: normal; text-align: center;\" xmlns=\"http://www.w3.org/1999/xhtml\"><div style=\"display:inline-block;text-align:inherit;text-decoration:inherit;\" xmlns=\"http://www.w3.org/1999/xhtml\">x2</div></div></foreignObject><text fill=\"#000000\" font-family=\"Helvetica\" font-size=\"12px\" text-anchor=\"middle\" x=\"7\" y=\"12\">x2</text></switch></g><path d=\"M 233 360 L 233 360\" fill=\"none\" pointer-events=\"none\" stroke=\"#000000\" stroke-miterlimit=\"10\"/><path d=\"M 233 360 L 233 360 L 233 360 L 233 360 Z\" fill=\"#000000\" pointer-events=\"none\" stroke=\"#000000\" stroke-miterlimit=\"10\"/><rect fill=\"#ffffff\" height=\"40\" pointer-events=\"none\" stroke=\"#000000\" width=\"130\" x=\"440\" y=\"240\"/><g transform=\"translate(481.5,253.5)\"><switch><foreignObject height=\"12\" pointer-events=\"all\" requiredFeatures=\"http://www.w3.org/TR/SVG11/feature#Extensibility\" style=\"overflow:visible;\" width=\"46\"><div style=\"display: inline-block; font-size: 12px; font-family: Helvetica; color: rgb(0, 0, 0); line-height: 1.2; vertical-align: top; width: 46px; white-space: nowrap; overflow-wrap: normal; text-align: center;\" xmlns=\"http://www.w3.org/1999/xhtml\"><div style=\"display:inline-block;text-align:inherit;text-decoration:inherit;\" xmlns=\"http://www.w3.org/1999/xhtml\">x_test_0</div></div></foreignObject><text fill=\"#000000\" font-family=\"Helvetica\" font-size=\"12px\" text-anchor=\"middle\" x=\"23\" y=\"12\">x_test_0</text></switch></g><rect fill=\"#ffffff\" height=\"40\" pointer-events=\"none\" stroke=\"#000000\" width=\"130\" x=\"440\" y=\"280\"/><g transform=\"translate(481.5,293.5)\"><switch><foreignObject height=\"12\" pointer-events=\"all\" requiredFeatures=\"http://www.w3.org/TR/SVG11/feature#Extensibility\" style=\"overflow:visible;\" width=\"46\"><div style=\"display: inline-block; font-size: 12px; font-family: Helvetica; color: rgb(0, 0, 0); line-height: 1.2; vertical-align: top; width: 46px; white-space: nowrap; overflow-wrap: normal; text-align: center;\" xmlns=\"http://www.w3.org/1999/xhtml\"><div style=\"display:inline-block;text-align:inherit;text-decoration:inherit;\" xmlns=\"http://www.w3.org/1999/xhtml\">x_test_1</div></div></foreignObject><text fill=\"#000000\" font-family=\"Helvetica\" font-size=\"12px\" text-anchor=\"middle\" x=\"23\" y=\"12\">x_test_1</text></switch></g><rect fill=\"#ffffff\" height=\"40\" pointer-events=\"none\" stroke=\"#000000\" width=\"130\" x=\"440\" y=\"320\"/><g transform=\"translate(481.5,333.5)\"><switch><foreignObject height=\"12\" pointer-events=\"all\" requiredFeatures=\"http://www.w3.org/TR/SVG11/feature#Extensibility\" style=\"overflow:visible;\" width=\"46\"><div style=\"display: inline-block; font-size: 12px; font-family: Helvetica; color: rgb(0, 0, 0); line-height: 1.2; vertical-align: top; width: 46px; white-space: nowrap; overflow-wrap: normal; text-align: center;\" xmlns=\"http://www.w3.org/1999/xhtml\"><div style=\"display:inline-block;text-align:inherit;text-decoration:inherit;\" xmlns=\"http://www.w3.org/1999/xhtml\">x_test_2</div></div></foreignObject><text fill=\"#000000\" font-family=\"Helvetica\" font-size=\"12px\" text-anchor=\"middle\" x=\"23\" y=\"12\">x_test_2</text></switch></g><rect fill=\"#ffffff\" height=\"40\" pointer-events=\"none\" stroke=\"#000000\" width=\"36\" x=\"304\" y=\"240\"/><g transform=\"translate(315.5,253.5)\"><switch><foreignObject height=\"12\" pointer-events=\"all\" requiredFeatures=\"http://www.w3.org/TR/SVG11/feature#Extensibility\" style=\"overflow:visible;\" width=\"13\"><div style=\"display: inline-block; font-size: 12px; font-family: Helvetica; color: rgb(0, 0, 0); line-height: 1.2; vertical-align: top; width: 14px; white-space: nowrap; overflow-wrap: normal; text-align: center;\" xmlns=\"http://www.w3.org/1999/xhtml\"><div style=\"display:inline-block;text-align:inherit;text-decoration:inherit;\" xmlns=\"http://www.w3.org/1999/xhtml\">y0</div></div></foreignObject><text fill=\"#000000\" font-family=\"Helvetica\" font-size=\"12px\" text-anchor=\"middle\" x=\"7\" y=\"12\">y0</text></switch></g><rect fill=\"#ffffff\" height=\"40\" pointer-events=\"none\" stroke=\"#000000\" width=\"36\" x=\"304\" y=\"280\"/><g transform=\"translate(315.5,293.5)\"><switch><foreignObject height=\"12\" pointer-events=\"all\" requiredFeatures=\"http://www.w3.org/TR/SVG11/feature#Extensibility\" style=\"overflow:visible;\" width=\"13\"><div style=\"display: inline-block; font-size: 12px; font-family: Helvetica; color: rgb(0, 0, 0); line-height: 1.2; vertical-align: top; width: 14px; white-space: nowrap; overflow-wrap: normal; text-align: center;\" xmlns=\"http://www.w3.org/1999/xhtml\"><div style=\"display:inline-block;text-align:inherit;text-decoration:inherit;\" xmlns=\"http://www.w3.org/1999/xhtml\">y1</div></div></foreignObject><text fill=\"#000000\" font-family=\"Helvetica\" font-size=\"12px\" text-anchor=\"middle\" x=\"7\" y=\"12\">y1</text></switch></g><rect fill=\"#ffffff\" height=\"40\" pointer-events=\"none\" stroke=\"#000000\" width=\"36\" x=\"304\" y=\"320\"/><g transform=\"translate(315.5,333.5)\"><switch><foreignObject height=\"12\" pointer-events=\"all\" requiredFeatures=\"http://www.w3.org/TR/SVG11/feature#Extensibility\" style=\"overflow:visible;\" width=\"13\"><div style=\"display: inline-block; font-size: 12px; font-family: Helvetica; color: rgb(0, 0, 0); line-height: 1.2; vertical-align: top; width: 14px; white-space: nowrap; overflow-wrap: normal; text-align: center;\" xmlns=\"http://www.w3.org/1999/xhtml\"><div style=\"display:inline-block;text-align:inherit;text-decoration:inherit;\" xmlns=\"http://www.w3.org/1999/xhtml\">y2</div></div></foreignObject><text fill=\"#000000\" font-family=\"Helvetica\" font-size=\"12px\" text-anchor=\"middle\" x=\"7\" y=\"12\">y2</text></switch></g><path d=\"M 330 600 L 330 620 L 330 600 L 330 613.63\" fill=\"none\" pointer-events=\"none\" stroke=\"#000000\" stroke-miterlimit=\"10\"/><path d=\"M 330 618.88 L 326.5 611.88 L 330 613.63 L 333.5 611.88 Z\" fill=\"#000000\" pointer-events=\"none\" stroke=\"#000000\" stroke-miterlimit=\"10\"/><path d=\"M 270 560 Q 30 560 30 835 Q 30 1110 155 1110 Q 280 1110 280 1106.37\" fill=\"none\" pointer-events=\"none\" stroke=\"#000000\" stroke-dasharray=\"3 3\" stroke-miterlimit=\"10\"/><path d=\"M 280 1101.12 L 283.5 1108.12 L 280 1106.37 L 276.5 1108.12 Z\" fill=\"#000000\" pointer-events=\"none\" stroke=\"#000000\" stroke-miterlimit=\"10\"/><ellipse cx=\"330\" cy=\"560\" fill=\"#ffffff\" pointer-events=\"none\" rx=\"60\" ry=\"40\" stroke=\"#000000\"/><g transform=\"translate(301.5,553.5)\"><switch><foreignObject height=\"12\" pointer-events=\"all\" requiredFeatures=\"http://www.w3.org/TR/SVG11/feature#Extensibility\" style=\"overflow:visible;\" width=\"56\"><div style=\"display: inline-block; font-size: 12px; font-family: Helvetica; color: rgb(0, 0, 0); line-height: 1.2; vertical-align: top; width: 57px; white-space: nowrap; overflow-wrap: normal; text-align: center;\" xmlns=\"http://www.w3.org/1999/xhtml\"><div style=\"display:inline-block;text-align:inherit;text-decoration:inherit;\" xmlns=\"http://www.w3.org/1999/xhtml\">clean -999</div></div></foreignObject><text fill=\"#000000\" font-family=\"Helvetica\" font-size=\"12px\" text-anchor=\"middle\" x=\"28\" y=\"12\">clean -999</text></switch></g><path d=\"M 330 700 L 330 720 L 330 700 L 330 713.63\" fill=\"none\" pointer-events=\"none\" stroke=\"#000000\" stroke-miterlimit=\"10\"/><path d=\"M 330 718.88 L 326.5 711.88 L 330 713.63 L 333.5 711.88 Z\" fill=\"#000000\" pointer-events=\"none\" stroke=\"#000000\" stroke-miterlimit=\"10\"/><path d=\"M 289.46 689.49 Q 220 740 155 800 Q 90 860 75 890 Q 60 920 50 950 Q 40 980 60 1015 Q 80 1050 110 1060 Q 140 1070 175 1085 Q 210 1100 273.63 1100\" fill=\"none\" pointer-events=\"none\" stroke=\"#000000\" stroke-dasharray=\"3 3\" stroke-miterlimit=\"10\"/><path d=\"M 278.88 1100 L 271.88 1103.5 L 273.63 1100 L 271.88 1096.5 Z\" fill=\"#000000\" pointer-events=\"none\" stroke=\"#000000\" stroke-miterlimit=\"10\"/><ellipse cx=\"330\" cy=\"660\" fill=\"#ffffff\" pointer-events=\"none\" rx=\"60\" ry=\"40\" stroke=\"#000000\"/><g transform=\"translate(298.5,653.5)\"><switch><foreignObject height=\"12\" pointer-events=\"all\" requiredFeatures=\"http://www.w3.org/TR/SVG11/feature#Extensibility\" style=\"overflow:visible;\" width=\"62\"><div style=\"display: inline-block; font-size: 12px; font-family: Helvetica; color: rgb(0, 0, 0); line-height: 1.2; vertical-align: top; width: 63px; white-space: nowrap; overflow-wrap: normal; text-align: center;\" xmlns=\"http://www.w3.org/1999/xhtml\"><div style=\"display:inline-block;text-align:inherit;text-decoration:inherit;\" xmlns=\"http://www.w3.org/1999/xhtml\">standardize</div></div></foreignObject><text fill=\"#000000\" font-family=\"Helvetica\" font-size=\"12px\" text-anchor=\"middle\" x=\"31\" y=\"12\">standardize</text></switch></g><path d=\"M 330 800 L 330 820 L 330 790 L 330 803.63\" fill=\"none\" pointer-events=\"none\" stroke=\"#000000\" stroke-miterlimit=\"10\"/><path d=\"M 330 808.88 L 326.5 801.88 L 330 803.63 L 333.5 801.88 Z\" fill=\"#000000\" pointer-events=\"none\" stroke=\"#000000\" stroke-miterlimit=\"10\"/><path d=\"M 281.31 783.37 Q -170 1000 270.82 1108.48\" fill=\"none\" pointer-events=\"none\" stroke=\"#000000\" stroke-dasharray=\"3 3\" stroke-miterlimit=\"10\"/><path d=\"M 275.91 1109.73 L 268.28 1111.46 L 270.82 1108.48 L 269.95 1104.66 Z\" fill=\"#000000\" pointer-events=\"none\" stroke=\"#000000\" stroke-miterlimit=\"10\"/><ellipse cx=\"330\" cy=\"760\" fill=\"#ffffff\" pointer-events=\"none\" rx=\"60\" ry=\"40\" stroke=\"#000000\"/><g transform=\"translate(317.5,753.5)\"><switch><foreignObject height=\"12\" pointer-events=\"all\" requiredFeatures=\"http://www.w3.org/TR/SVG11/feature#Extensibility\" style=\"overflow:visible;\" width=\"25\"><div style=\"display: inline-block; font-size: 12px; font-family: Helvetica; color: rgb(0, 0, 0); line-height: 1.2; vertical-align: top; width: 26px; white-space: nowrap; overflow-wrap: normal; text-align: center;\" xmlns=\"http://www.w3.org/1999/xhtml\"><div style=\"display:inline-block;text-align:inherit;text-decoration:inherit;\" xmlns=\"http://www.w3.org/1999/xhtml\">PCA</div></div></foreignObject><text fill=\"#000000\" font-family=\"Helvetica\" font-size=\"12px\" text-anchor=\"middle\" x=\"13\" y=\"12\">PCA</text></switch></g><path d=\"M 270 850 L 200 850 L 200 913.63\" fill=\"none\" pointer-events=\"none\" stroke=\"#000000\" stroke-miterlimit=\"10\"/><path d=\"M 200 918.88 L 196.5 911.88 L 200 913.63 L 203.5 911.88 Z\" fill=\"#000000\" pointer-events=\"none\" stroke=\"#000000\" stroke-miterlimit=\"10\"/><path d=\"M 381.96 870 L 484 870 L 484 910.63\" fill=\"none\" pointer-events=\"none\" stroke=\"#000000\" stroke-miterlimit=\"10\"/><path d=\"M 484 915.88 L 480.5 908.88 L 484 910.63 L 487.5 908.88 Z\" fill=\"#000000\" pointer-events=\"none\" stroke=\"#000000\" stroke-miterlimit=\"10\"/><path d=\"M 330 890 L 330 910 L 330 900 L 330 913.63\" fill=\"none\" pointer-events=\"none\" stroke=\"#000000\" stroke-miterlimit=\"10\"/><path d=\"M 330 918.88 L 326.5 911.88 L 330 913.63 L 333.5 911.88 Z\" fill=\"#000000\" pointer-events=\"none\" stroke=\"#000000\" stroke-miterlimit=\"10\"/><ellipse cx=\"330\" cy=\"850\" fill=\"#ffffff\" pointer-events=\"none\" rx=\"60\" ry=\"40\" stroke=\"#000000\"/><g transform=\"translate(297.5,843.5)\"><switch><foreignObject height=\"12\" pointer-events=\"all\" requiredFeatures=\"http://www.w3.org/TR/SVG11/feature#Extensibility\" style=\"overflow:visible;\" width=\"64\"><div style=\"display: inline-block; font-size: 12px; font-family: Helvetica; color: rgb(0, 0, 0); line-height: 1.2; vertical-align: top; width: 64px; white-space: nowrap; overflow-wrap: normal; text-align: center;\" xmlns=\"http://www.w3.org/1999/xhtml\"><div style=\"display:inline-block;text-align:inherit;text-decoration:inherit;\" xmlns=\"http://www.w3.org/1999/xhtml\">feature_exp</div></div></foreignObject><text fill=\"#000000\" font-family=\"Helvetica\" font-size=\"12px\" text-anchor=\"middle\" x=\"32\" y=\"12\">feature_exp</text></switch></g><rect fill=\"#ffffff\" height=\"40\" pointer-events=\"none\" stroke=\"#000000\" width=\"180\" x=\"110\" y=\"920\"/><g transform=\"translate(193.5,933.5)\"><switch><foreignObject height=\"12\" pointer-events=\"all\" requiredFeatures=\"http://www.w3.org/TR/SVG11/feature#Extensibility\" style=\"overflow:visible;\" width=\"13\"><div style=\"display: inline-block; font-size: 12px; font-family: Helvetica; color: rgb(0, 0, 0); line-height: 1.2; vertical-align: top; width: 14px; white-space: nowrap; overflow-wrap: normal; text-align: center;\" xmlns=\"http://www.w3.org/1999/xhtml\"><div style=\"display:inline-block;text-align:inherit;text-decoration:inherit;\" xmlns=\"http://www.w3.org/1999/xhtml\">x0</div></div></foreignObject><text fill=\"#000000\" font-family=\"Helvetica\" font-size=\"12px\" text-anchor=\"middle\" x=\"7\" y=\"12\">x0</text></switch></g><rect fill=\"#ffffff\" height=\"40\" pointer-events=\"none\" stroke=\"#000000\" width=\"180\" x=\"110\" y=\"960\"/><g transform=\"translate(193.5,973.5)\"><switch><foreignObject height=\"12\" pointer-events=\"all\" requiredFeatures=\"http://www.w3.org/TR/SVG11/feature#Extensibility\" style=\"overflow:visible;\" width=\"13\"><div style=\"display: inline-block; font-size: 12px; font-family: Helvetica; color: rgb(0, 0, 0); line-height: 1.2; vertical-align: top; width: 14px; white-space: nowrap; overflow-wrap: normal; text-align: center;\" xmlns=\"http://www.w3.org/1999/xhtml\"><div style=\"display:inline-block;text-align:inherit;text-decoration:inherit;\" xmlns=\"http://www.w3.org/1999/xhtml\">x1</div></div></foreignObject><text fill=\"#000000\" font-family=\"Helvetica\" font-size=\"12px\" text-anchor=\"middle\" x=\"7\" y=\"12\">x1</text></switch></g><rect fill=\"#ffffff\" height=\"40\" pointer-events=\"none\" stroke=\"#000000\" width=\"180\" x=\"110\" y=\"1000\"/><g transform=\"translate(193.5,1013.5)\"><switch><foreignObject height=\"12\" pointer-events=\"all\" requiredFeatures=\"http://www.w3.org/TR/SVG11/feature#Extensibility\" style=\"overflow:visible;\" width=\"13\"><div style=\"display: inline-block; font-size: 12px; font-family: Helvetica; color: rgb(0, 0, 0); line-height: 1.2; vertical-align: top; width: 14px; white-space: nowrap; overflow-wrap: normal; text-align: center;\" xmlns=\"http://www.w3.org/1999/xhtml\"><div style=\"display:inline-block;text-align:inherit;text-decoration:inherit;\" xmlns=\"http://www.w3.org/1999/xhtml\">x2</div></div></foreignObject><text fill=\"#000000\" font-family=\"Helvetica\" font-size=\"12px\" text-anchor=\"middle\" x=\"7\" y=\"12\">x2</text></switch></g><path d=\"M 245 1040 L 245 1040\" fill=\"none\" pointer-events=\"none\" stroke=\"#000000\" stroke-miterlimit=\"10\"/><path d=\"M 245 1040 L 245 1040 L 245 1040 L 245 1040 Z\" fill=\"#000000\" pointer-events=\"none\" stroke=\"#000000\" stroke-miterlimit=\"10\"/><path d=\"M 245 1040 Q 245 1040 245 1040\" fill=\"none\" pointer-events=\"none\" stroke=\"#000000\" stroke-dasharray=\"3 3\" stroke-miterlimit=\"10\"/><path d=\"M 245 1040 L 245 1040 L 245 1040 L 245 1040 Z\" fill=\"#000000\" pointer-events=\"none\" stroke=\"#000000\" stroke-miterlimit=\"10\"/><rect fill=\"#ffffff\" height=\"40\" pointer-events=\"none\" stroke=\"#000000\" width=\"36\" x=\"312\" y=\"920\"/><g transform=\"translate(323.5,933.5)\"><switch><foreignObject height=\"12\" pointer-events=\"all\" requiredFeatures=\"http://www.w3.org/TR/SVG11/feature#Extensibility\" style=\"overflow:visible;\" width=\"13\"><div style=\"display: inline-block; font-size: 12px; font-family: Helvetica; color: rgb(0, 0, 0); line-height: 1.2; vertical-align: top; width: 14px; white-space: nowrap; overflow-wrap: normal; text-align: center;\" xmlns=\"http://www.w3.org/1999/xhtml\"><div style=\"display:inline-block;text-align:inherit;text-decoration:inherit;\" xmlns=\"http://www.w3.org/1999/xhtml\">y0</div></div></foreignObject><text fill=\"#000000\" font-family=\"Helvetica\" font-size=\"12px\" text-anchor=\"middle\" x=\"7\" y=\"12\">y0</text></switch></g><rect fill=\"#ffffff\" height=\"40\" pointer-events=\"none\" stroke=\"#000000\" width=\"36\" x=\"312\" y=\"960\"/><g transform=\"translate(323.5,973.5)\"><switch><foreignObject height=\"12\" pointer-events=\"all\" requiredFeatures=\"http://www.w3.org/TR/SVG11/feature#Extensibility\" style=\"overflow:visible;\" width=\"13\"><div style=\"display: inline-block; font-size: 12px; font-family: Helvetica; color: rgb(0, 0, 0); line-height: 1.2; vertical-align: top; width: 14px; white-space: nowrap; overflow-wrap: normal; text-align: center;\" xmlns=\"http://www.w3.org/1999/xhtml\"><div style=\"display:inline-block;text-align:inherit;text-decoration:inherit;\" xmlns=\"http://www.w3.org/1999/xhtml\">y1</div></div></foreignObject><text fill=\"#000000\" font-family=\"Helvetica\" font-size=\"12px\" text-anchor=\"middle\" x=\"7\" y=\"12\">y1</text></switch></g><rect fill=\"#ffffff\" height=\"40\" pointer-events=\"none\" stroke=\"#000000\" width=\"36\" x=\"312\" y=\"1000\"/><g transform=\"translate(323.5,1013.5)\"><switch><foreignObject height=\"12\" pointer-events=\"all\" requiredFeatures=\"http://www.w3.org/TR/SVG11/feature#Extensibility\" style=\"overflow:visible;\" width=\"13\"><div style=\"display: inline-block; font-size: 12px; font-family: Helvetica; color: rgb(0, 0, 0); line-height: 1.2; vertical-align: top; width: 14px; white-space: nowrap; overflow-wrap: normal; text-align: center;\" xmlns=\"http://www.w3.org/1999/xhtml\"><div style=\"display:inline-block;text-align:inherit;text-decoration:inherit;\" xmlns=\"http://www.w3.org/1999/xhtml\">y2</div></div></foreignObject><text fill=\"#000000\" font-family=\"Helvetica\" font-size=\"12px\" text-anchor=\"middle\" x=\"7\" y=\"12\">y2</text></switch></g><rect fill=\"#ffffff\" height=\"40\" pointer-events=\"none\" stroke=\"#000000\" width=\"180\" x=\"380\" y=\"920\"/><g transform=\"translate(446.5,933.5)\"><switch><foreignObject height=\"12\" pointer-events=\"all\" requiredFeatures=\"http://www.w3.org/TR/SVG11/feature#Extensibility\" style=\"overflow:visible;\" width=\"46\"><div style=\"display: inline-block; font-size: 12px; font-family: Helvetica; color: rgb(0, 0, 0); line-height: 1.2; vertical-align: top; width: 46px; white-space: nowrap; overflow-wrap: normal; text-align: center;\" xmlns=\"http://www.w3.org/1999/xhtml\"><div style=\"display:inline-block;text-align:inherit;text-decoration:inherit;\" xmlns=\"http://www.w3.org/1999/xhtml\">x_test_0</div></div></foreignObject><text fill=\"#000000\" font-family=\"Helvetica\" font-size=\"12px\" text-anchor=\"middle\" x=\"23\" y=\"12\">x_test_0</text></switch></g><rect fill=\"#ffffff\" height=\"40\" pointer-events=\"none\" stroke=\"#000000\" width=\"180\" x=\"380\" y=\"960\"/><g transform=\"translate(446.5,973.5)\"><switch><foreignObject height=\"12\" pointer-events=\"all\" requiredFeatures=\"http://www.w3.org/TR/SVG11/feature#Extensibility\" style=\"overflow:visible;\" width=\"46\"><div style=\"display: inline-block; font-size: 12px; font-family: Helvetica; color: rgb(0, 0, 0); line-height: 1.2; vertical-align: top; width: 46px; white-space: nowrap; overflow-wrap: normal; text-align: center;\" xmlns=\"http://www.w3.org/1999/xhtml\"><div style=\"display:inline-block;text-align:inherit;text-decoration:inherit;\" xmlns=\"http://www.w3.org/1999/xhtml\">x_test_1</div></div></foreignObject><text fill=\"#000000\" font-family=\"Helvetica\" font-size=\"12px\" text-anchor=\"middle\" x=\"23\" y=\"12\">x_test_1</text></switch></g><rect fill=\"#ffffff\" height=\"40\" pointer-events=\"none\" stroke=\"#000000\" width=\"180\" x=\"380\" y=\"1000\"/><g transform=\"translate(446.5,1013.5)\"><switch><foreignObject height=\"12\" pointer-events=\"all\" requiredFeatures=\"http://www.w3.org/TR/SVG11/feature#Extensibility\" style=\"overflow:visible;\" width=\"46\"><div style=\"display: inline-block; font-size: 12px; font-family: Helvetica; color: rgb(0, 0, 0); line-height: 1.2; vertical-align: top; width: 46px; white-space: nowrap; overflow-wrap: normal; text-align: center;\" xmlns=\"http://www.w3.org/1999/xhtml\"><div style=\"display:inline-block;text-align:inherit;text-decoration:inherit;\" xmlns=\"http://www.w3.org/1999/xhtml\">x_test_2</div></div></foreignObject><text fill=\"#000000\" font-family=\"Helvetica\" font-size=\"12px\" text-anchor=\"middle\" x=\"23\" y=\"12\">x_test_2</text></switch></g><path d=\"M 282 1125.58 L 155.36 1206.57\" fill=\"none\" pointer-events=\"none\" stroke=\"#000000\" stroke-miterlimit=\"10\"/><path d=\"M 150.94 1209.4 L 154.95 1202.68 L 155.36 1206.57 L 158.72 1208.57 Z\" fill=\"#000000\" pointer-events=\"none\" stroke=\"#000000\" stroke-miterlimit=\"10\"/><path d=\"M 329.43 1140 L 346.84 1233.74\" fill=\"none\" pointer-events=\"none\" stroke=\"#000000\" stroke-miterlimit=\"10\"/><path d=\"M 347.8 1238.9 L 343.08 1232.66 L 346.84 1233.74 L 349.96 1231.38 Z\" fill=\"#000000\" pointer-events=\"none\" stroke=\"#000000\" stroke-miterlimit=\"10\"/><path d=\"M 362 1115.79 L 369.88 1118.9 C 371.31 1115.27 376.89 1117.47 375.46 1121.1 L 375.46 1121.1 L 544.08 1187.66\" fill=\"none\" pointer-events=\"none\" stroke=\"#000000\" stroke-miterlimit=\"10\"/><path d=\"M 548.96 1189.59 L 541.16 1190.27 L 544.08 1187.66 L 543.73 1183.76 Z\" fill=\"#000000\" pointer-events=\"none\" stroke=\"#000000\" stroke-miterlimit=\"10\"/><rect fill=\"#ffffff\" height=\"80\" pointer-events=\"none\" stroke=\"#000000\" width=\"80\" x=\"282\" y=\"1060\"/><g transform=\"translate(283.5,1086.5)\"><switch><foreignObject height=\"26\" pointer-events=\"all\" requiredFeatures=\"http://www.w3.org/TR/SVG11/feature#Extensibility\" style=\"overflow:visible;\" width=\"76\"><div style=\"display: inline-block; font-size: 12px; font-family: Helvetica; color: rgb(0, 0, 0); line-height: 1.2; vertical-align: top; width: 76px; white-space: normal; overflow-wrap: normal; text-align: center;\" xmlns=\"http://www.w3.org/1999/xhtml\"><div style=\"display:inline-block;text-align:inherit;text-decoration:inherit;\" xmlns=\"http://www.w3.org/1999/xhtml\">Clean Dataset</div></div></foreignObject><text fill=\"#000000\" font-family=\"Helvetica\" font-size=\"12px\" text-anchor=\"middle\" x=\"38\" y=\"19\">Clean Dataset</text></switch></g><path d=\"M 200 1040 L 200 1060 L 315.63 1060\" fill=\"none\" pointer-events=\"none\" stroke=\"#000000\" stroke-miterlimit=\"10\"/><path d=\"M 320.88 1060 L 313.88 1063.5 L 315.63 1060 L 313.88 1056.5 Z\" fill=\"#000000\" pointer-events=\"none\" stroke=\"#000000\" stroke-miterlimit=\"10\"/><path d=\"M 330 1040 L 330 1060 L 330 1030 L 330 1043.63\" fill=\"none\" pointer-events=\"none\" stroke=\"#000000\" stroke-miterlimit=\"10\"/><path d=\"M 330 1048.88 L 326.5 1041.88 L 330 1043.63 L 333.5 1041.88 Z\" fill=\"#000000\" pointer-events=\"none\" stroke=\"#000000\" stroke-miterlimit=\"10\"/><path d=\"M 470 1040 L 470 1050 L 333 1050 C 333 1046.1 327 1046.1 327 1050 L 327 1050 L 326 1050 L 326 1055.63\" fill=\"none\" pointer-events=\"none\" stroke=\"#000000\" stroke-miterlimit=\"10\"/><path d=\"M 326 1060.88 L 322.5 1053.88 L 326 1055.63 L 329.5 1053.88 Z\" fill=\"#000000\" pointer-events=\"none\" stroke=\"#000000\" stroke-miterlimit=\"10\"/><ellipse cx=\"150\" cy=\"1250\" fill=\"#ffffff\" pointer-events=\"none\" rx=\"60\" ry=\"40\" stroke=\"#000000\"/><g transform=\"translate(109.5,1243.5)\"><switch><foreignObject height=\"12\" pointer-events=\"all\" requiredFeatures=\"http://www.w3.org/TR/SVG11/feature#Extensibility\" style=\"overflow:visible;\" width=\"80\"><div style=\"display: inline-block; font-size: 12px; font-family: Helvetica; color: rgb(0, 0, 0); line-height: 1.2; vertical-align: top; width: 80px; white-space: nowrap; overflow-wrap: normal; text-align: center;\" xmlns=\"http://www.w3.org/1999/xhtml\"><div style=\"display:inline-block;text-align:inherit;text-decoration:inherit;\" xmlns=\"http://www.w3.org/1999/xhtml\">Log regression</div></div></foreignObject><text fill=\"#000000\" font-family=\"Helvetica\" font-size=\"12px\" text-anchor=\"middle\" x=\"40\" y=\"12\">Log regression</text></switch></g><ellipse cx=\"348\" cy=\"1280\" fill=\"#ffffff\" pointer-events=\"none\" rx=\"60\" ry=\"40\" stroke=\"#000000\"/><g transform=\"translate(306.5,1273.5)\"><switch><foreignObject height=\"12\" pointer-events=\"all\" requiredFeatures=\"http://www.w3.org/TR/SVG11/feature#Extensibility\" style=\"overflow:visible;\" width=\"82\"><div style=\"display: inline-block; font-size: 12px; font-family: Helvetica; color: rgb(0, 0, 0); line-height: 1.2; vertical-align: top; width: 82px; white-space: nowrap; overflow-wrap: normal; text-align: center;\" xmlns=\"http://www.w3.org/1999/xhtml\"><div style=\"display:inline-block;text-align:inherit;text-decoration:inherit;\" xmlns=\"http://www.w3.org/1999/xhtml\">regular Log reg</div></div></foreignObject><text fill=\"#000000\" font-family=\"Helvetica\" font-size=\"12px\" text-anchor=\"middle\" x=\"41\" y=\"12\">regular Log reg</text></switch></g><ellipse cx=\"550\" cy=\"1230\" fill=\"#ffffff\" pointer-events=\"none\" rx=\"60\" ry=\"40\" stroke=\"#000000\"/><g transform=\"translate(506.5,1223.5)\"><switch><foreignObject height=\"12\" pointer-events=\"all\" requiredFeatures=\"http://www.w3.org/TR/SVG11/feature#Extensibility\" style=\"overflow:visible;\" width=\"86\"><div style=\"display: inline-block; font-size: 12px; font-family: Helvetica; color: rgb(0, 0, 0); line-height: 1.2; vertical-align: top; width: 87px; white-space: nowrap; overflow-wrap: normal; text-align: center;\" xmlns=\"http://www.w3.org/1999/xhtml\"><div style=\"display:inline-block;text-align:inherit;text-decoration:inherit;\" xmlns=\"http://www.w3.org/1999/xhtml\">ridge regression</div></div></foreignObject><text fill=\"#000000\" font-family=\"Helvetica\" font-size=\"12px\" text-anchor=\"middle\" x=\"43\" y=\"12\">ridge regression</text></switch></g></g></svg>"
      ],
      "text/plain": [
       "<IPython.core.display.SVG object>"
      ]
     },
     "execution_count": 1,
     "metadata": {},
     "output_type": "execute_result"
    }
   ],
   "source": [
    "from IPython.core.display import SVG\n",
    "SVG(filename='pipeline.svg')"
   ]
  },
  {
   "cell_type": "markdown",
   "metadata": {},
   "source": [
    "## Loading the Data:"
   ]
  },
  {
   "cell_type": "code",
   "execution_count": 2,
   "metadata": {},
   "outputs": [],
   "source": [
    "import logistic as log\n",
    "import split as spl\n",
    "import least_squares as lst\n",
    "import helpers as hlp\n",
    "import pre_processing as pre\n",
    "import vizu as viz"
   ]
  },
  {
   "cell_type": "code",
   "execution_count": 3,
   "metadata": {
    "collapsed": false,
    "jupyter": {
     "outputs_hidden": false
    }
   },
   "outputs": [],
   "source": [
    "DATA_TRAIN_PATH = '../data/train.csv' # TODO: download train data and supply path here \n",
    "DATA_TEST_PATH = '../data/test.csv'"
   ]
  },
  {
   "cell_type": "code",
   "execution_count": 4,
   "metadata": {},
   "outputs": [],
   "source": [
    "%matplotlib inline\n",
    "import numpy as np\n",
    "import matplotlib.pyplot as plt\n",
    "%load_ext autoreload\n",
    "%autoreload 2\n",
    "import pandas as pd # cannot use external libraries, just pandas for data exploration"
   ]
  },
  {
   "cell_type": "code",
   "execution_count": 5,
   "metadata": {
    "collapsed": false,
    "jupyter": {
     "outputs_hidden": false
    }
   },
   "outputs": [],
   "source": [
    "y, tX, ids = hlp.load_csv_data(DATA_TRAIN_PATH)\n",
    "_, tX_test, ids_test = hlp.load_csv_data(DATA_TEST_PATH)"
   ]
  },
  {
   "cell_type": "code",
   "execution_count": 6,
   "metadata": {},
   "outputs": [
    {
     "name": "stdout",
     "output_type": "stream",
     "text": [
      "(250000, 30)\n",
      "(250000,)\n"
     ]
    }
   ],
   "source": [
    "print(tX.shape)\n",
    "print(y.shape)"
   ]
  },
  {
   "cell_type": "markdown",
   "metadata": {},
   "source": [
    "## Data exploration"
   ]
  },
  {
   "cell_type": "code",
   "execution_count": 7,
   "metadata": {},
   "outputs": [
    {
     "data": {
      "text/html": [
       "<div>\n",
       "<style scoped>\n",
       "    .dataframe tbody tr th:only-of-type {\n",
       "        vertical-align: middle;\n",
       "    }\n",
       "\n",
       "    .dataframe tbody tr th {\n",
       "        vertical-align: top;\n",
       "    }\n",
       "\n",
       "    .dataframe thead th {\n",
       "        text-align: right;\n",
       "    }\n",
       "</style>\n",
       "<table border=\"1\" class=\"dataframe\">\n",
       "  <thead>\n",
       "    <tr style=\"text-align: right;\">\n",
       "      <th></th>\n",
       "      <th>Id</th>\n",
       "      <th>Prediction</th>\n",
       "      <th>DER_mass_MMC</th>\n",
       "      <th>DER_mass_transverse_met_lep</th>\n",
       "      <th>DER_mass_vis</th>\n",
       "      <th>DER_pt_h</th>\n",
       "      <th>DER_deltaeta_jet_jet</th>\n",
       "      <th>DER_mass_jet_jet</th>\n",
       "      <th>DER_prodeta_jet_jet</th>\n",
       "      <th>DER_deltar_tau_lep</th>\n",
       "      <th>...</th>\n",
       "      <th>PRI_met_phi</th>\n",
       "      <th>PRI_met_sumet</th>\n",
       "      <th>PRI_jet_num</th>\n",
       "      <th>PRI_jet_leading_pt</th>\n",
       "      <th>PRI_jet_leading_eta</th>\n",
       "      <th>PRI_jet_leading_phi</th>\n",
       "      <th>PRI_jet_subleading_pt</th>\n",
       "      <th>PRI_jet_subleading_eta</th>\n",
       "      <th>PRI_jet_subleading_phi</th>\n",
       "      <th>PRI_jet_all_pt</th>\n",
       "    </tr>\n",
       "  </thead>\n",
       "  <tbody>\n",
       "    <tr>\n",
       "      <td>0</td>\n",
       "      <td>100000</td>\n",
       "      <td>1</td>\n",
       "      <td>138.470</td>\n",
       "      <td>51.655</td>\n",
       "      <td>97.827</td>\n",
       "      <td>27.980</td>\n",
       "      <td>0.910</td>\n",
       "      <td>124.711</td>\n",
       "      <td>2.666</td>\n",
       "      <td>3.064</td>\n",
       "      <td>...</td>\n",
       "      <td>-0.277</td>\n",
       "      <td>258.733</td>\n",
       "      <td>2</td>\n",
       "      <td>67.435</td>\n",
       "      <td>2.150</td>\n",
       "      <td>0.444</td>\n",
       "      <td>46.062</td>\n",
       "      <td>1.240</td>\n",
       "      <td>-2.475</td>\n",
       "      <td>113.497</td>\n",
       "    </tr>\n",
       "    <tr>\n",
       "      <td>1</td>\n",
       "      <td>100001</td>\n",
       "      <td>-1</td>\n",
       "      <td>160.937</td>\n",
       "      <td>68.768</td>\n",
       "      <td>103.235</td>\n",
       "      <td>48.146</td>\n",
       "      <td>-999.000</td>\n",
       "      <td>-999.000</td>\n",
       "      <td>-999.000</td>\n",
       "      <td>3.473</td>\n",
       "      <td>...</td>\n",
       "      <td>-1.916</td>\n",
       "      <td>164.546</td>\n",
       "      <td>1</td>\n",
       "      <td>46.226</td>\n",
       "      <td>0.725</td>\n",
       "      <td>1.158</td>\n",
       "      <td>-999.000</td>\n",
       "      <td>-999.000</td>\n",
       "      <td>-999.000</td>\n",
       "      <td>46.226</td>\n",
       "    </tr>\n",
       "    <tr>\n",
       "      <td>2</td>\n",
       "      <td>100002</td>\n",
       "      <td>-1</td>\n",
       "      <td>-999.000</td>\n",
       "      <td>162.172</td>\n",
       "      <td>125.953</td>\n",
       "      <td>35.635</td>\n",
       "      <td>-999.000</td>\n",
       "      <td>-999.000</td>\n",
       "      <td>-999.000</td>\n",
       "      <td>3.148</td>\n",
       "      <td>...</td>\n",
       "      <td>-2.186</td>\n",
       "      <td>260.414</td>\n",
       "      <td>1</td>\n",
       "      <td>44.251</td>\n",
       "      <td>2.053</td>\n",
       "      <td>-2.028</td>\n",
       "      <td>-999.000</td>\n",
       "      <td>-999.000</td>\n",
       "      <td>-999.000</td>\n",
       "      <td>44.251</td>\n",
       "    </tr>\n",
       "    <tr>\n",
       "      <td>3</td>\n",
       "      <td>100003</td>\n",
       "      <td>-1</td>\n",
       "      <td>143.905</td>\n",
       "      <td>81.417</td>\n",
       "      <td>80.943</td>\n",
       "      <td>0.414</td>\n",
       "      <td>-999.000</td>\n",
       "      <td>-999.000</td>\n",
       "      <td>-999.000</td>\n",
       "      <td>3.310</td>\n",
       "      <td>...</td>\n",
       "      <td>0.060</td>\n",
       "      <td>86.062</td>\n",
       "      <td>0</td>\n",
       "      <td>-999.000</td>\n",
       "      <td>-999.000</td>\n",
       "      <td>-999.000</td>\n",
       "      <td>-999.000</td>\n",
       "      <td>-999.000</td>\n",
       "      <td>-999.000</td>\n",
       "      <td>0.000</td>\n",
       "    </tr>\n",
       "    <tr>\n",
       "      <td>4</td>\n",
       "      <td>100004</td>\n",
       "      <td>-1</td>\n",
       "      <td>175.864</td>\n",
       "      <td>16.915</td>\n",
       "      <td>134.805</td>\n",
       "      <td>16.405</td>\n",
       "      <td>-999.000</td>\n",
       "      <td>-999.000</td>\n",
       "      <td>-999.000</td>\n",
       "      <td>3.891</td>\n",
       "      <td>...</td>\n",
       "      <td>-0.871</td>\n",
       "      <td>53.131</td>\n",
       "      <td>0</td>\n",
       "      <td>-999.000</td>\n",
       "      <td>-999.000</td>\n",
       "      <td>-999.000</td>\n",
       "      <td>-999.000</td>\n",
       "      <td>-999.000</td>\n",
       "      <td>-999.000</td>\n",
       "      <td>0.000</td>\n",
       "    </tr>\n",
       "    <tr>\n",
       "      <td>5</td>\n",
       "      <td>100005</td>\n",
       "      <td>-1</td>\n",
       "      <td>89.744</td>\n",
       "      <td>13.550</td>\n",
       "      <td>59.149</td>\n",
       "      <td>116.344</td>\n",
       "      <td>2.636</td>\n",
       "      <td>284.584</td>\n",
       "      <td>-0.540</td>\n",
       "      <td>1.362</td>\n",
       "      <td>...</td>\n",
       "      <td>2.237</td>\n",
       "      <td>282.849</td>\n",
       "      <td>3</td>\n",
       "      <td>90.547</td>\n",
       "      <td>-2.412</td>\n",
       "      <td>-0.653</td>\n",
       "      <td>56.165</td>\n",
       "      <td>0.224</td>\n",
       "      <td>3.106</td>\n",
       "      <td>193.660</td>\n",
       "    </tr>\n",
       "    <tr>\n",
       "      <td>6</td>\n",
       "      <td>100006</td>\n",
       "      <td>1</td>\n",
       "      <td>148.754</td>\n",
       "      <td>28.862</td>\n",
       "      <td>107.782</td>\n",
       "      <td>106.130</td>\n",
       "      <td>0.733</td>\n",
       "      <td>158.359</td>\n",
       "      <td>0.113</td>\n",
       "      <td>2.941</td>\n",
       "      <td>...</td>\n",
       "      <td>-1.443</td>\n",
       "      <td>294.074</td>\n",
       "      <td>2</td>\n",
       "      <td>123.010</td>\n",
       "      <td>0.864</td>\n",
       "      <td>1.450</td>\n",
       "      <td>56.867</td>\n",
       "      <td>0.131</td>\n",
       "      <td>-2.767</td>\n",
       "      <td>179.877</td>\n",
       "    </tr>\n",
       "    <tr>\n",
       "      <td>7</td>\n",
       "      <td>100007</td>\n",
       "      <td>1</td>\n",
       "      <td>154.916</td>\n",
       "      <td>10.418</td>\n",
       "      <td>94.714</td>\n",
       "      <td>29.169</td>\n",
       "      <td>-999.000</td>\n",
       "      <td>-999.000</td>\n",
       "      <td>-999.000</td>\n",
       "      <td>2.897</td>\n",
       "      <td>...</td>\n",
       "      <td>-1.761</td>\n",
       "      <td>187.299</td>\n",
       "      <td>1</td>\n",
       "      <td>30.638</td>\n",
       "      <td>-0.715</td>\n",
       "      <td>-1.724</td>\n",
       "      <td>-999.000</td>\n",
       "      <td>-999.000</td>\n",
       "      <td>-999.000</td>\n",
       "      <td>30.638</td>\n",
       "    </tr>\n",
       "    <tr>\n",
       "      <td>8</td>\n",
       "      <td>100008</td>\n",
       "      <td>-1</td>\n",
       "      <td>105.594</td>\n",
       "      <td>50.559</td>\n",
       "      <td>100.989</td>\n",
       "      <td>4.288</td>\n",
       "      <td>-999.000</td>\n",
       "      <td>-999.000</td>\n",
       "      <td>-999.000</td>\n",
       "      <td>2.904</td>\n",
       "      <td>...</td>\n",
       "      <td>0.024</td>\n",
       "      <td>129.804</td>\n",
       "      <td>0</td>\n",
       "      <td>-999.000</td>\n",
       "      <td>-999.000</td>\n",
       "      <td>-999.000</td>\n",
       "      <td>-999.000</td>\n",
       "      <td>-999.000</td>\n",
       "      <td>-999.000</td>\n",
       "      <td>0.000</td>\n",
       "    </tr>\n",
       "    <tr>\n",
       "      <td>9</td>\n",
       "      <td>100009</td>\n",
       "      <td>1</td>\n",
       "      <td>128.053</td>\n",
       "      <td>88.941</td>\n",
       "      <td>69.272</td>\n",
       "      <td>193.392</td>\n",
       "      <td>-999.000</td>\n",
       "      <td>-999.000</td>\n",
       "      <td>-999.000</td>\n",
       "      <td>1.609</td>\n",
       "      <td>...</td>\n",
       "      <td>0.845</td>\n",
       "      <td>294.741</td>\n",
       "      <td>1</td>\n",
       "      <td>167.735</td>\n",
       "      <td>-2.767</td>\n",
       "      <td>-2.514</td>\n",
       "      <td>-999.000</td>\n",
       "      <td>-999.000</td>\n",
       "      <td>-999.000</td>\n",
       "      <td>167.735</td>\n",
       "    </tr>\n",
       "  </tbody>\n",
       "</table>\n",
       "<p>10 rows × 32 columns</p>\n",
       "</div>"
      ],
      "text/plain": [
       "       Id  Prediction  DER_mass_MMC  DER_mass_transverse_met_lep  \\\n",
       "0  100000           1       138.470                       51.655   \n",
       "1  100001          -1       160.937                       68.768   \n",
       "2  100002          -1      -999.000                      162.172   \n",
       "3  100003          -1       143.905                       81.417   \n",
       "4  100004          -1       175.864                       16.915   \n",
       "5  100005          -1        89.744                       13.550   \n",
       "6  100006           1       148.754                       28.862   \n",
       "7  100007           1       154.916                       10.418   \n",
       "8  100008          -1       105.594                       50.559   \n",
       "9  100009           1       128.053                       88.941   \n",
       "\n",
       "   DER_mass_vis  DER_pt_h  DER_deltaeta_jet_jet  DER_mass_jet_jet  \\\n",
       "0        97.827    27.980                 0.910           124.711   \n",
       "1       103.235    48.146              -999.000          -999.000   \n",
       "2       125.953    35.635              -999.000          -999.000   \n",
       "3        80.943     0.414              -999.000          -999.000   \n",
       "4       134.805    16.405              -999.000          -999.000   \n",
       "5        59.149   116.344                 2.636           284.584   \n",
       "6       107.782   106.130                 0.733           158.359   \n",
       "7        94.714    29.169              -999.000          -999.000   \n",
       "8       100.989     4.288              -999.000          -999.000   \n",
       "9        69.272   193.392              -999.000          -999.000   \n",
       "\n",
       "   DER_prodeta_jet_jet  DER_deltar_tau_lep  ...  PRI_met_phi  PRI_met_sumet  \\\n",
       "0                2.666               3.064  ...       -0.277        258.733   \n",
       "1             -999.000               3.473  ...       -1.916        164.546   \n",
       "2             -999.000               3.148  ...       -2.186        260.414   \n",
       "3             -999.000               3.310  ...        0.060         86.062   \n",
       "4             -999.000               3.891  ...       -0.871         53.131   \n",
       "5               -0.540               1.362  ...        2.237        282.849   \n",
       "6                0.113               2.941  ...       -1.443        294.074   \n",
       "7             -999.000               2.897  ...       -1.761        187.299   \n",
       "8             -999.000               2.904  ...        0.024        129.804   \n",
       "9             -999.000               1.609  ...        0.845        294.741   \n",
       "\n",
       "   PRI_jet_num  PRI_jet_leading_pt  PRI_jet_leading_eta  PRI_jet_leading_phi  \\\n",
       "0            2              67.435                2.150                0.444   \n",
       "1            1              46.226                0.725                1.158   \n",
       "2            1              44.251                2.053               -2.028   \n",
       "3            0            -999.000             -999.000             -999.000   \n",
       "4            0            -999.000             -999.000             -999.000   \n",
       "5            3              90.547               -2.412               -0.653   \n",
       "6            2             123.010                0.864                1.450   \n",
       "7            1              30.638               -0.715               -1.724   \n",
       "8            0            -999.000             -999.000             -999.000   \n",
       "9            1             167.735               -2.767               -2.514   \n",
       "\n",
       "   PRI_jet_subleading_pt  PRI_jet_subleading_eta  PRI_jet_subleading_phi  \\\n",
       "0                 46.062                   1.240                  -2.475   \n",
       "1               -999.000                -999.000                -999.000   \n",
       "2               -999.000                -999.000                -999.000   \n",
       "3               -999.000                -999.000                -999.000   \n",
       "4               -999.000                -999.000                -999.000   \n",
       "5                 56.165                   0.224                   3.106   \n",
       "6                 56.867                   0.131                  -2.767   \n",
       "7               -999.000                -999.000                -999.000   \n",
       "8               -999.000                -999.000                -999.000   \n",
       "9               -999.000                -999.000                -999.000   \n",
       "\n",
       "   PRI_jet_all_pt  \n",
       "0         113.497  \n",
       "1          46.226  \n",
       "2          44.251  \n",
       "3           0.000  \n",
       "4           0.000  \n",
       "5         193.660  \n",
       "6         179.877  \n",
       "7          30.638  \n",
       "8           0.000  \n",
       "9         167.735  \n",
       "\n",
       "[10 rows x 32 columns]"
      ]
     },
     "execution_count": 7,
     "metadata": {},
     "output_type": "execute_result"
    }
   ],
   "source": [
    "data = pd.read_csv(DATA_TRAIN_PATH)\n",
    "test_data = pd.read_csv(DATA_TEST_PATH)\n",
    "dic = {'s':1,'b':-1}\n",
    "data.Prediction = data.Prediction.map(dic)\n",
    "test_data.Prediction = test_data.Prediction.map(dic)\n",
    "data.head(10)"
   ]
  },
  {
   "cell_type": "code",
   "execution_count": 8,
   "metadata": {},
   "outputs": [
    {
     "name": "stdout",
     "output_type": "stream",
     "text": [
      "181886\n",
      "250000\n"
     ]
    }
   ],
   "source": [
    "mask = data.isin([-999]).any(axis = 1)\n",
    "print(len(data[mask]))\n",
    "print(len(data))"
   ]
  },
  {
   "cell_type": "markdown",
   "metadata": {},
   "source": [
    "_The vast majoriy of our data has -999 values: we'd better handle it carefully_"
   ]
  },
  {
   "cell_type": "code",
   "execution_count": 9,
   "metadata": {},
   "outputs": [],
   "source": [
    "#data.replace(to_replace = -999,value = np.nan, inplace = True)"
   ]
  },
  {
   "cell_type": "code",
   "execution_count": 10,
   "metadata": {},
   "outputs": [],
   "source": [
    "#replace_val = np.nan\n",
    "#tX = np.where(tX == -999,replace_val,tX)"
   ]
  },
  {
   "cell_type": "code",
   "execution_count": 11,
   "metadata": {},
   "outputs": [],
   "source": [
    "std = np.nanstd(tX,axis = 0)\n",
    "mean = np.nanmean(tX,axis = 0)"
   ]
  },
  {
   "cell_type": "code",
   "execution_count": 12,
   "metadata": {},
   "outputs": [
    {
     "name": "stdout",
     "output_type": "stream",
     "text": [
      "Train set size: 250000 samples x 30 features\n",
      "Test set size: 568238 samples x 30 features\n"
     ]
    }
   ],
   "source": [
    "print('Train set size: {} samples x {} features'.format(pd.DataFrame(tX).shape[0], pd.DataFrame(tX).shape[1]))\n",
    "print('Test set size: {} samples x {} features'.format(test_data.shape[0], pd.DataFrame(tX).shape[1]))"
   ]
  },
  {
   "cell_type": "code",
   "execution_count": 13,
   "metadata": {},
   "outputs": [
    {
     "name": "stdout",
     "output_type": "stream",
     "text": [
      "<class 'pandas.core.frame.DataFrame'>\n",
      "RangeIndex: 250000 entries, 0 to 249999\n",
      "Data columns (total 32 columns):\n",
      "Id                             250000 non-null int64\n",
      "Prediction                     250000 non-null int64\n",
      "DER_mass_MMC                   250000 non-null float64\n",
      "DER_mass_transverse_met_lep    250000 non-null float64\n",
      "DER_mass_vis                   250000 non-null float64\n",
      "DER_pt_h                       250000 non-null float64\n",
      "DER_deltaeta_jet_jet           250000 non-null float64\n",
      "DER_mass_jet_jet               250000 non-null float64\n",
      "DER_prodeta_jet_jet            250000 non-null float64\n",
      "DER_deltar_tau_lep             250000 non-null float64\n",
      "DER_pt_tot                     250000 non-null float64\n",
      "DER_sum_pt                     250000 non-null float64\n",
      "DER_pt_ratio_lep_tau           250000 non-null float64\n",
      "DER_met_phi_centrality         250000 non-null float64\n",
      "DER_lep_eta_centrality         250000 non-null float64\n",
      "PRI_tau_pt                     250000 non-null float64\n",
      "PRI_tau_eta                    250000 non-null float64\n",
      "PRI_tau_phi                    250000 non-null float64\n",
      "PRI_lep_pt                     250000 non-null float64\n",
      "PRI_lep_eta                    250000 non-null float64\n",
      "PRI_lep_phi                    250000 non-null float64\n",
      "PRI_met                        250000 non-null float64\n",
      "PRI_met_phi                    250000 non-null float64\n",
      "PRI_met_sumet                  250000 non-null float64\n",
      "PRI_jet_num                    250000 non-null int64\n",
      "PRI_jet_leading_pt             250000 non-null float64\n",
      "PRI_jet_leading_eta            250000 non-null float64\n",
      "PRI_jet_leading_phi            250000 non-null float64\n",
      "PRI_jet_subleading_pt          250000 non-null float64\n",
      "PRI_jet_subleading_eta         250000 non-null float64\n",
      "PRI_jet_subleading_phi         250000 non-null float64\n",
      "PRI_jet_all_pt                 250000 non-null float64\n",
      "dtypes: float64(29), int64(3)\n",
      "memory usage: 61.0 MB\n"
     ]
    }
   ],
   "source": [
    "data.info()"
   ]
  },
  {
   "cell_type": "code",
   "execution_count": 14,
   "metadata": {},
   "outputs": [
    {
     "data": {
      "text/html": [
       "<div>\n",
       "<style scoped>\n",
       "    .dataframe tbody tr th:only-of-type {\n",
       "        vertical-align: middle;\n",
       "    }\n",
       "\n",
       "    .dataframe tbody tr th {\n",
       "        vertical-align: top;\n",
       "    }\n",
       "\n",
       "    .dataframe thead th {\n",
       "        text-align: right;\n",
       "    }\n",
       "</style>\n",
       "<table border=\"1\" class=\"dataframe\">\n",
       "  <thead>\n",
       "    <tr style=\"text-align: right;\">\n",
       "      <th></th>\n",
       "      <th>Id</th>\n",
       "      <th>Prediction</th>\n",
       "      <th>DER_mass_MMC</th>\n",
       "      <th>DER_mass_transverse_met_lep</th>\n",
       "      <th>DER_mass_vis</th>\n",
       "      <th>DER_pt_h</th>\n",
       "      <th>DER_deltaeta_jet_jet</th>\n",
       "      <th>DER_mass_jet_jet</th>\n",
       "      <th>DER_prodeta_jet_jet</th>\n",
       "      <th>DER_deltar_tau_lep</th>\n",
       "      <th>...</th>\n",
       "      <th>PRI_met_phi</th>\n",
       "      <th>PRI_met_sumet</th>\n",
       "      <th>PRI_jet_num</th>\n",
       "      <th>PRI_jet_leading_pt</th>\n",
       "      <th>PRI_jet_leading_eta</th>\n",
       "      <th>PRI_jet_leading_phi</th>\n",
       "      <th>PRI_jet_subleading_pt</th>\n",
       "      <th>PRI_jet_subleading_eta</th>\n",
       "      <th>PRI_jet_subleading_phi</th>\n",
       "      <th>PRI_jet_all_pt</th>\n",
       "    </tr>\n",
       "  </thead>\n",
       "  <tbody>\n",
       "    <tr>\n",
       "      <td>count</td>\n",
       "      <td>250000.000000</td>\n",
       "      <td>250000.000000</td>\n",
       "      <td>250000.000000</td>\n",
       "      <td>250000.000000</td>\n",
       "      <td>250000.000000</td>\n",
       "      <td>250000.000000</td>\n",
       "      <td>250000.000000</td>\n",
       "      <td>250000.000000</td>\n",
       "      <td>250000.000000</td>\n",
       "      <td>250000.000000</td>\n",
       "      <td>...</td>\n",
       "      <td>250000.000000</td>\n",
       "      <td>250000.000000</td>\n",
       "      <td>250000.000000</td>\n",
       "      <td>250000.000000</td>\n",
       "      <td>250000.000000</td>\n",
       "      <td>250000.000000</td>\n",
       "      <td>250000.000000</td>\n",
       "      <td>250000.000000</td>\n",
       "      <td>250000.000000</td>\n",
       "      <td>250000.000000</td>\n",
       "    </tr>\n",
       "    <tr>\n",
       "      <td>mean</td>\n",
       "      <td>224999.500000</td>\n",
       "      <td>-0.314664</td>\n",
       "      <td>-49.023079</td>\n",
       "      <td>49.239819</td>\n",
       "      <td>81.181982</td>\n",
       "      <td>57.895962</td>\n",
       "      <td>-708.420675</td>\n",
       "      <td>-601.237051</td>\n",
       "      <td>-709.356603</td>\n",
       "      <td>2.373100</td>\n",
       "      <td>...</td>\n",
       "      <td>-0.010119</td>\n",
       "      <td>209.797178</td>\n",
       "      <td>0.979176</td>\n",
       "      <td>-348.329567</td>\n",
       "      <td>-399.254314</td>\n",
       "      <td>-399.259788</td>\n",
       "      <td>-692.381204</td>\n",
       "      <td>-709.121609</td>\n",
       "      <td>-709.118631</td>\n",
       "      <td>73.064591</td>\n",
       "    </tr>\n",
       "    <tr>\n",
       "      <td>std</td>\n",
       "      <td>72168.927986</td>\n",
       "      <td>0.949205</td>\n",
       "      <td>406.345647</td>\n",
       "      <td>35.344886</td>\n",
       "      <td>40.828691</td>\n",
       "      <td>63.655682</td>\n",
       "      <td>454.480565</td>\n",
       "      <td>657.972302</td>\n",
       "      <td>453.019877</td>\n",
       "      <td>0.782911</td>\n",
       "      <td>...</td>\n",
       "      <td>1.812223</td>\n",
       "      <td>126.499506</td>\n",
       "      <td>0.977426</td>\n",
       "      <td>532.962789</td>\n",
       "      <td>489.338286</td>\n",
       "      <td>489.333883</td>\n",
       "      <td>479.875496</td>\n",
       "      <td>453.384624</td>\n",
       "      <td>453.389017</td>\n",
       "      <td>98.015662</td>\n",
       "    </tr>\n",
       "    <tr>\n",
       "      <td>min</td>\n",
       "      <td>100000.000000</td>\n",
       "      <td>-1.000000</td>\n",
       "      <td>-999.000000</td>\n",
       "      <td>0.000000</td>\n",
       "      <td>6.329000</td>\n",
       "      <td>0.000000</td>\n",
       "      <td>-999.000000</td>\n",
       "      <td>-999.000000</td>\n",
       "      <td>-999.000000</td>\n",
       "      <td>0.208000</td>\n",
       "      <td>...</td>\n",
       "      <td>-3.142000</td>\n",
       "      <td>13.678000</td>\n",
       "      <td>0.000000</td>\n",
       "      <td>-999.000000</td>\n",
       "      <td>-999.000000</td>\n",
       "      <td>-999.000000</td>\n",
       "      <td>-999.000000</td>\n",
       "      <td>-999.000000</td>\n",
       "      <td>-999.000000</td>\n",
       "      <td>0.000000</td>\n",
       "    </tr>\n",
       "    <tr>\n",
       "      <td>25%</td>\n",
       "      <td>162499.750000</td>\n",
       "      <td>-1.000000</td>\n",
       "      <td>78.100750</td>\n",
       "      <td>19.241000</td>\n",
       "      <td>59.388750</td>\n",
       "      <td>14.068750</td>\n",
       "      <td>-999.000000</td>\n",
       "      <td>-999.000000</td>\n",
       "      <td>-999.000000</td>\n",
       "      <td>1.810000</td>\n",
       "      <td>...</td>\n",
       "      <td>-1.575000</td>\n",
       "      <td>123.017500</td>\n",
       "      <td>0.000000</td>\n",
       "      <td>-999.000000</td>\n",
       "      <td>-999.000000</td>\n",
       "      <td>-999.000000</td>\n",
       "      <td>-999.000000</td>\n",
       "      <td>-999.000000</td>\n",
       "      <td>-999.000000</td>\n",
       "      <td>0.000000</td>\n",
       "    </tr>\n",
       "    <tr>\n",
       "      <td>50%</td>\n",
       "      <td>224999.500000</td>\n",
       "      <td>-1.000000</td>\n",
       "      <td>105.012000</td>\n",
       "      <td>46.524000</td>\n",
       "      <td>73.752000</td>\n",
       "      <td>38.467500</td>\n",
       "      <td>-999.000000</td>\n",
       "      <td>-999.000000</td>\n",
       "      <td>-999.000000</td>\n",
       "      <td>2.491500</td>\n",
       "      <td>...</td>\n",
       "      <td>-0.024000</td>\n",
       "      <td>179.739000</td>\n",
       "      <td>1.000000</td>\n",
       "      <td>38.960000</td>\n",
       "      <td>-1.872000</td>\n",
       "      <td>-2.093000</td>\n",
       "      <td>-999.000000</td>\n",
       "      <td>-999.000000</td>\n",
       "      <td>-999.000000</td>\n",
       "      <td>40.512500</td>\n",
       "    </tr>\n",
       "    <tr>\n",
       "      <td>75%</td>\n",
       "      <td>287499.250000</td>\n",
       "      <td>1.000000</td>\n",
       "      <td>130.606250</td>\n",
       "      <td>73.598000</td>\n",
       "      <td>92.259000</td>\n",
       "      <td>79.169000</td>\n",
       "      <td>0.490000</td>\n",
       "      <td>83.446000</td>\n",
       "      <td>-4.593000</td>\n",
       "      <td>2.961000</td>\n",
       "      <td>...</td>\n",
       "      <td>1.561000</td>\n",
       "      <td>263.379250</td>\n",
       "      <td>2.000000</td>\n",
       "      <td>75.349000</td>\n",
       "      <td>0.433000</td>\n",
       "      <td>0.503000</td>\n",
       "      <td>33.703000</td>\n",
       "      <td>-2.457000</td>\n",
       "      <td>-2.275000</td>\n",
       "      <td>109.933750</td>\n",
       "    </tr>\n",
       "    <tr>\n",
       "      <td>max</td>\n",
       "      <td>349999.000000</td>\n",
       "      <td>1.000000</td>\n",
       "      <td>1192.026000</td>\n",
       "      <td>690.075000</td>\n",
       "      <td>1349.351000</td>\n",
       "      <td>2834.999000</td>\n",
       "      <td>8.503000</td>\n",
       "      <td>4974.979000</td>\n",
       "      <td>16.690000</td>\n",
       "      <td>5.684000</td>\n",
       "      <td>...</td>\n",
       "      <td>3.142000</td>\n",
       "      <td>2003.976000</td>\n",
       "      <td>3.000000</td>\n",
       "      <td>1120.573000</td>\n",
       "      <td>4.499000</td>\n",
       "      <td>3.141000</td>\n",
       "      <td>721.456000</td>\n",
       "      <td>4.500000</td>\n",
       "      <td>3.142000</td>\n",
       "      <td>1633.433000</td>\n",
       "    </tr>\n",
       "  </tbody>\n",
       "</table>\n",
       "<p>8 rows × 32 columns</p>\n",
       "</div>"
      ],
      "text/plain": [
       "                  Id     Prediction   DER_mass_MMC  \\\n",
       "count  250000.000000  250000.000000  250000.000000   \n",
       "mean   224999.500000      -0.314664     -49.023079   \n",
       "std     72168.927986       0.949205     406.345647   \n",
       "min    100000.000000      -1.000000    -999.000000   \n",
       "25%    162499.750000      -1.000000      78.100750   \n",
       "50%    224999.500000      -1.000000     105.012000   \n",
       "75%    287499.250000       1.000000     130.606250   \n",
       "max    349999.000000       1.000000    1192.026000   \n",
       "\n",
       "       DER_mass_transverse_met_lep   DER_mass_vis       DER_pt_h  \\\n",
       "count                250000.000000  250000.000000  250000.000000   \n",
       "mean                     49.239819      81.181982      57.895962   \n",
       "std                      35.344886      40.828691      63.655682   \n",
       "min                       0.000000       6.329000       0.000000   \n",
       "25%                      19.241000      59.388750      14.068750   \n",
       "50%                      46.524000      73.752000      38.467500   \n",
       "75%                      73.598000      92.259000      79.169000   \n",
       "max                     690.075000    1349.351000    2834.999000   \n",
       "\n",
       "       DER_deltaeta_jet_jet  DER_mass_jet_jet  DER_prodeta_jet_jet  \\\n",
       "count         250000.000000     250000.000000        250000.000000   \n",
       "mean            -708.420675       -601.237051          -709.356603   \n",
       "std              454.480565        657.972302           453.019877   \n",
       "min             -999.000000       -999.000000          -999.000000   \n",
       "25%             -999.000000       -999.000000          -999.000000   \n",
       "50%             -999.000000       -999.000000          -999.000000   \n",
       "75%                0.490000         83.446000            -4.593000   \n",
       "max                8.503000       4974.979000            16.690000   \n",
       "\n",
       "       DER_deltar_tau_lep  ...    PRI_met_phi  PRI_met_sumet    PRI_jet_num  \\\n",
       "count       250000.000000  ...  250000.000000  250000.000000  250000.000000   \n",
       "mean             2.373100  ...      -0.010119     209.797178       0.979176   \n",
       "std              0.782911  ...       1.812223     126.499506       0.977426   \n",
       "min              0.208000  ...      -3.142000      13.678000       0.000000   \n",
       "25%              1.810000  ...      -1.575000     123.017500       0.000000   \n",
       "50%              2.491500  ...      -0.024000     179.739000       1.000000   \n",
       "75%              2.961000  ...       1.561000     263.379250       2.000000   \n",
       "max              5.684000  ...       3.142000    2003.976000       3.000000   \n",
       "\n",
       "       PRI_jet_leading_pt  PRI_jet_leading_eta  PRI_jet_leading_phi  \\\n",
       "count       250000.000000        250000.000000        250000.000000   \n",
       "mean          -348.329567          -399.254314          -399.259788   \n",
       "std            532.962789           489.338286           489.333883   \n",
       "min           -999.000000          -999.000000          -999.000000   \n",
       "25%           -999.000000          -999.000000          -999.000000   \n",
       "50%             38.960000            -1.872000            -2.093000   \n",
       "75%             75.349000             0.433000             0.503000   \n",
       "max           1120.573000             4.499000             3.141000   \n",
       "\n",
       "       PRI_jet_subleading_pt  PRI_jet_subleading_eta  PRI_jet_subleading_phi  \\\n",
       "count          250000.000000           250000.000000           250000.000000   \n",
       "mean             -692.381204             -709.121609             -709.118631   \n",
       "std               479.875496              453.384624              453.389017   \n",
       "min              -999.000000             -999.000000             -999.000000   \n",
       "25%              -999.000000             -999.000000             -999.000000   \n",
       "50%              -999.000000             -999.000000             -999.000000   \n",
       "75%                33.703000               -2.457000               -2.275000   \n",
       "max               721.456000                4.500000                3.142000   \n",
       "\n",
       "       PRI_jet_all_pt  \n",
       "count   250000.000000  \n",
       "mean        73.064591  \n",
       "std         98.015662  \n",
       "min          0.000000  \n",
       "25%          0.000000  \n",
       "50%         40.512500  \n",
       "75%        109.933750  \n",
       "max       1633.433000  \n",
       "\n",
       "[8 rows x 32 columns]"
      ]
     },
     "execution_count": 14,
     "metadata": {},
     "output_type": "execute_result"
    }
   ],
   "source": [
    "data.describe()"
   ]
  },
  {
   "cell_type": "markdown",
   "metadata": {},
   "source": [
    "## Data Cleaning"
   ]
  },
  {
   "cell_type": "code",
   "execution_count": 15,
   "metadata": {},
   "outputs": [
    {
     "data": {
      "text/plain": [
       "(array([24]),)"
      ]
     },
     "execution_count": 15,
     "metadata": {},
     "output_type": "execute_result"
    }
   ],
   "source": [
    "#totrash before submit: we use pandas to know to which index PRI_jet_num does correspond.\n",
    "np.where(data.columns.values == \"PRI_jet_num\")"
   ]
  },
  {
   "cell_type": "code",
   "execution_count": 16,
   "metadata": {},
   "outputs": [],
   "source": [
    "data_trains = spl.split_categorical_data(tX,22,labels = y,split = True)\n",
    "data_tests = spl.split_categorical_data(tX_test,22,split = True)"
   ]
  },
  {
   "cell_type": "code",
   "execution_count": 17,
   "metadata": {},
   "outputs": [],
   "source": [
    "mean = 0\n",
    "stdev = 0\n",
    "clean_data_trains = []\n",
    "clean_data_tests = []\n",
    "degre_polys = [12,12,13]\n",
    "for i,((x_train,y_train),(x_test,test_indx)) in enumerate(zip(data_trains,data_tests)):\n",
    "    x_train,x_test = pre.clean_variance(x_train,x_test)\n",
    "    \n",
    "    x_train = pre.clean_value(x_train,-999,np.nan)\n",
    "    x_test = pre.clean_value(x_test,-999,np.nan)\n",
    "    \n",
    "    \"\"\"\n",
    "    pre.PCA_visualize(x_train,label = i)\n",
    "    \n",
    "    mean,eigvecs,eigvals = pre.get_PCA(x_train)\n",
    "    x_test = x_test - mean\n",
    "    \n",
    "    x_train = pre.reduce_PCA(eigvecs,x_train,10)\n",
    "    x_test = pre.reduce_PCA(eigvecs,x_test,10)\n",
    "    \"\"\"\n",
    "    \n",
    "    x_train,mean,stdev =  pre.standardize_data(x_train)\n",
    "    x_test,_,_ = pre.standardize_data(x_test, mean,stdev)\n",
    "    \n",
    "    x_train = pre.clean_value(x_train,np.nan,0,inplace = True)\n",
    "    x_test = pre.clean_value(x_test,np.nan,0,inplace = True)\n",
    "    \n",
    "    \n",
    "    x_train = pre.build_poly(x_train, degre_polys[i])\n",
    "    x_test = pre.build_poly(x_test,degre_polys[i])\n",
    "    x_train = np.c_[np.ones((x_train.shape[0], 1)), x_train]\n",
    "    x_test = np.c_[np.ones((x_test.shape[0], 1)), x_test]\n",
    "    \n",
    "    clean_data_trains.append((x_train,y_train))\n",
    "    clean_data_tests.append((x_test,test_indx))"
   ]
  },
  {
   "cell_type": "markdown",
   "metadata": {},
   "source": [
    "-Ridge regression avec optimization de lamdbas"
   ]
  },
  {
   "cell_type": "markdown",
   "metadata": {},
   "source": [
    "## Data Processing"
   ]
  },
  {
   "cell_type": "markdown",
   "metadata": {},
   "source": [
    "_We now need to standardize the function so that they all take the same type of parameters as inputs_"
   ]
  },
  {
   "cell_type": "code",
   "execution_count": 18,
   "metadata": {},
   "outputs": [],
   "source": [
    "init_w = np.random.rand(clean_data_tests[0][0].shape[1])\n",
    "maxiters = 100\n",
    "gamma = 0.01\n",
    "\n",
    "#method 1\n",
    "meth1 = lambda  y, x: lst.ridge_regression(y,x,5.17E-5)\n",
    "\n",
    "if (len(clean_data_tests) > 1):\n",
    "    init_w2 = np.random.rand(clean_data_tests[1][0].shape[1])\n",
    "    #method 2\n",
    "    #reg_log_reg = lambda y,x : log.reg_logistic_regression(y, x, lambda_, init_w2, maxiters, gamma)\n",
    "    #meth2 = lambda  y, x: log.logistic_regression(y,x,init_w2,5,gamma)\n",
    "    meth2 = lambda y,x : lst.ridge_regression(y,x,0.0013)\n",
    "\n",
    "    init_w3 = np.random.rand(clean_data_tests[2][0].shape[1])\n",
    "    #method 3\n",
    "    lambda_ = 0.1\n",
    "    meth3 = lambda y, x: lst.ridge_regression(y,x,0.001389)\n",
    "    #log_reg3 = lambda  y, x: log.logistic_regression(y,x,init_w3,5,gamma)\n",
    "\n",
    "methods = [meth1,meth2,meth3]"
   ]
  },
  {
   "cell_type": "markdown",
   "metadata": {},
   "source": [
    "_At this point we try the different models defined in the cell above: to do so run the cell below, and check the obtained accuracies._"
   ]
  },
  {
   "cell_type": "code",
   "execution_count": 19,
   "metadata": {},
   "outputs": [
    {
     "name": "stdout",
     "output_type": "stream",
     "text": [
      "#################################\n",
      "**********treating the 1th group of data:**************\n",
      "1/5 round for the kfold:\n",
      "obtained accur on 1/5 round of kfold:0.8418576719047143\n",
      "2/5 round for the kfold:\n",
      "obtained accur on 2/5 round of kfold:0.8458189461041885\n",
      "3/5 round for the kfold:\n",
      "obtained accur on 3/5 round of kfold:0.8393554198778901\n",
      "4/5 round for the kfold:\n",
      "obtained accur on 4/5 round of kfold:0.8444677976279837\n",
      "5/5 round for the kfold:\n",
      "obtained accur on 5/5 round of kfold:0.8454686483510985\n",
      "#################################\n",
      "**********treating the 2th group of data:**************\n",
      "1/5 round for the kfold:\n",
      "obtained accur on 1/5 round of kfold:0.8044235233427908\n",
      "2/5 round for the kfold:\n",
      "obtained accur on 2/5 round of kfold:0.8050164420658972\n",
      "3/5 round for the kfold:\n",
      "obtained accur on 3/5 round of kfold:0.8008898059191437\n",
      "4/5 round for the kfold:\n",
      "obtained accur on 4/5 round of kfold:0.8057257076536205\n",
      "5/5 round for the kfold:\n",
      "obtained accur on 5/5 round of kfold:0.8058546650332066\n",
      "#################################\n",
      "**********treating the 3th group of data:**************\n",
      "1/5 round for the kfold:\n",
      "obtained accur on 1/5 round of kfold:0.828853046594982\n",
      "2/5 round for the kfold:\n",
      "obtained accur on 2/5 round of kfold:0.8263836239575436\n",
      "3/5 round for the kfold:\n",
      "obtained accur on 3/5 round of kfold:0.8309897987317342\n",
      "4/5 round for the kfold:\n",
      "obtained accur on 4/5 round of kfold:0.8307257564270453\n",
      "5/5 round for the kfold:\n",
      "obtained accur on 5/5 round of kfold:0.8279688469225998\n",
      "done! Obtained accuracies: [0.8441469053058513, 0.8062325913838873, 0.8317273904363495]\n"
     ]
    }
   ],
   "source": [
    "accuracies_group_means = []\n",
    "accuracies_group_stds = []\n",
    "for round_,((x_train,y_train),meth) in enumerate(zip(clean_data_trains,methods)):\n",
    "    print(\"#################################\")\n",
    "    print(\"**********treating the {i}th group of data:**************\".format(i = round_+1))\n",
    "    acc_mean, acc_std = spl.k_fold_cv(y_train,x_train,5,meth)\n",
    "    accuracies_group_means.append(acc_mean)\n",
    "    accuracies_group_stds.append(acc_std)\n",
    "print(\"done! Obtained accuracies:\",[np.mean(i) for i in accuracies_group_means])"
   ]
  },
  {
   "cell_type": "markdown",
   "metadata": {},
   "source": [
    "## Optimization"
   ]
  },
  {
   "cell_type": "markdown",
   "metadata": {},
   "source": [
    "#### Ridge"
   ]
  },
  {
   "cell_type": "code",
   "execution_count": 41,
   "metadata": {},
   "outputs": [
    {
     "name": "stdout",
     "output_type": "stream",
     "text": [
      "##### START SUBSET 0 #####\n",
      "1/2 round for the kfold:\n",
      "obtained accur on 1/2 round of kfold:0.8424213307710785\n",
      "2/2 round for the kfold:\n",
      "obtained accur on 2/2 round of kfold:0.8422042956942971\n",
      "1/2 round for the kfold:\n",
      "obtained accur on 1/2 round of kfold:0.8122147489791016\n",
      "2/2 round for the kfold:\n",
      "obtained accur on 2/2 round of kfold:0.8129191104349741\n",
      "1/2 round for the kfold:\n",
      "obtained accur on 1/2 round of kfold:0.507366482504604\n",
      "2/2 round for the kfold:\n",
      "obtained accur on 2/2 round of kfold:0.5296354865184059\n",
      "1/2 round for the kfold:\n",
      "obtained accur on 1/2 round of kfold:0.472475778685243\n",
      "2/2 round for the kfold:\n",
      "obtained accur on 2/2 round of kfold:0.43619512780991654\n",
      "##### END SUBSET 0 #####\n",
      "##### START SUBSET 1 #####\n",
      "1/2 round for the kfold:\n",
      "obtained accur on 1/2 round of kfold:0.799313937893325\n",
      "2/2 round for the kfold:\n",
      "obtained accur on 2/2 round of kfold:0.8047818012999072\n",
      "1/2 round for the kfold:\n",
      "obtained accur on 1/2 round of kfold:0.754668317342412\n",
      "2/2 round for the kfold:\n",
      "obtained accur on 2/2 round of kfold:0.7563963685133601\n",
      "1/2 round for the kfold:\n",
      "obtained accur on 1/2 round of kfold:0.5091560920251728\n",
      "2/2 round for the kfold:\n",
      "obtained accur on 2/2 round of kfold:0.5308212111833281\n",
      "1/2 round for the kfold:\n",
      "obtained accur on 1/2 round of kfold:0.4102445063447849\n",
      "2/2 round for the kfold:\n",
      "obtained accur on 2/2 round of kfold:0.3589445991952956\n",
      "##### END SUBSET 1 #####\n",
      "##### START SUBSET 2 #####\n",
      "1/2 round for the kfold:\n",
      "obtained accur on 1/2 round of kfold:0.8287336990984533\n",
      "2/2 round for the kfold:\n",
      "obtained accur on 2/2 round of kfold:0.8305580061755624\n",
      "1/2 round for the kfold:\n",
      "obtained accur on 1/2 round of kfold:0.7639987869096524\n",
      "2/2 round for the kfold:\n",
      "obtained accur on 2/2 round of kfold:0.7592357741508602\n",
      "1/2 round for the kfold:\n",
      "obtained accur on 1/2 round of kfold:0.5416999807008354\n",
      "2/2 round for the kfold:\n",
      "obtained accur on 2/2 round of kfold:0.5594673577415086\n",
      "1/2 round for the kfold:\n",
      "obtained accur on 1/2 round of kfold:0.548096275261228\n",
      "2/2 round for the kfold:\n",
      "obtained accur on 2/2 round of kfold:0.5421537273930305\n",
      "##### END SUBSET 2 #####\n"
     ]
    }
   ],
   "source": [
    "# for ridge: for every models test different lambdas and degrees\n",
    "degrees = np.arange(1, 3)\n",
    "lambdas = np.logspace(-5, 0, 2)\n",
    "\n",
    "accuracies_tot = []\n",
    "\n",
    "for idx_subset, (x_train, y_train) in enumerate(clean_data_trains):\n",
    "    print('##### START SUBSET {} #####'.format(idx_subset))\n",
    "    accuracies = np.zeros((len(lambdas), len(degrees)))\n",
    "    for idx_deg, deg in enumerate(degrees):\n",
    "        x_poly = pre.build_poly(x_train, deg)\n",
    "        \n",
    "        for idx_lambda, lambda_ in enumerate(lambdas):\n",
    "            ridge = lambda y, x: lst.ridge_regression(y,x,lambda_)\n",
    "            _, k_accuracies_test = spl.k_fold_cv(y_train, x_poly, 2, ridge)\n",
    "            \n",
    "            # update table\n",
    "            accuracies[idx_lambda][idx_deg] = np.mean(k_accuracies_test)\n",
    "    \n",
    "    accuracies_tot.append(accuracies)\n",
    "    print('##### END SUBSET {} #####'.format(idx_subset))\n"
   ]
  },
  {
   "cell_type": "code",
   "execution_count": 43,
   "metadata": {},
   "outputs": [],
   "source": [
    "# save accuracies\n",
    "import pickle\n",
    "\n",
    "with open('acc_ridge.pkl', 'wb') as f:  # Python 3: open(..., 'wb')\n",
    "    pickle.dump(accuracies_tot, f)"
   ]
  },
  {
   "cell_type": "code",
   "execution_count": 44,
   "metadata": {},
   "outputs": [
    {
     "data": {
      "text/plain": [
       "Text(0.5, 1, 'Accuracy')"
      ]
     },
     "execution_count": 44,
     "metadata": {},
     "output_type": "execute_result"
    },
    {
     "data": {
      "image/png": "[encoded data removed]",
      "text/plain": [
       "<Figure size 1080x360 with 6 Axes>"
      ]
     },
     "metadata": {
      "needs_background": "light"
     },
     "output_type": "display_data"
    }
   ],
   "source": [
    "import seaborn as sns\n",
    "\n",
    "plt.subplots(figsize=(15,5))\n",
    "plt.subplot(1,3,1)\n",
    "fig = sns.heatmap(accuracies_tot[0])\n",
    "fig.set_yticklabels(np.round(lambdas, 5), rotation=60)\n",
    "fig.set_xticklabels(degrees)\n",
    "fig.set_xlabel('degree')\n",
    "fig.set_ylabel('lambda')\n",
    "fig.set_title('Accuracy')\n",
    "plt.subplot(1,3,2)\n",
    "fig = sns.heatmap(accuracies_tot[1])\n",
    "fig.set_xticklabels(degrees)\n",
    "fig.set_xlabel('degree')\n",
    "fig.set_ylabel('lambda')\n",
    "fig.set_title('Accuracy')\n",
    "plt.subplot(1,3,3)\n",
    "fig = sns.heatmap(accuracies_tot[2])\n",
    "fig.set_xticklabels(degrees)\n",
    "fig.set_xlabel('degree')\n",
    "fig.set_ylabel('lambda')\n",
    "fig.set_title('Accuracy')"
   ]
  },
  {
   "cell_type": "code",
   "execution_count": 46,
   "metadata": {},
   "outputs": [
    {
     "name": "stdout",
     "output_type": "stream",
     "text": [
      "SUBSET 0\n",
      "Best degree for subset 0: 1\n",
      "Best lambda for subset 0: 1e-05\n",
      "Accuracy: 0.8423128132326878\n",
      "SUBSET 1\n",
      "Best degree for subset 1: 1\n",
      "Best lambda for subset 1: 1e-05\n",
      "Accuracy: 0.8020478695966161\n",
      "SUBSET 2\n",
      "Best degree for subset 2: 1\n",
      "Best lambda for subset 2: 1e-05\n",
      "Accuracy: 0.8296458526370079\n"
     ]
    }
   ],
   "source": [
    "# y: ↓ (lambdas), x: → (degree)\n",
    "for nb, acc in enumerate(accuracies_tot):\n",
    "    print('SUBSET {}'.format(nb))\n",
    "    ymax = np.asscalar(np.where(acc == np.max(acc))[0])\n",
    "    xmax = np.asscalar(np.where(acc == np.max(acc))[1])\n",
    "    \n",
    "    print('Best degree for subset {}: {}'.format(nb, degrees[xmax]))\n",
    "    print('Best lambda for subset {}: {}'.format(nb, lambdas[ymax]))\n",
    "    print('Accuracy: {}'.format(acc[ymax][xmax]))"
   ]
  },
  {
   "cell_type": "markdown",
   "metadata": {},
   "source": [
    "## Visualization"
   ]
  },
  {
   "cell_type": "code",
   "execution_count": 47,
   "metadata": {},
   "outputs": [
    {
     "name": "stdout",
     "output_type": "stream",
     "text": [
      "1/4 round for the kfold:\n",
      "obtained accur on 1/4 round of kfold:0.7982624709744576\n",
      "2/4 round for the kfold:\n",
      "obtained accur on 2/4 round of kfold:0.8394587236768356\n",
      "3/4 round for the kfold:\n",
      "obtained accur on 3/4 round of kfold:0.8424213307710785\n",
      "4/4 round for the kfold:\n",
      "obtained accur on 4/4 round of kfold:0.843788782577365\n",
      "1/4 round for the kfold:\n",
      "obtained accur on 1/4 round of kfold:0.8129954359836656\n",
      "2/4 round for the kfold:\n",
      "obtained accur on 2/4 round of kfold:0.8431820001601409\n",
      "3/4 round for the kfold:\n",
      "obtained accur on 3/4 round of kfold:0.8439827047802065\n",
      "4/4 round for the kfold:\n",
      "obtained accur on 4/4 round of kfold:0.8397453861243445\n",
      "1/4 round for the kfold:\n"
     ]
    },
    {
     "ename": "KeyboardInterrupt",
     "evalue": "",
     "output_type": "error",
     "traceback": [
      "\u001b[0;31m---------------------------------------------------------------------------\u001b[0m",
      "\u001b[0;31mKeyboardInterrupt\u001b[0m                         Traceback (most recent call last)",
      "\u001b[0;32m<ipython-input-47-547e4b6b4066>\u001b[0m in \u001b[0;36m<module>\u001b[0;34m\u001b[0m\n\u001b[1;32m      7\u001b[0m     \u001b[0;32mfor\u001b[0m \u001b[0midx_lambda\u001b[0m\u001b[0;34m,\u001b[0m \u001b[0mlambda_\u001b[0m \u001b[0;32min\u001b[0m \u001b[0menumerate\u001b[0m\u001b[0;34m(\u001b[0m\u001b[0mlambdas\u001b[0m\u001b[0;34m)\u001b[0m\u001b[0;34m:\u001b[0m\u001b[0;34m\u001b[0m\u001b[0;34m\u001b[0m\u001b[0m\n\u001b[1;32m      8\u001b[0m             \u001b[0mridge\u001b[0m \u001b[0;34m=\u001b[0m \u001b[0;32mlambda\u001b[0m \u001b[0my\u001b[0m\u001b[0;34m,\u001b[0m \u001b[0mx\u001b[0m\u001b[0;34m:\u001b[0m \u001b[0mlst\u001b[0m\u001b[0;34m.\u001b[0m\u001b[0mridge_regression\u001b[0m\u001b[0;34m(\u001b[0m\u001b[0my\u001b[0m\u001b[0;34m,\u001b[0m\u001b[0mx\u001b[0m\u001b[0;34m,\u001b[0m\u001b[0mlambda_\u001b[0m\u001b[0;34m)\u001b[0m\u001b[0;34m\u001b[0m\u001b[0;34m\u001b[0m\u001b[0m\n\u001b[0;32m----> 9\u001b[0;31m             \u001b[0mk_accuracies_train\u001b[0m\u001b[0;34m,\u001b[0m \u001b[0mk_accuracies_test\u001b[0m \u001b[0;34m=\u001b[0m \u001b[0mspl\u001b[0m\u001b[0;34m.\u001b[0m\u001b[0mk_fold_cv\u001b[0m\u001b[0;34m(\u001b[0m\u001b[0my_train\u001b[0m\u001b[0;34m,\u001b[0m \u001b[0mx_train\u001b[0m\u001b[0;34m,\u001b[0m \u001b[0;36m4\u001b[0m\u001b[0;34m,\u001b[0m \u001b[0mridge\u001b[0m\u001b[0;34m,\u001b[0m \u001b[0mhlp\u001b[0m\u001b[0;34m.\u001b[0m\u001b[0maccuracy\u001b[0m\u001b[0;34m)\u001b[0m\u001b[0;34m\u001b[0m\u001b[0;34m\u001b[0m\u001b[0m\n\u001b[0m\u001b[1;32m     10\u001b[0m             \u001b[0mplt\u001b[0m\u001b[0;34m.\u001b[0m\u001b[0msubplot\u001b[0m\u001b[0;34m(\u001b[0m\u001b[0;36m3\u001b[0m\u001b[0;34m,\u001b[0m\u001b[0;36m2\u001b[0m\u001b[0;34m,\u001b[0m\u001b[0midx_lambda\u001b[0m\u001b[0;34m+\u001b[0m\u001b[0;36m1\u001b[0m\u001b[0;34m)\u001b[0m\u001b[0;34m\u001b[0m\u001b[0;34m\u001b[0m\u001b[0m\n\u001b[1;32m     11\u001b[0m             \u001b[0mplt\u001b[0m\u001b[0;34m.\u001b[0m\u001b[0mboxplot\u001b[0m\u001b[0;34m(\u001b[0m\u001b[0mk_accuracies_train\u001b[0m\u001b[0;34m,\u001b[0m \u001b[0mpositions\u001b[0m \u001b[0;34m=\u001b[0m \u001b[0;34m[\u001b[0m\u001b[0midx_lambda\u001b[0m\u001b[0;34m]\u001b[0m\u001b[0;34m)\u001b[0m\u001b[0;34m\u001b[0m\u001b[0;34m\u001b[0m\u001b[0m\n",
      "\u001b[0;32m~/Documents/Cours/ML/trash/MLprojectfall2019/project1/src/split.py\u001b[0m in \u001b[0;36mk_fold_cv\u001b[0;34m(y, X, k, f, metric)\u001b[0m\n\u001b[1;32m     82\u001b[0m         \u001b[0;31m# 2. compute y_hat\u001b[0m\u001b[0;34m\u001b[0m\u001b[0;34m\u001b[0m\u001b[0;34m\u001b[0m\u001b[0m\n\u001b[1;32m     83\u001b[0m         \u001b[0my_hat_test\u001b[0m \u001b[0;34m=\u001b[0m \u001b[0mX_te\u001b[0m \u001b[0;34m@\u001b[0m \u001b[0mw_opt\u001b[0m\u001b[0;34m\u001b[0m\u001b[0;34m\u001b[0m\u001b[0m\n\u001b[0;32m---> 84\u001b[0;31m         \u001b[0my_hat_train\u001b[0m \u001b[0;34m=\u001b[0m \u001b[0mX_tr\u001b[0m \u001b[0;34m@\u001b[0m \u001b[0mw_opt\u001b[0m\u001b[0;34m\u001b[0m\u001b[0;34m\u001b[0m\u001b[0m\n\u001b[0m\u001b[1;32m     85\u001b[0m         \u001b[0my_hat_test\u001b[0m \u001b[0;34m=\u001b[0m \u001b[0;34m[\u001b[0m\u001b[0;34m-\u001b[0m\u001b[0;36m1\u001b[0m \u001b[0;32mif\u001b[0m \u001b[0mi\u001b[0m \u001b[0;34m<\u001b[0m \u001b[0;36m0\u001b[0m \u001b[0;32melse\u001b[0m \u001b[0;36m1.0\u001b[0m \u001b[0;32mfor\u001b[0m \u001b[0mi\u001b[0m \u001b[0;32min\u001b[0m \u001b[0my_hat_test\u001b[0m\u001b[0;34m]\u001b[0m\u001b[0;34m\u001b[0m\u001b[0;34m\u001b[0m\u001b[0m\n\u001b[1;32m     86\u001b[0m         \u001b[0my_hat_train\u001b[0m \u001b[0;34m=\u001b[0m \u001b[0;34m[\u001b[0m\u001b[0;34m-\u001b[0m\u001b[0;36m1\u001b[0m \u001b[0;32mif\u001b[0m \u001b[0mi\u001b[0m \u001b[0;34m<\u001b[0m \u001b[0;36m0\u001b[0m \u001b[0;32melse\u001b[0m \u001b[0;36m1.0\u001b[0m \u001b[0;32mfor\u001b[0m \u001b[0mi\u001b[0m \u001b[0;32min\u001b[0m \u001b[0my_hat_train\u001b[0m\u001b[0;34m]\u001b[0m\u001b[0;34m\u001b[0m\u001b[0;34m\u001b[0m\u001b[0m\n",
      "\u001b[0;31mKeyboardInterrupt\u001b[0m: "
     ]
    },
    {
     "data": {
      "image/png": "[encoded data removed]",
      "text/plain": [
       "<Figure size 1080x792 with 2 Axes>"
      ]
     },
     "metadata": {
      "needs_background": "light"
     },
     "output_type": "display_data"
    }
   ],
   "source": [
    "lambdas = np.logspace(-5, 0, 5)\n",
    "plt.figure(1, figsize=(15, 11))\n",
    "for idx_subset, (x_train, y_train) in enumerate(clean_data_trains):\n",
    "    accuracy_train = np.zeros((len(lambdas)))\n",
    "    accuracy_test = np.zeros((len(lambdas)))\n",
    "    \n",
    "    for idx_lambda, lambda_ in enumerate(lambdas):\n",
    "            ridge = lambda y, x: lst.ridge_regression(y,x,lambda_)\n",
    "            k_accuracies_train, k_accuracies_test = spl.k_fold_cv(y_train, x_train, 4, ridge, hlp.accuracy)\n",
    "            plt.subplot(3,2,idx_lambda+1)\n",
    "            plt.boxplot(k_accuracies_train, positions = [idx_lambda])\n",
    "            plt.boxplot(k_accuracies_test, positions = [idx_lambda])\n",
    "            plt.xlabel(\"lambda\")\n",
    "            plt.ylabel(\"testing rmse\")\n",
    "            plt.title(\"cross validation for categorical subset{i}\".format(i=idx_subset))\n",
    "            # update table\n",
    "            accuracy_train[idx_lambda] = np.mean(k_accuracies_train)\n",
    "            accuracy_test[idx_lambda] = np.mean(k_accuracies_test)\n",
    "    viz.cross_validation_visualization(lambdas, accuracy_train, accuracy_test)"
   ]
  },
  {
   "cell_type": "markdown",
   "metadata": {},
   "source": [
    "## Submission"
   ]
  },
  {
   "cell_type": "markdown",
   "metadata": {},
   "source": [
    "_We now interpolate the data thanks to the model defined 2 cells higher..._"
   ]
  },
  {
   "cell_type": "code",
   "execution_count": null,
   "metadata": {},
   "outputs": [],
   "source": [
    "y_submit = np.zeros(len(tX_test))\n",
    "assert(len(tX_test) == sum([i[0].shape[0] for i in clean_data_tests]))\n",
    "for (x_test,y_indx),(x_train,y_train),meth in zip(clean_data_tests,clean_data_trains,methods):\n",
    "    w_fin,loss = meth(y_train,x_train)\n",
    "    y_test = x_test @ w_fin\n",
    "    y_test = [-1 if i < 0 else 1.0 for i in y_test]\n",
    "    y_submit[y_indx] = y_test"
   ]
  },
  {
   "cell_type": "markdown",
   "metadata": {},
   "source": [
    "_And finally save the results to csv._"
   ]
  },
  {
   "cell_type": "code",
   "execution_count": null,
   "metadata": {},
   "outputs": [],
   "source": [
    "hlp.create_csv_submission(ids_test,y_submit,\"anakin.csv\")"
   ]
  },
  {
   "cell_type": "markdown",
   "metadata": {},
   "source": [
    "## Put your useful trash here"
   ]
  },
  {
   "cell_type": "code",
   "execution_count": null,
   "metadata": {},
   "outputs": [],
   "source": [
    "#trash random dataframe\n",
    "np.random.seed(2)\n",
    "df = pd.DataFrame(np.random.randint(-1002,-995,size =(3,4)), columns=list('ABCD'))\n",
    "df.replace(to_replace = -999,value = np.nan)"
   ]
  },
  {
   "cell_type": "code",
   "execution_count": null,
   "metadata": {
    "collapsed": false,
    "jupyter": {
     "outputs_hidden": false
    }
   },
   "outputs": [],
   "source": [
    "#Yann\n",
    "OUTPUT_PATH = '' # TODO: fill in desired name of output file for submission\n",
    "y_pred = predict_labels(weights, tX_test)\n",
    "create_csv_submission(ids_test, y_pred, OUTPUT_PATH)"
   ]
  }
 ],
 "metadata": {
  "anaconda-cloud": {},
  "kernelspec": {
   "display_name": "Python 3",
   "language": "python",
   "name": "python3"
  },
  "language_info": {
   "codemirror_mode": {
    "name": "ipython",
    "version": 3
   },
   "file_extension": ".py",
   "mimetype": "text/x-python",
   "name": "python",
   "nbconvert_exporter": "python",
   "pygments_lexer": "ipython3",
   "version": "3.7.4"
  }
 },
 "nbformat": 4,
 "nbformat_minor": 4
}
