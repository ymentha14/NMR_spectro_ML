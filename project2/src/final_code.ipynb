{
 "cells": [
  {
   "cell_type": "markdown",
   "metadata": {
    "toc-hr-collapsed": false
   },
   "source": [
    "# Machine Learning project CS-433: NMR spectroscopy supervised learning\n",
    "\n"
   ]
  },
  {
   "cell_type": "markdown",
   "metadata": {},
   "source": [
    "___"
   ]
  },
  {
   "cell_type": "markdown",
   "metadata": {},
   "source": [
    "## Schedules:"
   ]
  },
  {
   "cell_type": "markdown",
   "metadata": {},
   "source": [
    "* Week 10 (18-24 November): \n",
    " * Tests of various linear models/simple NN on a 10% subset of data\n",
    "* Week 11 (25-1 December):\n",
    " * Feature selection: being able to come with a good set of features\n",
    "* Week 12 (2-8 December):\n",
    " * Start of big scale analysis, implementation of the models which perform well at small scale\n",
    "* Week 13 (9-15 December):\n",
    " * Wrapping up\n",
    "* Week 14 (16-22 December): \n",
    " * 19th December: Deadline"
   ]
  },
  {
   "cell_type": "markdown",
   "metadata": {},
   "source": [
    "___"
   ]
  },
  {
   "cell_type": "markdown",
   "metadata": {
    "toc-hr-collapsed": false
   },
   "source": [
    "## Table of contents"
   ]
  },
  {
   "cell_type": "markdown",
   "metadata": {},
   "source": [
    "1. [Log Book](#log)\n",
    "2. [Pipeline](#pipeline)\n",
    "3. [Data Processing](#data_proc) <br>\n",
    "&emsp;3.1. [Data Vizualisation](#data_viz) <br>\n",
    "&emsp;3.2 [Outliers detection](#outliers) <br>\n",
    "  &emsp;&emsp;3.2.1 [DBSCAN](#dbscan) <br>\n",
    "  &emsp;&emsp;3.2.2 [Inter quantile range method](#iqr) <br>\n",
    "&emsp;3.3 [Scaling](#scaling) <br>\n",
    "&emsp;&emsp;3.3.1 [Min max scaling](#minmax) <br>\n",
    "&emsp;3.4 [Dimensionality reduction](#dim_red) <br>\n",
    "  &emsp;&emsp;3.4.1 [PCA](#pca) <br>\n",
    "&emsp;3.5 [Feature Selection](#feat_sel) <br>\n",
    "  &emsp;&emsp;3.5.1 [Relative importance from linear regression](#rel_imp_lin) <br>\n",
    "  &emsp;&emsp;3.5.2 [Random forest](#rand_for) <br>\n",
    "  &emsp;&emsp;3.5.3 [Univariate feature selection](#un_feat_sel) <br>\n",
    "  &emsp;&emsp;3.5.4 [Recursive feature selection](#rec_feat_sel) <br>\n",
    "  &emsp;&emsp;3.5.5 [Lasso Regression](#lasso) <br>\n",
    "  &emsp;&emsp;3.5.6 [Boruta](#boruta) <br>\n",
    "&emsp;3.6 [Models](#models) <br>\n",
    "  &emsp;&emsp;3.6.1 [Linear Models](#lin_mods) <br>\n",
    "  &emsp;&emsp;3.6.2 [Neural Networks](#NN) <br>\n",
    "4. [Main](#main) <br>\n",
    "   4.1 [ANN implementation](#ann_imp) <br>\n",
    "    "
   ]
  },
  {
   "cell_type": "code",
   "execution_count": 16,
   "metadata": {},
   "outputs": [
    {
     "name": "stdout",
     "output_type": "stream",
     "text": [
      "The autoreload extension is already loaded. To reload it, use:\n",
      "  %reload_ext autoreload\n"
     ]
    }
   ],
   "source": [
    "import os\n",
    "import scipy.stats\n",
    "import sklearn.metrics\n",
    "import warnings\n",
    "\n",
    "import numpy as np\n",
    "import pandas as pd\n",
    "import seaborn as sns\n",
    "import matplotlib.pyplot as plt\n",
    "\n",
    "from sklearn.feature_selection import RFE\n",
    "from sklearn.feature_selection import SelectFromModel\n",
    "from sklearn.pipeline import Pipeline\n",
    "from sklearn.model_selection import KFold\n",
    "from sklearn.preprocessing import MinMaxScaler\n",
    "from sklearn.preprocessing import RobustScaler\n",
    "\n",
    "import pickle\n",
    "from sklearn.model_selection import GridSearchCV\n",
    "from sklearn.feature_selection import SelectKBest,f_regression\n",
    "from sklearn.metrics import mean_squared_error\n",
    "from sklearn.metrics import mean_absolute_error\n",
    "from sklearn.metrics import r2_score\n",
    "from sklearn.model_selection import cross_validate\n",
    "from sklearn.model_selection import cross_val_score\n",
    "from sklearn.model_selection import train_test_split\n",
    "from sklearn.decomposition import PCA\n",
    "from sklearn.decomposition import KernelPCA\n",
    "from sklearn.linear_model import LinearRegression,Ridge,Lasso,ElasticNet\n",
    "\n",
    "# For neural net part\n",
    "\n",
    "\n",
    "import torch \n",
    "import torch.nn as nn\n",
    "import torch.nn.functional as F\n",
    "from torch import optim\n",
    "\n",
    "\n",
    "from keras.callbacks import ModelCheckpoint\n",
    "from keras.models import Sequential\n",
    "from keras.optimizers import Adam, SGD\n",
    "from keras.layers import Dense, Activation, Flatten, Dropout, BatchNormalization\n",
    "\n",
    "\n",
    "%load_ext autoreload\n",
    "%autoreload 2\n",
    "import sys, os\n",
    "sys.path.append(os.path.join(sys.path[0],'src'))\n",
    "import helpers as hl\n",
    "import data_viz as dv\n",
    "import outliers as out\n",
    "import lin_mods as lm\n",
    "import neural_nets as nrn\n",
    "import NN3 as nn3\n",
    "import k_models"
   ]
  },
  {
   "cell_type": "markdown",
   "metadata": {},
   "source": [
    "## 0. Import data\n",
    "<a id='import'></a>"
   ]
  },
  {
   "cell_type": "code",
   "execution_count": 13,
   "metadata": {},
   "outputs": [],
   "source": [
    "data_folder = '../data'\n",
    "NB_TRAINS = 1000\n",
    "\n",
    "files = os.listdir(data_folder)  \n",
    "X_files = [filename for filename in files if (filename.endswith('.npy') and ('rsr' in filename))]\n",
    "y_files = [filename for filename in files if (filename.endswith('.npy') and ('chemical_shielding' in filename))]\n",
    "\n",
    "\n",
    "tot_data_X = np.load(data_folder + '/' + X_files[1], mmap_mode='r')\n",
    "tot_data_Y = np.load(data_folder + '/' + y_files[0], mmap_mode='r')\n",
    "\n",
    "tot_data_X,X_test_final,tot_data_Y,y_test_final = train_test_split(tot_data_X,tot_data_Y,test_size = 0.1,random_state = 14)\n"
   ]
  },
  {
   "cell_type": "code",
   "execution_count": 91,
   "metadata": {},
   "outputs": [
    {
     "name": "stdout",
     "output_type": "stream",
     "text": [
      "(34662, 14400)\n",
      "(34662,)\n"
     ]
    }
   ],
   "source": [
    "print(tot_data_X.shape)\n",
    "print(tot_data_Y.shape)"
   ]
  },
  {
   "cell_type": "markdown",
   "metadata": {},
   "source": [
    "## 1. Data Vizualisation\n",
    "<a id='data_viz'></a>"
   ]
  },
  {
   "cell_type": "markdown",
   "metadata": {},
   "source": [
    "### 1.1 Feature Distribution"
   ]
  },
  {
   "cell_type": "code",
   "execution_count": 92,
   "metadata": {},
   "outputs": [
    {
     "data": {
      "image/png": "[encoded data removed]",
      "text/plain": [
       "<Figure size 1080x1080 with 9 Axes>"
      ]
     },
     "metadata": {},
     "output_type": "display_data"
    }
   ],
   "source": [
    "dv.plot_feature_dist(tot_data_X)"
   ]
  },
  {
   "cell_type": "markdown",
   "metadata": {},
   "source": [
    "<div class=\"alert alert-block alert-success\">\n",
    "\n",
    "We see that the different features are scaled pretty differently, we might want to scale them beforehand. Since they don' look like following a gaussian, we'll apply min/max scaling: but in order to do so, we first need to get rid of the outliers thanks to one of the following methods\n",
    "    \n",
    "* Zscore: not adapted as our data might not be gaussian\n",
    "* DBScan\n",
    "* Isolation Forest\n",
    "    </div>"
   ]
  },
  {
   "cell_type": "markdown",
   "metadata": {},
   "source": [
    "## 2. Data preprocessing\n",
    "<a id='preprocess'></a>"
   ]
  },
  {
   "cell_type": "markdown",
   "metadata": {
    "toc-hr-collapsed": false
   },
   "source": [
    "### 2.1 Outliers detection\n",
    "<a id='outliers'></a>"
   ]
  },
  {
   "cell_type": "markdown",
   "metadata": {},
   "source": [
    "#### 2.2.2 Interquartile range method (IQR)\n",
    "<a id = 'iqr'></a>"
   ]
  },
  {
   "cell_type": "markdown",
   "metadata": {},
   "source": [
    "<div class=\"alert alert-block alert-success\">\n",
    "Consists in considering as outliers all data points that lie in >1.5 interquartile range from the quartiles:\n",
    "\n",
    "* Method 1: removing the samples which are considered as outliers in their label\n",
    "* Method 2: removing the samples which are considered as outliers for any of the x features\n",
    "    </div>"
   ]
  },
  {
   "cell_type": "code",
   "execution_count": 99,
   "metadata": {},
   "outputs": [
    {
     "name": "stdout",
     "output_type": "stream",
     "text": [
      "Successful read.\n"
     ]
    }
   ],
   "source": [
    "with open('../pickle_files/scores_IQR_methods.pickle', 'rb') as f:\n",
    "    try:\n",
    "        (scores1,scores2) = pickle.load(f)\n",
    "        print('Successful read.')\n",
    "    except :\n",
    "        # load a subset of the data\n",
    "        data_X, data_y = hl.load_data(NB_TRAINS, tot_data_X, tot_data_Y)\n",
    "\n",
    "        lin = LinearRegression()\n",
    "        SCORING = ['neg_mean_squared_error', 'neg_mean_absolute_error','r2']\n",
    "\n",
    "        #method 1\n",
    "        out_remover = out.IQR_outlier()\n",
    "        out_remover.fit(data_X)\n",
    "        data_X1,data_y1 = out_remover.transform(data_X,data_y)\n",
    "        scores1 = cross_validate(lin, data_X1, data_y1, cv=10,scoring = SCORING)\n",
    "\n",
    "        #method 2\n",
    "        data_X2,data_y2 = out.IQR_y_outliers(data_X,data_y)\n",
    "        scores2 = cross_validate(lin,data_X,data_y,cv = 10,scoring = SCORING)"
   ]
  },
  {
   "cell_type": "markdown",
   "metadata": {},
   "source": [
    "<div class=\"alert alert-block alert-success\">\n",
    "\n",
    "We compare the 2 methods on a classic linear regression task in order to assess which one performs better: \n",
    "    </div>"
   ]
  },
  {
   "cell_type": "code",
   "execution_count": 106,
   "metadata": {},
   "outputs": [
    {
     "data": {
      "image/png": "[encoded data removed]",
      "text/plain": [
       "<Figure size 432x288 with 1 Axes>"
      ]
     },
     "metadata": {},
     "output_type": "display_data"
    }
   ],
   "source": [
    "def plot_box_plot(scores1,scores2,metric):\n",
    "    sns.set(style=\"whitegrid\")\n",
    "    scores_df = pd.DataFrame({'y_outlier_removal':scores1[metric],'x_outlier_removal':scores2[metric]})\n",
    "    sns.boxplot(x=\"variable\", y=\"value\", data=pd.melt(scores_df))\n",
    "plot_box_plot(scores1,scores2,'test_neg_mean_absolute_error')"
   ]
  },
  {
   "cell_type": "markdown",
   "metadata": {},
   "source": [
    "<div class=\"alert alert-block alert-success\">\n",
    "\n",
    "It turns out that removing data with erronate labels is way more efficient in terms of MSE: we'll prefer this method over the second one over the project. One still needs to assess its efficiency at a larger scale though, which is done in the following section.\n",
    "    </div>"
   ]
  },
  {
   "cell_type": "markdown",
   "metadata": {},
   "source": [
    "<div class=\"alert alert-block alert-success\">\n",
    "We now study the effet of this method  with the number of datas: it leads to a slight improvement and a noticeable reduction of variance.\n",
    "    </div>"
   ]
  },
  {
   "cell_type": "code",
   "execution_count": 95,
   "metadata": {},
   "outputs": [
    {
     "data": {
      "image/png": "[encoded data removed]",
      "text/plain": [
       "<Figure size 720x576 with 1 Axes>"
      ]
     },
     "metadata": {},
     "output_type": "display_data"
    }
   ],
   "source": [
    "with open('../pickle_files/stats_iqr_vs_n.pkl', 'rb') as f: \n",
    "        noiqr_5000_mse, noiqr_20000_mse, iqr_5000_mse, iqr_20000_mse, noiqr_5000_mae, noiqr_20000_mae, iqr_5000_mae, iqr_20000_mae, noiqr_5000_r2, noiqr_20000_r2, iqr_5000_r2, iqr_20000_r2 = pickle.load(f)\n",
    "dv.plot_iqr_effect(noiqr_5000_mae, noiqr_20000_mae, iqr_5000_mae, iqr_20000_mae)"
   ]
  },
  {
   "cell_type": "markdown",
   "metadata": {},
   "source": [
    "<div class=\"alert alert-block alert-success\">\n",
    "Visual interpretation of the outliers removal method\n",
    "</div>"
   ]
  },
  {
   "cell_type": "code",
   "execution_count": 110,
   "metadata": {},
   "outputs": [
    {
     "data": {
      "image/png": "[encoded data removed]",
      "text/plain": [
       "<Figure size 720x504 with 4 Axes>"
      ]
     },
     "metadata": {},
     "output_type": "display_data"
    }
   ],
   "source": [
    "X_filtered, y_filtered = out.IQR_y_outliers(tot_data_X, tot_data_Y)\n",
    "\n",
    "dv.plot_iqr(tot_data_Y, y_filtered)"
   ]
  },
  {
   "cell_type": "markdown",
   "metadata": {},
   "source": [
    "## 2.2 Dimension Reduction"
   ]
  },
  {
   "cell_type": "markdown",
   "metadata": {},
   "source": [
    "#### 2.2.1 PCA\n",
    "<a id='pca'></a>"
   ]
  },
  {
   "cell_type": "code",
   "execution_count": 111,
   "metadata": {},
   "outputs": [
    {
     "data": {
      "image/png": "[encoded data removed]",
      "text/plain": [
       "<Figure size 720x576 with 1 Axes>"
      ]
     },
     "metadata": {},
     "output_type": "display_data"
    }
   ],
   "source": [
    "data_X,data_y = hl.load_data(NB_TRAINS,tot_data_X,tot_data_Y)\n",
    "dv.plot_PCA(100,data_X)"
   ]
  },
  {
   "cell_type": "markdown",
   "metadata": {},
   "source": [
    "<div class=\"alert alert-block alert-success\">\n",
    "When using <b>PCA</b>, we selected a number of components equal to the $98\\%$ of the total explained variance, <i>i.e.</i> 80 principle components.\n",
    "</div>"
   ]
  },
  {
   "cell_type": "markdown",
   "metadata": {
    "toc-hr-collapsed": false
   },
   "source": [
    "## 2.4 Feature Selection\n",
    "<a id='feat_sel'></a>"
   ]
  },
  {
   "cell_type": "markdown",
   "metadata": {},
   "source": [
    "#### 3.5.3 Univariate feature selection\n",
    "<a id='un_feat_sel'></a>"
   ]
  },
  {
   "cell_type": "markdown",
   "metadata": {},
   "source": [
    "<div class=\"alert alert-block alert-success\">\n",
    "Running univariate feature selection on the laptops turned out to be extremely costly: this is why we performed it after running a PCA on the trained subset of data. This was before having access to more computational power, which allowed us to perform RFS.\n",
    "</div>"
   ]
  },
  {
   "cell_type": "code",
   "execution_count": 113,
   "metadata": {},
   "outputs": [
    {
     "data": {
      "image/png": "[encoded data removed]",
      "text/plain": [
       "<Figure size 864x576 with 4 Axes>"
      ]
     },
     "metadata": {},
     "output_type": "display_data"
    }
   ],
   "source": [
    "fig,axes = plt.subplots(2,2,figsize = (12,8))\n",
    "for i in range(4):\n",
    "    data_X,data_y = hl.load_data(NB_TRAINS,tot_data_X,tot_data_Y)\n",
    "    pca = PCA(n_components = 100)\n",
    "    pca.fit(data_X)\n",
    "    data_X_pca = pca.transform(data_X)\n",
    "    hl.univ_feat_sel(data_X_pca,data_y,ax = axes[np.unravel_index(i,(2,2))])"
   ]
  },
  {
   "cell_type": "markdown",
   "metadata": {},
   "source": [
    "<div class=\"alert alert-block alert-success\">\n",
    "As we can see, the importance of the various PCs is not regular across various random samples for data_X: this is probably due to the fact that the PCs are not the same for a different subset of data. \n",
    "    </div>"
   ]
  },
  {
   "cell_type": "markdown",
   "metadata": {},
   "source": [
    "#### 3.5.4 Recursive feature elimination\n",
    "<a id='rec_feat_sel'></a>"
   ]
  },
  {
   "cell_type": "markdown",
   "metadata": {},
   "source": [
    "<div class=\"alert alert-block alert-success\">\n",
    "RFE turns out to be extensively demanding in computational power: it crashed many times on our laptops. Nevertheless, the results it gave us allowed the various linear/NN models to perform as good and even better for a computational time drastically reduced. The optimal alpha found in the next section is used in order to perform this feature selection.\n",
    "    </div>"
   ]
  },
  {
   "cell_type": "code",
   "execution_count": 7,
   "metadata": {},
   "outputs": [
    {
     "name": "stdout",
     "output_type": "stream",
     "text": [
      "Successful read.\n"
     ]
    }
   ],
   "source": [
    "with open('../pickle_files/RFE.pickle', 'rb') as f:\n",
    "    try:\n",
    "        print('Successful read.')\n",
    "        rfe = pickle.load(f)\n",
    "    except :\n",
    "        ridge = Ridge(alpha=0.003)\n",
    "        rfe = RFE(ridge,step = 0.05,verbose = True)\n",
    "        fit = rfe.fit(tot_data_X,tot_data_Y)\n",
    "        print(\"Num Features: %d\" % fit.n_features_)\n",
    "        print(\"Selected Features: %s\" % fit.support_)\n",
    "        print(\"Feature Ranking: %s\" % fit.ranking_)"
   ]
  },
  {
   "cell_type": "code",
   "execution_count": 117,
   "metadata": {},
   "outputs": [
    {
     "name": "stdout",
     "output_type": "stream",
     "text": [
      "RFE selects 2160 features\n"
     ]
    }
   ],
   "source": [
    "print('RFE selects %i features' % rfe.n_features_)"
   ]
  },
  {
   "cell_type": "markdown",
   "metadata": {
    "toc-hr-collapsed": false
   },
   "source": [
    "## 2.5 Linear Models Optimization\n",
    "<a id='models'></a>"
   ]
  },
  {
   "cell_type": "code",
   "execution_count": 14,
   "metadata": {},
   "outputs": [],
   "source": [
    "data_X, data_y = hl.load_data(100,tot_data_X,tot_data_Y)\n",
    "interv = np.logspace(np.log10(0.00001),np.log10(10000),30)\n",
    "K = 8"
   ]
  },
  {
   "cell_type": "markdown",
   "metadata": {},
   "source": [
    "### 2.5.1 Ridge Regression"
   ]
  },
  {
   "cell_type": "code",
   "execution_count": 122,
   "metadata": {},
   "outputs": [
    {
     "name": "stdout",
     "output_type": "stream",
     "text": [
      "0.0030391953823131978\n"
     ]
    },
    {
     "data": {
      "image/png": "[encoded data removed]",
      "text/plain": [
       "<Figure size 432x288 with 1 Axes>"
      ]
     },
     "metadata": {},
     "output_type": "display_data"
    }
   ],
   "source": [
    "alph_opt = lm.test_alphas_meth(Ridge,interv,data_X,data_y,k = K)\n",
    "print(alph_opt)"
   ]
  },
  {
   "cell_type": "markdown",
   "metadata": {},
   "source": [
    "### 2.5.2 Lasso Regression"
   ]
  },
  {
   "cell_type": "code",
   "execution_count": 17,
   "metadata": {},
   "outputs": [
    {
     "name": "stdout",
     "output_type": "stream",
     "text": [
      "0.0007278953843983154\n"
     ]
    },
    {
     "data": {
      "image/png": "[encoded data removed]",
      "text/plain": [
       "<Figure size 432x288 with 1 Axes>"
      ]
     },
     "metadata": {
      "needs_background": "light"
     },
     "output_type": "display_data"
    }
   ],
   "source": [
    "with warnings.catch_warnings():\n",
    "    warnings.simplefilter(\"ignore\")\n",
    "    alph_opt = lm.test_alphas_meth(Lasso,interv,data_X,data_y,k = K,)\n",
    "    print(alph_opt)"
   ]
  },
  {
   "cell_type": "markdown",
   "metadata": {},
   "source": [
    "### 2.5.3 Elastic Nets"
   ]
  },
  {
   "cell_type": "code",
   "execution_count": 18,
   "metadata": {},
   "outputs": [
    {
     "name": "stdout",
     "output_type": "stream",
     "text": [
      "0.00017433288221999874\n"
     ]
    },
    {
     "data": {
      "image/png": "[encoded data removed]",
      "text/plain": [
       "<Figure size 432x288 with 1 Axes>"
      ]
     },
     "metadata": {
      "needs_background": "light"
     },
     "output_type": "display_data"
    }
   ],
   "source": [
    "with warnings.catch_warnings():\n",
    "    warnings.simplefilter(\"ignore\")\n",
    "    alph_opt = lm.test_alphas_meth(ElasticNet,interv,data_X,data_y,k = K)\n",
    "    print(alph_opt)"
   ]
  },
  {
   "cell_type": "markdown",
   "metadata": {},
   "source": [
    "## 2.6 Neural Networks\n",
    "<a id='pytorch'></a>"
   ]
  },
  {
   "cell_type": "markdown",
   "metadata": {},
   "source": [
    "### 2.1 Pytorch NN"
   ]
  },
  {
   "cell_type": "markdown",
   "metadata": {},
   "source": [
    "<div class=\"alert alert-block alert-success\">\n",
    "\n",
    "The best results were reached using RFE followed by a training on XXXXX samples on the architecture 5 of `neural_nets.py`\n",
    "    </div>"
   ]
  },
  {
   "cell_type": "markdown",
   "metadata": {},
   "source": [
    "_c.f._ `neural_nets.py` file."
   ]
  },
  {
   "cell_type": "markdown",
   "metadata": {},
   "source": [
    "### 2.2 Keras NN\n",
    "<a id='keras'></a>"
   ]
  },
  {
   "cell_type": "markdown",
   "metadata": {},
   "source": [
    "_c.f._ `k_models.py` file."
   ]
  },
  {
   "cell_type": "markdown",
   "metadata": {},
   "source": [
    "### 2.2 NN3"
   ]
  },
  {
   "cell_type": "markdown",
   "metadata": {},
   "source": [
    "<div class=\"alert alert-block alert-success\">\n",
    "\n",
    "We developped a ensemble method taking an object oriented form as a class who could take advantage of the non redondant information of the 3 different datasets. Since the best architecture was the same for the 3 datasets, the class sequentially trains on times the same architecture on each dataset, before \"averaging\" their respecive inputs thanks to the following formula (which is robust to outliers, and assumes that as 2 predictions are close, it is not by chance and that we should not take the third one into account. \n",
    "    </div>"
   ]
  },
  {
   "cell_type": "markdown",
   "metadata": {},
   "source": [
    "$\\bar{y} = \\frac{\\sum_{j \\in S} \\sum_{j \\in S,i \\neq j}\\frac{1}{a_{ij}}y_{i}}{\\sum_{j \\in S}\\sum_{i \\in S,i \\neq j}\\frac{1}{a_{ij}}},a_{ij} = |y_{i} - y_{j}|$"
   ]
  },
  {
   "cell_type": "markdown",
   "metadata": {},
   "source": [
    "_c.f._ `NN3.py` file."
   ]
  },
  {
   "cell_type": "markdown",
   "metadata": {},
   "source": [
    "## 3. Main\n",
    "<a id='main'></a>"
   ]
  },
  {
   "cell_type": "markdown",
   "metadata": {},
   "source": [
    "<div class=\"alert alert-block alert-success\">\n",
    "\n",
    "The main consists of the different grid search for linear models and trainings for NN.\n",
    "    </div>"
   ]
  },
  {
   "cell_type": "markdown",
   "metadata": {},
   "source": [
    "### 3.1 Linear Models Pipelines\n",
    "<a id='main_pytorch'></a>"
   ]
  },
  {
   "cell_type": "markdown",
   "metadata": {},
   "source": [
    "<div class=\"alert alert-block alert-success\">\n",
    "\n",
    "Each cell here is meant to do a whole pipeline, from loading a certain number of samples, preprocessing etc. We keep using the R2 score, the MSE and the MAE as our metrics.\n",
    "    </div>"
   ]
  },
  {
   "cell_type": "code",
   "execution_count": 6,
   "metadata": {},
   "outputs": [
    {
     "name": "stdout",
     "output_type": "stream",
     "text": [
      "Successful read.\n"
     ]
    }
   ],
   "source": [
    "SCORING = ['neg_mean_squared_error', 'neg_mean_absolute_error','r2']\n",
    "path_dic = {'CSD-10k_H_fps_1k_MD_n_12_l_9_rc_3.0_gw_0.3_rsr_1.0_rss_2.5_rse_5':'3angst',\n",
    "           'CSD-10k_H_fps_1k_MD_n_12_l_9_rc_5.0_gw_0.3_rsr_1.0_rss_2.5_rse_5':'5angst',\n",
    "           'CSD-10k_H_fps_1k_MD_n_12_l_9_rc_7.0_gw_0.3_rsr_1.0_rss_2.5_rse_5':'7angst'}\n",
    "\n",
    "data_path = 'CSD-10k_H_fps_1k_MD_n_12_l_9_rc_5.0_gw_0.3_rsr_1.0_rss_2.5_rse_5'\n",
    "n_samples = 8000\n",
    "with open('../pickle_files/RFE.pickle', 'rb') as f:\n",
    "    print('Successful read.')\n",
    "    rfe = pickle.load(f)\n",
    "K = 4"
   ]
  },
  {
   "cell_type": "markdown",
   "metadata": {},
   "source": [
    "### Pipeline 0: Pure Ridge"
   ]
  },
  {
   "cell_type": "code",
   "execution_count": 5,
   "metadata": {
    "collapsed": true,
    "jupyter": {
     "outputs_hidden": true
    }
   },
   "outputs": [
    {
     "ename": "KeyError",
     "evalue": "'CSD-10k_H_fps_1k_MD_n_12_l_9_rc_3.0_gw_0.5_rsr_1.0_rss_2.5_rse_5'",
     "output_type": "error",
     "traceback": [
      "\u001b[0;31m---------------------------------------------------------------------------\u001b[0m",
      "\u001b[0;31mKeyError\u001b[0m                                  Traceback (most recent call last)",
      "\u001b[0;32m<ipython-input-5-cb7d70311e41>\u001b[0m in \u001b[0;36m<module>\u001b[0;34m\u001b[0m\n\u001b[1;32m     22\u001b[0m \u001b[0;34m\u001b[0m\u001b[0m\n\u001b[1;32m     23\u001b[0m \u001b[0mresults\u001b[0m \u001b[0;34m=\u001b[0m \u001b[0mcross_validate\u001b[0m\u001b[0;34m(\u001b[0m\u001b[0mpipeline\u001b[0m\u001b[0;34m,\u001b[0m\u001b[0mdata_X\u001b[0m\u001b[0;34m,\u001b[0m \u001b[0mdata_y\u001b[0m\u001b[0;34m,\u001b[0m \u001b[0mcv\u001b[0m \u001b[0;34m=\u001b[0m \u001b[0mcv\u001b[0m\u001b[0;34m,\u001b[0m\u001b[0mscoring\u001b[0m\u001b[0;34m=\u001b[0m\u001b[0mSCORING\u001b[0m\u001b[0;34m)\u001b[0m\u001b[0;34m\u001b[0m\u001b[0;34m\u001b[0m\u001b[0m\n\u001b[0;32m---> 24\u001b[0;31m \u001b[0mlm\u001b[0m\u001b[0;34m.\u001b[0m\u001b[0mlog_model\u001b[0m\u001b[0;34m(\u001b[0m\u001b[0mresults\u001b[0m\u001b[0;34m,\u001b[0m\u001b[0mpipeline\u001b[0m\u001b[0;34m,\u001b[0m\u001b[0mparam_grid\u001b[0m\u001b[0;34m,\u001b[0m\u001b[0mpath_dic\u001b[0m\u001b[0;34m[\u001b[0m\u001b[0mdata_path\u001b[0m\u001b[0;34m]\u001b[0m\u001b[0;34m)\u001b[0m\u001b[0;34m\u001b[0m\u001b[0;34m\u001b[0m\u001b[0m\n\u001b[0m\u001b[1;32m     25\u001b[0m \u001b[0;34m\u001b[0m\u001b[0m\n\u001b[1;32m     26\u001b[0m \u001b[0mlm\u001b[0m\u001b[0;34m.\u001b[0m\u001b[0mdisplay_score\u001b[0m\u001b[0;34m(\u001b[0m\u001b[0mresults\u001b[0m\u001b[0;34m)\u001b[0m\u001b[0;34m\u001b[0m\u001b[0;34m\u001b[0m\u001b[0m\n",
      "\u001b[0;31mKeyError\u001b[0m: 'CSD-10k_H_fps_1k_MD_n_12_l_9_rc_3.0_gw_0.5_rsr_1.0_rss_2.5_rse_5'"
     ]
    }
   ],
   "source": [
    "data_X,data_y = hl.load_data(n_samples,tot_data_X,tot_data_Y)\n",
    "\n",
    "rid = Ridge()\n",
    "pipeline = Pipeline([\n",
    "  ('rid', rid)\n",
    "])\n",
    "\n",
    "param_grid = {\n",
    "    'rid__alpha': np.logspace(np.log10(0.00001),np.log10(10),10)\n",
    "}\n",
    "\n",
    "cv = KFold(n_splits = K)\n",
    "search = GridSearchCV(pipeline, param_grid, scoring = 'neg_mean_absolute_error',iid=False, cv=cv)\n",
    "search.fit(data_X,data_y)\n",
    "\n",
    "best_score = search.best_score_\n",
    "bp_ = search.best_params_\n",
    "be_ = search.best_estimator_\n",
    "\n",
    "#refit with the best parameters\n",
    "pipeline.set_params(rid__alpha = bp_['rid__alpha'])\n",
    "\n",
    "results = cross_validate(pipeline,data_X, data_y, cv = cv,scoring=SCORING)\n",
    "lm.log_model(results,pipeline,param_grid,path_dic[data_path])\n",
    "\n",
    "lm.display_score(results)\n",
    "\n",
    "print(search.best_estimator_.named_steps)"
   ]
  },
  {
   "cell_type": "markdown",
   "metadata": {},
   "source": [
    "#### Pipeline 1"
   ]
  },
  {
   "cell_type": "code",
   "execution_count": 8,
   "metadata": {},
   "outputs": [
    {
     "name": "stdout",
     "output_type": "stream",
     "text": [
      "Log saved\n",
      "On 4 folds\n",
      "Obtained MSE on test set 1.06 \n",
      "Obtained MAE on test set 0.78 \n",
      "Obtained r2 on test set 0.88 \n",
      "{'min_max': MinMaxScaler(copy=True, feature_range=(0, 1)), 'feat_sel': SelectKBest(k=3000, score_func=<function f_regression at 0x1a1ef87440>), 'pca': PCA(copy=True, iterated_power='auto', n_components=100, random_state=None,\n",
      "    svd_solver='auto', tol=0.0, whiten=False), 'rid': Ridge(alpha=0.046415888336127795, copy_X=True, fit_intercept=True,\n",
      "      max_iter=None, normalize=False, random_state=None, solver='auto',\n",
      "      tol=0.001)}\n"
     ]
    }
   ],
   "source": [
    "data_X,data_y = hl.load_data(n_samples,tot_data_X,tot_data_Y)\n",
    "\n",
    "data_X,data_y = out.IQR_y_outliers(data_X,data_y)\n",
    "\n",
    "pca = PCA()\n",
    "min_max = MinMaxScaler()\n",
    "rid = Ridge()\n",
    "sel = SelectKBest(score_func=f_regression)\n",
    "pipeline = Pipeline([\n",
    "  ('min_max',min_max),\n",
    "  ('feat_sel', sel),\n",
    "  ('pca',pca),\n",
    "  ('rid', rid)\n",
    "])\n",
    "\n",
    "param_grid = {\n",
    "    'pca__n_components': [80,90,100],\n",
    "    'rid__alpha': np.logspace(np.log10(0.001),np.log10(100),4),\n",
    "    'feat_sel__k': [2000,3000],\n",
    "}\n",
    "\n",
    "cv = KFold(n_splits = K)\n",
    "search = GridSearchCV(pipeline, param_grid, scoring = 'neg_mean_absolute_error',iid=False, cv=cv)\n",
    "search.fit(data_X,data_y)\n",
    "\n",
    "best_score = search.best_score_\n",
    "bp_ = search.best_params_\n",
    "be_ = search.best_estimator_\n",
    "\n",
    "#refit with the best parameters\n",
    "pipeline.set_params(pca__n_components= bp_['pca__n_components'],feat_sel__k = bp_['feat_sel__k'],rid__alpha = bp_['rid__alpha'])\n",
    "\n",
    "results = cross_validate(pipeline,data_X, data_y, cv = cv,scoring=SCORING)\n",
    "lm.log_model(results,pipeline,param_grid,path_dic[data_path])\n",
    "\n",
    "lm.display_score(results)\n",
    "\n",
    "print(search.best_estimator_.named_steps)"
   ]
  },
  {
   "cell_type": "markdown",
   "metadata": {},
   "source": [
    "#### Pipeline 2"
   ]
  },
  {
   "cell_type": "code",
   "execution_count": 9,
   "metadata": {},
   "outputs": [
    {
     "name": "stdout",
     "output_type": "stream",
     "text": [
      "Log saved\n",
      "On 4 folds\n",
      "Obtained MSE on test set 0.58 \n",
      "Obtained MAE on test set 0.54 \n",
      "Obtained r2 on test set 0.96 \n",
      "{'rid': Ridge(alpha=0.001, copy_X=True, fit_intercept=True, max_iter=None,\n",
      "      normalize=False, random_state=None, solver='auto', tol=0.001)}\n"
     ]
    }
   ],
   "source": [
    "#Pipeline 2\n",
    "\n",
    "data_X,data_y = hl.load_data(n_samples,tot_data_X,tot_data_Y)\n",
    "data_X = data_X[:,rfe.support_]\n",
    "\n",
    "\n",
    "\n",
    "#data_X,data_y = out.IQR_y_outliers(data_X,data_y)\n",
    "\n",
    "rid = Ridge()\n",
    "pipeline = Pipeline([\n",
    "  ('rid', rid)\n",
    "])\n",
    "\n",
    "param_grid = {\n",
    "    'rid__alpha': np.logspace(np.log10(0.001),np.log10(1000),10),\n",
    "}\n",
    "\n",
    "cv = KFold(n_splits = K)\n",
    "search = GridSearchCV(pipeline, param_grid, scoring = 'neg_mean_absolute_error',iid=False, cv=cv)\n",
    "search.fit(data_X,data_y)\n",
    "\n",
    "best_score = search.best_score_\n",
    "bp_ = search.best_params_\n",
    "be_ = search.best_estimator_\n",
    "\n",
    "pipeline.set_params(rid__alpha = bp_['rid__alpha'])\n",
    "\n",
    "\n",
    "results = cross_validate(pipeline,data_X, data_y, cv = cv,scoring=SCORING)\n",
    "lm.log_model(results,pipeline,param_grid,path_dic[data_path])\n",
    "\n",
    "lm.display_score(results)\n",
    "\n",
    "print(search.best_estimator_.named_steps)"
   ]
  },
  {
   "cell_type": "markdown",
   "metadata": {},
   "source": [
    "#### Pipeline 3"
   ]
  },
  {
   "cell_type": "code",
   "execution_count": 10,
   "metadata": {
    "collapsed": true,
    "jupyter": {
     "outputs_hidden": true
    }
   },
   "outputs": [
    {
     "ename": "KeyboardInterrupt",
     "evalue": "",
     "output_type": "error",
     "traceback": [
      "\u001b[0;31m---------------------------------------------------------------------------\u001b[0m",
      "\u001b[0;31mKeyboardInterrupt\u001b[0m                         Traceback (most recent call last)",
      "\u001b[0;32m<ipython-input-10-54a1e0b42d96>\u001b[0m in \u001b[0;36m<module>\u001b[0;34m\u001b[0m\n\u001b[1;32m     24\u001b[0m \u001b[0mcv\u001b[0m \u001b[0;34m=\u001b[0m \u001b[0mKFold\u001b[0m\u001b[0;34m(\u001b[0m\u001b[0mn_splits\u001b[0m \u001b[0;34m=\u001b[0m \u001b[0mK\u001b[0m\u001b[0;34m)\u001b[0m\u001b[0;34m\u001b[0m\u001b[0;34m\u001b[0m\u001b[0m\n\u001b[1;32m     25\u001b[0m \u001b[0msearch\u001b[0m \u001b[0;34m=\u001b[0m \u001b[0mGridSearchCV\u001b[0m\u001b[0;34m(\u001b[0m\u001b[0mpipeline\u001b[0m\u001b[0;34m,\u001b[0m \u001b[0mparam_grid\u001b[0m\u001b[0;34m,\u001b[0m \u001b[0mscoring\u001b[0m \u001b[0;34m=\u001b[0m \u001b[0;34m'neg_mean_absolute_error'\u001b[0m\u001b[0;34m,\u001b[0m\u001b[0miid\u001b[0m\u001b[0;34m=\u001b[0m\u001b[0;32mFalse\u001b[0m\u001b[0;34m,\u001b[0m \u001b[0mcv\u001b[0m\u001b[0;34m=\u001b[0m\u001b[0mcv\u001b[0m\u001b[0;34m)\u001b[0m\u001b[0;34m\u001b[0m\u001b[0;34m\u001b[0m\u001b[0m\n\u001b[0;32m---> 26\u001b[0;31m \u001b[0msearch\u001b[0m\u001b[0;34m.\u001b[0m\u001b[0mfit\u001b[0m\u001b[0;34m(\u001b[0m\u001b[0mdata_X\u001b[0m\u001b[0;34m,\u001b[0m\u001b[0mdata_y\u001b[0m\u001b[0;34m)\u001b[0m\u001b[0;34m\u001b[0m\u001b[0;34m\u001b[0m\u001b[0m\n\u001b[0m\u001b[1;32m     27\u001b[0m \u001b[0;34m\u001b[0m\u001b[0m\n\u001b[1;32m     28\u001b[0m \u001b[0mbest_score\u001b[0m \u001b[0;34m=\u001b[0m \u001b[0msearch\u001b[0m\u001b[0;34m.\u001b[0m\u001b[0mbest_score_\u001b[0m\u001b[0;34m\u001b[0m\u001b[0;34m\u001b[0m\u001b[0m\n",
      "\u001b[0;32m~/opt/anaconda3/envs/ml/lib/python3.7/site-packages/sklearn/model_selection/_search.py\u001b[0m in \u001b[0;36mfit\u001b[0;34m(self, X, y, groups, **fit_params)\u001b[0m\n\u001b[1;32m    686\u001b[0m                 \u001b[0;32mreturn\u001b[0m \u001b[0mresults\u001b[0m\u001b[0;34m\u001b[0m\u001b[0;34m\u001b[0m\u001b[0m\n\u001b[1;32m    687\u001b[0m \u001b[0;34m\u001b[0m\u001b[0m\n\u001b[0;32m--> 688\u001b[0;31m             \u001b[0mself\u001b[0m\u001b[0;34m.\u001b[0m\u001b[0m_run_search\u001b[0m\u001b[0;34m(\u001b[0m\u001b[0mevaluate_candidates\u001b[0m\u001b[0;34m)\u001b[0m\u001b[0;34m\u001b[0m\u001b[0;34m\u001b[0m\u001b[0m\n\u001b[0m\u001b[1;32m    689\u001b[0m \u001b[0;34m\u001b[0m\u001b[0m\n\u001b[1;32m    690\u001b[0m         \u001b[0;31m# For multi-metric evaluation, store the best_index_, best_params_ and\u001b[0m\u001b[0;34m\u001b[0m\u001b[0;34m\u001b[0m\u001b[0;34m\u001b[0m\u001b[0m\n",
      "\u001b[0;32m~/opt/anaconda3/envs/ml/lib/python3.7/site-packages/sklearn/model_selection/_search.py\u001b[0m in \u001b[0;36m_run_search\u001b[0;34m(self, evaluate_candidates)\u001b[0m\n\u001b[1;32m   1147\u001b[0m     \u001b[0;32mdef\u001b[0m \u001b[0m_run_search\u001b[0m\u001b[0;34m(\u001b[0m\u001b[0mself\u001b[0m\u001b[0;34m,\u001b[0m \u001b[0mevaluate_candidates\u001b[0m\u001b[0;34m)\u001b[0m\u001b[0;34m:\u001b[0m\u001b[0;34m\u001b[0m\u001b[0;34m\u001b[0m\u001b[0m\n\u001b[1;32m   1148\u001b[0m         \u001b[0;34m\"\"\"Search all candidates in param_grid\"\"\"\u001b[0m\u001b[0;34m\u001b[0m\u001b[0;34m\u001b[0m\u001b[0m\n\u001b[0;32m-> 1149\u001b[0;31m         \u001b[0mevaluate_candidates\u001b[0m\u001b[0;34m(\u001b[0m\u001b[0mParameterGrid\u001b[0m\u001b[0;34m(\u001b[0m\u001b[0mself\u001b[0m\u001b[0;34m.\u001b[0m\u001b[0mparam_grid\u001b[0m\u001b[0;34m)\u001b[0m\u001b[0;34m)\u001b[0m\u001b[0;34m\u001b[0m\u001b[0;34m\u001b[0m\u001b[0m\n\u001b[0m\u001b[1;32m   1150\u001b[0m \u001b[0;34m\u001b[0m\u001b[0m\n\u001b[1;32m   1151\u001b[0m \u001b[0;34m\u001b[0m\u001b[0m\n",
      "\u001b[0;32m~/opt/anaconda3/envs/ml/lib/python3.7/site-packages/sklearn/model_selection/_search.py\u001b[0m in \u001b[0;36mevaluate_candidates\u001b[0;34m(candidate_params)\u001b[0m\n\u001b[1;32m    665\u001b[0m                                \u001b[0;32mfor\u001b[0m \u001b[0mparameters\u001b[0m\u001b[0;34m,\u001b[0m \u001b[0;34m(\u001b[0m\u001b[0mtrain\u001b[0m\u001b[0;34m,\u001b[0m \u001b[0mtest\u001b[0m\u001b[0;34m)\u001b[0m\u001b[0;34m\u001b[0m\u001b[0;34m\u001b[0m\u001b[0m\n\u001b[1;32m    666\u001b[0m                                in product(candidate_params,\n\u001b[0;32m--> 667\u001b[0;31m                                           cv.split(X, y, groups)))\n\u001b[0m\u001b[1;32m    668\u001b[0m \u001b[0;34m\u001b[0m\u001b[0m\n\u001b[1;32m    669\u001b[0m                 \u001b[0;32mif\u001b[0m \u001b[0mlen\u001b[0m\u001b[0;34m(\u001b[0m\u001b[0mout\u001b[0m\u001b[0;34m)\u001b[0m \u001b[0;34m<\u001b[0m \u001b[0;36m1\u001b[0m\u001b[0;34m:\u001b[0m\u001b[0;34m\u001b[0m\u001b[0;34m\u001b[0m\u001b[0m\n",
      "\u001b[0;32m~/opt/anaconda3/envs/ml/lib/python3.7/site-packages/joblib/parallel.py\u001b[0m in \u001b[0;36m__call__\u001b[0;34m(self, iterable)\u001b[0m\n\u001b[1;32m   1005\u001b[0m                 \u001b[0mself\u001b[0m\u001b[0;34m.\u001b[0m\u001b[0m_iterating\u001b[0m \u001b[0;34m=\u001b[0m \u001b[0mself\u001b[0m\u001b[0;34m.\u001b[0m\u001b[0m_original_iterator\u001b[0m \u001b[0;32mis\u001b[0m \u001b[0;32mnot\u001b[0m \u001b[0;32mNone\u001b[0m\u001b[0;34m\u001b[0m\u001b[0;34m\u001b[0m\u001b[0m\n\u001b[1;32m   1006\u001b[0m \u001b[0;34m\u001b[0m\u001b[0m\n\u001b[0;32m-> 1007\u001b[0;31m             \u001b[0;32mwhile\u001b[0m \u001b[0mself\u001b[0m\u001b[0;34m.\u001b[0m\u001b[0mdispatch_one_batch\u001b[0m\u001b[0;34m(\u001b[0m\u001b[0miterator\u001b[0m\u001b[0;34m)\u001b[0m\u001b[0;34m:\u001b[0m\u001b[0;34m\u001b[0m\u001b[0;34m\u001b[0m\u001b[0m\n\u001b[0m\u001b[1;32m   1008\u001b[0m                 \u001b[0;32mpass\u001b[0m\u001b[0;34m\u001b[0m\u001b[0;34m\u001b[0m\u001b[0m\n\u001b[1;32m   1009\u001b[0m \u001b[0;34m\u001b[0m\u001b[0m\n",
      "\u001b[0;32m~/opt/anaconda3/envs/ml/lib/python3.7/site-packages/joblib/parallel.py\u001b[0m in \u001b[0;36mdispatch_one_batch\u001b[0;34m(self, iterator)\u001b[0m\n\u001b[1;32m    833\u001b[0m                 \u001b[0;32mreturn\u001b[0m \u001b[0;32mFalse\u001b[0m\u001b[0;34m\u001b[0m\u001b[0;34m\u001b[0m\u001b[0m\n\u001b[1;32m    834\u001b[0m             \u001b[0;32melse\u001b[0m\u001b[0;34m:\u001b[0m\u001b[0;34m\u001b[0m\u001b[0;34m\u001b[0m\u001b[0m\n\u001b[0;32m--> 835\u001b[0;31m                 \u001b[0mself\u001b[0m\u001b[0;34m.\u001b[0m\u001b[0m_dispatch\u001b[0m\u001b[0;34m(\u001b[0m\u001b[0mtasks\u001b[0m\u001b[0;34m)\u001b[0m\u001b[0;34m\u001b[0m\u001b[0;34m\u001b[0m\u001b[0m\n\u001b[0m\u001b[1;32m    836\u001b[0m                 \u001b[0;32mreturn\u001b[0m \u001b[0;32mTrue\u001b[0m\u001b[0;34m\u001b[0m\u001b[0;34m\u001b[0m\u001b[0m\n\u001b[1;32m    837\u001b[0m \u001b[0;34m\u001b[0m\u001b[0m\n",
      "\u001b[0;32m~/opt/anaconda3/envs/ml/lib/python3.7/site-packages/joblib/parallel.py\u001b[0m in \u001b[0;36m_dispatch\u001b[0;34m(self, batch)\u001b[0m\n\u001b[1;32m    752\u001b[0m         \u001b[0;32mwith\u001b[0m \u001b[0mself\u001b[0m\u001b[0;34m.\u001b[0m\u001b[0m_lock\u001b[0m\u001b[0;34m:\u001b[0m\u001b[0;34m\u001b[0m\u001b[0;34m\u001b[0m\u001b[0m\n\u001b[1;32m    753\u001b[0m             \u001b[0mjob_idx\u001b[0m \u001b[0;34m=\u001b[0m \u001b[0mlen\u001b[0m\u001b[0;34m(\u001b[0m\u001b[0mself\u001b[0m\u001b[0;34m.\u001b[0m\u001b[0m_jobs\u001b[0m\u001b[0;34m)\u001b[0m\u001b[0;34m\u001b[0m\u001b[0;34m\u001b[0m\u001b[0m\n\u001b[0;32m--> 754\u001b[0;31m             \u001b[0mjob\u001b[0m \u001b[0;34m=\u001b[0m \u001b[0mself\u001b[0m\u001b[0;34m.\u001b[0m\u001b[0m_backend\u001b[0m\u001b[0;34m.\u001b[0m\u001b[0mapply_async\u001b[0m\u001b[0;34m(\u001b[0m\u001b[0mbatch\u001b[0m\u001b[0;34m,\u001b[0m \u001b[0mcallback\u001b[0m\u001b[0;34m=\u001b[0m\u001b[0mcb\u001b[0m\u001b[0;34m)\u001b[0m\u001b[0;34m\u001b[0m\u001b[0;34m\u001b[0m\u001b[0m\n\u001b[0m\u001b[1;32m    755\u001b[0m             \u001b[0;31m# A job can complete so quickly than its callback is\u001b[0m\u001b[0;34m\u001b[0m\u001b[0;34m\u001b[0m\u001b[0;34m\u001b[0m\u001b[0m\n\u001b[1;32m    756\u001b[0m             \u001b[0;31m# called before we get here, causing self._jobs to\u001b[0m\u001b[0;34m\u001b[0m\u001b[0;34m\u001b[0m\u001b[0;34m\u001b[0m\u001b[0m\n",
      "\u001b[0;32m~/opt/anaconda3/envs/ml/lib/python3.7/site-packages/joblib/_parallel_backends.py\u001b[0m in \u001b[0;36mapply_async\u001b[0;34m(self, func, callback)\u001b[0m\n\u001b[1;32m    207\u001b[0m     \u001b[0;32mdef\u001b[0m \u001b[0mapply_async\u001b[0m\u001b[0;34m(\u001b[0m\u001b[0mself\u001b[0m\u001b[0;34m,\u001b[0m \u001b[0mfunc\u001b[0m\u001b[0;34m,\u001b[0m \u001b[0mcallback\u001b[0m\u001b[0;34m=\u001b[0m\u001b[0;32mNone\u001b[0m\u001b[0;34m)\u001b[0m\u001b[0;34m:\u001b[0m\u001b[0;34m\u001b[0m\u001b[0;34m\u001b[0m\u001b[0m\n\u001b[1;32m    208\u001b[0m         \u001b[0;34m\"\"\"Schedule a func to be run\"\"\"\u001b[0m\u001b[0;34m\u001b[0m\u001b[0;34m\u001b[0m\u001b[0m\n\u001b[0;32m--> 209\u001b[0;31m         \u001b[0mresult\u001b[0m \u001b[0;34m=\u001b[0m \u001b[0mImmediateResult\u001b[0m\u001b[0;34m(\u001b[0m\u001b[0mfunc\u001b[0m\u001b[0;34m)\u001b[0m\u001b[0;34m\u001b[0m\u001b[0;34m\u001b[0m\u001b[0m\n\u001b[0m\u001b[1;32m    210\u001b[0m         \u001b[0;32mif\u001b[0m \u001b[0mcallback\u001b[0m\u001b[0;34m:\u001b[0m\u001b[0;34m\u001b[0m\u001b[0;34m\u001b[0m\u001b[0m\n\u001b[1;32m    211\u001b[0m             \u001b[0mcallback\u001b[0m\u001b[0;34m(\u001b[0m\u001b[0mresult\u001b[0m\u001b[0;34m)\u001b[0m\u001b[0;34m\u001b[0m\u001b[0;34m\u001b[0m\u001b[0m\n",
      "\u001b[0;32m~/opt/anaconda3/envs/ml/lib/python3.7/site-packages/joblib/_parallel_backends.py\u001b[0m in \u001b[0;36m__init__\u001b[0;34m(self, batch)\u001b[0m\n\u001b[1;32m    588\u001b[0m         \u001b[0;31m# Don't delay the application, to avoid keeping the input\u001b[0m\u001b[0;34m\u001b[0m\u001b[0;34m\u001b[0m\u001b[0;34m\u001b[0m\u001b[0m\n\u001b[1;32m    589\u001b[0m         \u001b[0;31m# arguments in memory\u001b[0m\u001b[0;34m\u001b[0m\u001b[0;34m\u001b[0m\u001b[0;34m\u001b[0m\u001b[0m\n\u001b[0;32m--> 590\u001b[0;31m         \u001b[0mself\u001b[0m\u001b[0;34m.\u001b[0m\u001b[0mresults\u001b[0m \u001b[0;34m=\u001b[0m \u001b[0mbatch\u001b[0m\u001b[0;34m(\u001b[0m\u001b[0;34m)\u001b[0m\u001b[0;34m\u001b[0m\u001b[0;34m\u001b[0m\u001b[0m\n\u001b[0m\u001b[1;32m    591\u001b[0m \u001b[0;34m\u001b[0m\u001b[0m\n\u001b[1;32m    592\u001b[0m     \u001b[0;32mdef\u001b[0m \u001b[0mget\u001b[0m\u001b[0;34m(\u001b[0m\u001b[0mself\u001b[0m\u001b[0;34m)\u001b[0m\u001b[0;34m:\u001b[0m\u001b[0;34m\u001b[0m\u001b[0;34m\u001b[0m\u001b[0m\n",
      "\u001b[0;32m~/opt/anaconda3/envs/ml/lib/python3.7/site-packages/joblib/parallel.py\u001b[0m in \u001b[0;36m__call__\u001b[0;34m(self)\u001b[0m\n\u001b[1;32m    254\u001b[0m         \u001b[0;32mwith\u001b[0m \u001b[0mparallel_backend\u001b[0m\u001b[0;34m(\u001b[0m\u001b[0mself\u001b[0m\u001b[0;34m.\u001b[0m\u001b[0m_backend\u001b[0m\u001b[0;34m,\u001b[0m \u001b[0mn_jobs\u001b[0m\u001b[0;34m=\u001b[0m\u001b[0mself\u001b[0m\u001b[0;34m.\u001b[0m\u001b[0m_n_jobs\u001b[0m\u001b[0;34m)\u001b[0m\u001b[0;34m:\u001b[0m\u001b[0;34m\u001b[0m\u001b[0;34m\u001b[0m\u001b[0m\n\u001b[1;32m    255\u001b[0m             return [func(*args, **kwargs)\n\u001b[0;32m--> 256\u001b[0;31m                     for func, args, kwargs in self.items]\n\u001b[0m\u001b[1;32m    257\u001b[0m \u001b[0;34m\u001b[0m\u001b[0m\n\u001b[1;32m    258\u001b[0m     \u001b[0;32mdef\u001b[0m \u001b[0m__len__\u001b[0m\u001b[0;34m(\u001b[0m\u001b[0mself\u001b[0m\u001b[0;34m)\u001b[0m\u001b[0;34m:\u001b[0m\u001b[0;34m\u001b[0m\u001b[0;34m\u001b[0m\u001b[0m\n",
      "\u001b[0;32m~/opt/anaconda3/envs/ml/lib/python3.7/site-packages/joblib/parallel.py\u001b[0m in \u001b[0;36m<listcomp>\u001b[0;34m(.0)\u001b[0m\n\u001b[1;32m    254\u001b[0m         \u001b[0;32mwith\u001b[0m \u001b[0mparallel_backend\u001b[0m\u001b[0;34m(\u001b[0m\u001b[0mself\u001b[0m\u001b[0;34m.\u001b[0m\u001b[0m_backend\u001b[0m\u001b[0;34m,\u001b[0m \u001b[0mn_jobs\u001b[0m\u001b[0;34m=\u001b[0m\u001b[0mself\u001b[0m\u001b[0;34m.\u001b[0m\u001b[0m_n_jobs\u001b[0m\u001b[0;34m)\u001b[0m\u001b[0;34m:\u001b[0m\u001b[0;34m\u001b[0m\u001b[0;34m\u001b[0m\u001b[0m\n\u001b[1;32m    255\u001b[0m             return [func(*args, **kwargs)\n\u001b[0;32m--> 256\u001b[0;31m                     for func, args, kwargs in self.items]\n\u001b[0m\u001b[1;32m    257\u001b[0m \u001b[0;34m\u001b[0m\u001b[0m\n\u001b[1;32m    258\u001b[0m     \u001b[0;32mdef\u001b[0m \u001b[0m__len__\u001b[0m\u001b[0;34m(\u001b[0m\u001b[0mself\u001b[0m\u001b[0;34m)\u001b[0m\u001b[0;34m:\u001b[0m\u001b[0;34m\u001b[0m\u001b[0;34m\u001b[0m\u001b[0m\n",
      "\u001b[0;32m~/opt/anaconda3/envs/ml/lib/python3.7/site-packages/sklearn/model_selection/_validation.py\u001b[0m in \u001b[0;36m_fit_and_score\u001b[0;34m(estimator, X, y, scorer, train, test, verbose, parameters, fit_params, return_train_score, return_parameters, return_n_test_samples, return_times, return_estimator, error_score)\u001b[0m\n\u001b[1;32m    514\u001b[0m             \u001b[0mestimator\u001b[0m\u001b[0;34m.\u001b[0m\u001b[0mfit\u001b[0m\u001b[0;34m(\u001b[0m\u001b[0mX_train\u001b[0m\u001b[0;34m,\u001b[0m \u001b[0;34m**\u001b[0m\u001b[0mfit_params\u001b[0m\u001b[0;34m)\u001b[0m\u001b[0;34m\u001b[0m\u001b[0;34m\u001b[0m\u001b[0m\n\u001b[1;32m    515\u001b[0m         \u001b[0;32melse\u001b[0m\u001b[0;34m:\u001b[0m\u001b[0;34m\u001b[0m\u001b[0;34m\u001b[0m\u001b[0m\n\u001b[0;32m--> 516\u001b[0;31m             \u001b[0mestimator\u001b[0m\u001b[0;34m.\u001b[0m\u001b[0mfit\u001b[0m\u001b[0;34m(\u001b[0m\u001b[0mX_train\u001b[0m\u001b[0;34m,\u001b[0m \u001b[0my_train\u001b[0m\u001b[0;34m,\u001b[0m \u001b[0;34m**\u001b[0m\u001b[0mfit_params\u001b[0m\u001b[0;34m)\u001b[0m\u001b[0;34m\u001b[0m\u001b[0;34m\u001b[0m\u001b[0m\n\u001b[0m\u001b[1;32m    517\u001b[0m \u001b[0;34m\u001b[0m\u001b[0m\n\u001b[1;32m    518\u001b[0m     \u001b[0;32mexcept\u001b[0m \u001b[0mException\u001b[0m \u001b[0;32mas\u001b[0m \u001b[0me\u001b[0m\u001b[0;34m:\u001b[0m\u001b[0;34m\u001b[0m\u001b[0;34m\u001b[0m\u001b[0m\n",
      "\u001b[0;32m~/opt/anaconda3/envs/ml/lib/python3.7/site-packages/sklearn/pipeline.py\u001b[0m in \u001b[0;36mfit\u001b[0;34m(self, X, y, **fit_params)\u001b[0m\n\u001b[1;32m    350\u001b[0m             \u001b[0mThis\u001b[0m \u001b[0mestimator\u001b[0m\u001b[0;34m\u001b[0m\u001b[0;34m\u001b[0m\u001b[0m\n\u001b[1;32m    351\u001b[0m         \"\"\"\n\u001b[0;32m--> 352\u001b[0;31m         \u001b[0mXt\u001b[0m\u001b[0;34m,\u001b[0m \u001b[0mfit_params\u001b[0m \u001b[0;34m=\u001b[0m \u001b[0mself\u001b[0m\u001b[0;34m.\u001b[0m\u001b[0m_fit\u001b[0m\u001b[0;34m(\u001b[0m\u001b[0mX\u001b[0m\u001b[0;34m,\u001b[0m \u001b[0my\u001b[0m\u001b[0;34m,\u001b[0m \u001b[0;34m**\u001b[0m\u001b[0mfit_params\u001b[0m\u001b[0;34m)\u001b[0m\u001b[0;34m\u001b[0m\u001b[0;34m\u001b[0m\u001b[0m\n\u001b[0m\u001b[1;32m    353\u001b[0m         with _print_elapsed_time('Pipeline',\n\u001b[1;32m    354\u001b[0m                                  self._log_message(len(self.steps) - 1)):\n",
      "\u001b[0;32m~/opt/anaconda3/envs/ml/lib/python3.7/site-packages/sklearn/pipeline.py\u001b[0m in \u001b[0;36m_fit\u001b[0;34m(self, X, y, **fit_params)\u001b[0m\n\u001b[1;32m    315\u001b[0m                 \u001b[0mmessage_clsname\u001b[0m\u001b[0;34m=\u001b[0m\u001b[0;34m'Pipeline'\u001b[0m\u001b[0;34m,\u001b[0m\u001b[0;34m\u001b[0m\u001b[0;34m\u001b[0m\u001b[0m\n\u001b[1;32m    316\u001b[0m                 \u001b[0mmessage\u001b[0m\u001b[0;34m=\u001b[0m\u001b[0mself\u001b[0m\u001b[0;34m.\u001b[0m\u001b[0m_log_message\u001b[0m\u001b[0;34m(\u001b[0m\u001b[0mstep_idx\u001b[0m\u001b[0;34m)\u001b[0m\u001b[0;34m,\u001b[0m\u001b[0;34m\u001b[0m\u001b[0;34m\u001b[0m\u001b[0m\n\u001b[0;32m--> 317\u001b[0;31m                 **fit_params_steps[name])\n\u001b[0m\u001b[1;32m    318\u001b[0m             \u001b[0;31m# Replace the transformer of the step with the fitted\u001b[0m\u001b[0;34m\u001b[0m\u001b[0;34m\u001b[0m\u001b[0;34m\u001b[0m\u001b[0m\n\u001b[1;32m    319\u001b[0m             \u001b[0;31m# transformer. This is necessary when loading the transformer\u001b[0m\u001b[0;34m\u001b[0m\u001b[0;34m\u001b[0m\u001b[0;34m\u001b[0m\u001b[0m\n",
      "\u001b[0;32m~/opt/anaconda3/envs/ml/lib/python3.7/site-packages/joblib/memory.py\u001b[0m in \u001b[0;36m__call__\u001b[0;34m(self, *args, **kwargs)\u001b[0m\n\u001b[1;32m    353\u001b[0m \u001b[0;34m\u001b[0m\u001b[0m\n\u001b[1;32m    354\u001b[0m     \u001b[0;32mdef\u001b[0m \u001b[0m__call__\u001b[0m\u001b[0;34m(\u001b[0m\u001b[0mself\u001b[0m\u001b[0;34m,\u001b[0m \u001b[0;34m*\u001b[0m\u001b[0margs\u001b[0m\u001b[0;34m,\u001b[0m \u001b[0;34m**\u001b[0m\u001b[0mkwargs\u001b[0m\u001b[0;34m)\u001b[0m\u001b[0;34m:\u001b[0m\u001b[0;34m\u001b[0m\u001b[0;34m\u001b[0m\u001b[0m\n\u001b[0;32m--> 355\u001b[0;31m         \u001b[0;32mreturn\u001b[0m \u001b[0mself\u001b[0m\u001b[0;34m.\u001b[0m\u001b[0mfunc\u001b[0m\u001b[0;34m(\u001b[0m\u001b[0;34m*\u001b[0m\u001b[0margs\u001b[0m\u001b[0;34m,\u001b[0m \u001b[0;34m**\u001b[0m\u001b[0mkwargs\u001b[0m\u001b[0;34m)\u001b[0m\u001b[0;34m\u001b[0m\u001b[0;34m\u001b[0m\u001b[0m\n\u001b[0m\u001b[1;32m    356\u001b[0m \u001b[0;34m\u001b[0m\u001b[0m\n\u001b[1;32m    357\u001b[0m     \u001b[0;32mdef\u001b[0m \u001b[0mcall_and_shelve\u001b[0m\u001b[0;34m(\u001b[0m\u001b[0mself\u001b[0m\u001b[0;34m,\u001b[0m \u001b[0;34m*\u001b[0m\u001b[0margs\u001b[0m\u001b[0;34m,\u001b[0m \u001b[0;34m**\u001b[0m\u001b[0mkwargs\u001b[0m\u001b[0;34m)\u001b[0m\u001b[0;34m:\u001b[0m\u001b[0;34m\u001b[0m\u001b[0;34m\u001b[0m\u001b[0m\n",
      "\u001b[0;32m~/opt/anaconda3/envs/ml/lib/python3.7/site-packages/sklearn/pipeline.py\u001b[0m in \u001b[0;36m_fit_transform_one\u001b[0;34m(transformer, X, y, weight, message_clsname, message, **fit_params)\u001b[0m\n\u001b[1;32m    714\u001b[0m     \u001b[0;32mwith\u001b[0m \u001b[0m_print_elapsed_time\u001b[0m\u001b[0;34m(\u001b[0m\u001b[0mmessage_clsname\u001b[0m\u001b[0;34m,\u001b[0m \u001b[0mmessage\u001b[0m\u001b[0;34m)\u001b[0m\u001b[0;34m:\u001b[0m\u001b[0;34m\u001b[0m\u001b[0;34m\u001b[0m\u001b[0m\n\u001b[1;32m    715\u001b[0m         \u001b[0;32mif\u001b[0m \u001b[0mhasattr\u001b[0m\u001b[0;34m(\u001b[0m\u001b[0mtransformer\u001b[0m\u001b[0;34m,\u001b[0m \u001b[0;34m'fit_transform'\u001b[0m\u001b[0;34m)\u001b[0m\u001b[0;34m:\u001b[0m\u001b[0;34m\u001b[0m\u001b[0;34m\u001b[0m\u001b[0m\n\u001b[0;32m--> 716\u001b[0;31m             \u001b[0mres\u001b[0m \u001b[0;34m=\u001b[0m \u001b[0mtransformer\u001b[0m\u001b[0;34m.\u001b[0m\u001b[0mfit_transform\u001b[0m\u001b[0;34m(\u001b[0m\u001b[0mX\u001b[0m\u001b[0;34m,\u001b[0m \u001b[0my\u001b[0m\u001b[0;34m,\u001b[0m \u001b[0;34m**\u001b[0m\u001b[0mfit_params\u001b[0m\u001b[0;34m)\u001b[0m\u001b[0;34m\u001b[0m\u001b[0;34m\u001b[0m\u001b[0m\n\u001b[0m\u001b[1;32m    717\u001b[0m         \u001b[0;32melse\u001b[0m\u001b[0;34m:\u001b[0m\u001b[0;34m\u001b[0m\u001b[0;34m\u001b[0m\u001b[0m\n\u001b[1;32m    718\u001b[0m             \u001b[0mres\u001b[0m \u001b[0;34m=\u001b[0m \u001b[0mtransformer\u001b[0m\u001b[0;34m.\u001b[0m\u001b[0mfit\u001b[0m\u001b[0;34m(\u001b[0m\u001b[0mX\u001b[0m\u001b[0;34m,\u001b[0m \u001b[0my\u001b[0m\u001b[0;34m,\u001b[0m \u001b[0;34m**\u001b[0m\u001b[0mfit_params\u001b[0m\u001b[0;34m)\u001b[0m\u001b[0;34m.\u001b[0m\u001b[0mtransform\u001b[0m\u001b[0;34m(\u001b[0m\u001b[0mX\u001b[0m\u001b[0;34m)\u001b[0m\u001b[0;34m\u001b[0m\u001b[0;34m\u001b[0m\u001b[0m\n",
      "\u001b[0;32m~/opt/anaconda3/envs/ml/lib/python3.7/site-packages/sklearn/decomposition/kernel_pca.py\u001b[0m in \u001b[0;36mfit_transform\u001b[0;34m(self, X, y, **params)\u001b[0m\n\u001b[1;32m    299\u001b[0m         \u001b[0mX_new\u001b[0m \u001b[0;34m:\u001b[0m \u001b[0marray\u001b[0m\u001b[0;34m-\u001b[0m\u001b[0mlike\u001b[0m\u001b[0;34m,\u001b[0m \u001b[0mshape\u001b[0m \u001b[0;34m(\u001b[0m\u001b[0mn_samples\u001b[0m\u001b[0;34m,\u001b[0m \u001b[0mn_components\u001b[0m\u001b[0;34m)\u001b[0m\u001b[0;34m\u001b[0m\u001b[0;34m\u001b[0m\u001b[0m\n\u001b[1;32m    300\u001b[0m         \"\"\"\n\u001b[0;32m--> 301\u001b[0;31m         \u001b[0mself\u001b[0m\u001b[0;34m.\u001b[0m\u001b[0mfit\u001b[0m\u001b[0;34m(\u001b[0m\u001b[0mX\u001b[0m\u001b[0;34m,\u001b[0m \u001b[0;34m**\u001b[0m\u001b[0mparams\u001b[0m\u001b[0;34m)\u001b[0m\u001b[0;34m\u001b[0m\u001b[0;34m\u001b[0m\u001b[0m\n\u001b[0m\u001b[1;32m    302\u001b[0m \u001b[0;34m\u001b[0m\u001b[0m\n\u001b[1;32m    303\u001b[0m         \u001b[0;31m# no need to use the kernel to transform X, use shortcut expression\u001b[0m\u001b[0;34m\u001b[0m\u001b[0;34m\u001b[0m\u001b[0;34m\u001b[0m\u001b[0m\n",
      "\u001b[0;32m~/opt/anaconda3/envs/ml/lib/python3.7/site-packages/sklearn/decomposition/kernel_pca.py\u001b[0m in \u001b[0;36mfit\u001b[0;34m(self, X, y)\u001b[0m\n\u001b[1;32m    274\u001b[0m         \u001b[0mX\u001b[0m \u001b[0;34m=\u001b[0m \u001b[0mcheck_array\u001b[0m\u001b[0;34m(\u001b[0m\u001b[0mX\u001b[0m\u001b[0;34m,\u001b[0m \u001b[0maccept_sparse\u001b[0m\u001b[0;34m=\u001b[0m\u001b[0;34m'csr'\u001b[0m\u001b[0;34m,\u001b[0m \u001b[0mcopy\u001b[0m\u001b[0;34m=\u001b[0m\u001b[0mself\u001b[0m\u001b[0;34m.\u001b[0m\u001b[0mcopy_X\u001b[0m\u001b[0;34m)\u001b[0m\u001b[0;34m\u001b[0m\u001b[0;34m\u001b[0m\u001b[0m\n\u001b[1;32m    275\u001b[0m         \u001b[0mself\u001b[0m\u001b[0;34m.\u001b[0m\u001b[0m_centerer\u001b[0m \u001b[0;34m=\u001b[0m \u001b[0mKernelCenterer\u001b[0m\u001b[0;34m(\u001b[0m\u001b[0;34m)\u001b[0m\u001b[0;34m\u001b[0m\u001b[0;34m\u001b[0m\u001b[0m\n\u001b[0;32m--> 276\u001b[0;31m         \u001b[0mK\u001b[0m \u001b[0;34m=\u001b[0m \u001b[0mself\u001b[0m\u001b[0;34m.\u001b[0m\u001b[0m_get_kernel\u001b[0m\u001b[0;34m(\u001b[0m\u001b[0mX\u001b[0m\u001b[0;34m)\u001b[0m\u001b[0;34m\u001b[0m\u001b[0;34m\u001b[0m\u001b[0m\n\u001b[0m\u001b[1;32m    277\u001b[0m         \u001b[0mself\u001b[0m\u001b[0;34m.\u001b[0m\u001b[0m_fit_transform\u001b[0m\u001b[0;34m(\u001b[0m\u001b[0mK\u001b[0m\u001b[0;34m)\u001b[0m\u001b[0;34m\u001b[0m\u001b[0;34m\u001b[0m\u001b[0m\n\u001b[1;32m    278\u001b[0m \u001b[0;34m\u001b[0m\u001b[0m\n",
      "\u001b[0;32m~/opt/anaconda3/envs/ml/lib/python3.7/site-packages/sklearn/decomposition/kernel_pca.py\u001b[0m in \u001b[0;36m_get_kernel\u001b[0;34m(self, X, Y)\u001b[0m\n\u001b[1;32m    178\u001b[0m         return pairwise_kernels(X, Y, metric=self.kernel,\n\u001b[1;32m    179\u001b[0m                                 \u001b[0mfilter_params\u001b[0m\u001b[0;34m=\u001b[0m\u001b[0;32mTrue\u001b[0m\u001b[0;34m,\u001b[0m \u001b[0mn_jobs\u001b[0m\u001b[0;34m=\u001b[0m\u001b[0mself\u001b[0m\u001b[0;34m.\u001b[0m\u001b[0mn_jobs\u001b[0m\u001b[0;34m,\u001b[0m\u001b[0;34m\u001b[0m\u001b[0;34m\u001b[0m\u001b[0m\n\u001b[0;32m--> 180\u001b[0;31m                                 **params)\n\u001b[0m\u001b[1;32m    181\u001b[0m \u001b[0;34m\u001b[0m\u001b[0m\n\u001b[1;32m    182\u001b[0m     \u001b[0;32mdef\u001b[0m \u001b[0m_fit_transform\u001b[0m\u001b[0;34m(\u001b[0m\u001b[0mself\u001b[0m\u001b[0;34m,\u001b[0m \u001b[0mK\u001b[0m\u001b[0;34m)\u001b[0m\u001b[0;34m:\u001b[0m\u001b[0;34m\u001b[0m\u001b[0;34m\u001b[0m\u001b[0m\n",
      "\u001b[0;32m~/opt/anaconda3/envs/ml/lib/python3.7/site-packages/sklearn/metrics/pairwise.py\u001b[0m in \u001b[0;36mpairwise_kernels\u001b[0;34m(X, Y, metric, filter_params, n_jobs, **kwds)\u001b[0m\n\u001b[1;32m   1743\u001b[0m         \u001b[0;32mraise\u001b[0m \u001b[0mValueError\u001b[0m\u001b[0;34m(\u001b[0m\u001b[0;34m\"Unknown kernel %r\"\u001b[0m \u001b[0;34m%\u001b[0m \u001b[0mmetric\u001b[0m\u001b[0;34m)\u001b[0m\u001b[0;34m\u001b[0m\u001b[0;34m\u001b[0m\u001b[0m\n\u001b[1;32m   1744\u001b[0m \u001b[0;34m\u001b[0m\u001b[0m\n\u001b[0;32m-> 1745\u001b[0;31m     \u001b[0;32mreturn\u001b[0m \u001b[0m_parallel_pairwise\u001b[0m\u001b[0;34m(\u001b[0m\u001b[0mX\u001b[0m\u001b[0;34m,\u001b[0m \u001b[0mY\u001b[0m\u001b[0;34m,\u001b[0m \u001b[0mfunc\u001b[0m\u001b[0;34m,\u001b[0m \u001b[0mn_jobs\u001b[0m\u001b[0;34m,\u001b[0m \u001b[0;34m**\u001b[0m\u001b[0mkwds\u001b[0m\u001b[0;34m)\u001b[0m\u001b[0;34m\u001b[0m\u001b[0;34m\u001b[0m\u001b[0m\n\u001b[0m",
      "\u001b[0;32m~/opt/anaconda3/envs/ml/lib/python3.7/site-packages/sklearn/metrics/pairwise.py\u001b[0m in \u001b[0;36m_parallel_pairwise\u001b[0;34m(X, Y, func, n_jobs, **kwds)\u001b[0m\n\u001b[1;32m   1204\u001b[0m \u001b[0;34m\u001b[0m\u001b[0m\n\u001b[1;32m   1205\u001b[0m     \u001b[0;32mif\u001b[0m \u001b[0meffective_n_jobs\u001b[0m\u001b[0;34m(\u001b[0m\u001b[0mn_jobs\u001b[0m\u001b[0;34m)\u001b[0m \u001b[0;34m==\u001b[0m \u001b[0;36m1\u001b[0m\u001b[0;34m:\u001b[0m\u001b[0;34m\u001b[0m\u001b[0;34m\u001b[0m\u001b[0m\n\u001b[0;32m-> 1206\u001b[0;31m         \u001b[0;32mreturn\u001b[0m \u001b[0mfunc\u001b[0m\u001b[0;34m(\u001b[0m\u001b[0mX\u001b[0m\u001b[0;34m,\u001b[0m \u001b[0mY\u001b[0m\u001b[0;34m,\u001b[0m \u001b[0;34m**\u001b[0m\u001b[0mkwds\u001b[0m\u001b[0;34m)\u001b[0m\u001b[0;34m\u001b[0m\u001b[0;34m\u001b[0m\u001b[0m\n\u001b[0m\u001b[1;32m   1207\u001b[0m \u001b[0;34m\u001b[0m\u001b[0m\n\u001b[1;32m   1208\u001b[0m     \u001b[0;31m# enforce a threading backend to prevent data communication overhead\u001b[0m\u001b[0;34m\u001b[0m\u001b[0;34m\u001b[0m\u001b[0;34m\u001b[0m\u001b[0m\n",
      "\u001b[0;32m~/opt/anaconda3/envs/ml/lib/python3.7/site-packages/sklearn/metrics/pairwise.py\u001b[0m in \u001b[0;36mrbf_kernel\u001b[0;34m(X, Y, gamma)\u001b[0m\n\u001b[1;32m    950\u001b[0m         \u001b[0mgamma\u001b[0m \u001b[0;34m=\u001b[0m \u001b[0;36m1.0\u001b[0m \u001b[0;34m/\u001b[0m \u001b[0mX\u001b[0m\u001b[0;34m.\u001b[0m\u001b[0mshape\u001b[0m\u001b[0;34m[\u001b[0m\u001b[0;36m1\u001b[0m\u001b[0;34m]\u001b[0m\u001b[0;34m\u001b[0m\u001b[0;34m\u001b[0m\u001b[0m\n\u001b[1;32m    951\u001b[0m \u001b[0;34m\u001b[0m\u001b[0m\n\u001b[0;32m--> 952\u001b[0;31m     \u001b[0mK\u001b[0m \u001b[0;34m=\u001b[0m \u001b[0meuclidean_distances\u001b[0m\u001b[0;34m(\u001b[0m\u001b[0mX\u001b[0m\u001b[0;34m,\u001b[0m \u001b[0mY\u001b[0m\u001b[0;34m,\u001b[0m \u001b[0msquared\u001b[0m\u001b[0;34m=\u001b[0m\u001b[0;32mTrue\u001b[0m\u001b[0;34m)\u001b[0m\u001b[0;34m\u001b[0m\u001b[0;34m\u001b[0m\u001b[0m\n\u001b[0m\u001b[1;32m    953\u001b[0m     \u001b[0mK\u001b[0m \u001b[0;34m*=\u001b[0m \u001b[0;34m-\u001b[0m\u001b[0mgamma\u001b[0m\u001b[0;34m\u001b[0m\u001b[0;34m\u001b[0m\u001b[0m\n\u001b[1;32m    954\u001b[0m     \u001b[0mnp\u001b[0m\u001b[0;34m.\u001b[0m\u001b[0mexp\u001b[0m\u001b[0;34m(\u001b[0m\u001b[0mK\u001b[0m\u001b[0;34m,\u001b[0m \u001b[0mK\u001b[0m\u001b[0;34m)\u001b[0m  \u001b[0;31m# exponentiate K in-place\u001b[0m\u001b[0;34m\u001b[0m\u001b[0;34m\u001b[0m\u001b[0m\n",
      "\u001b[0;32m~/opt/anaconda3/envs/ml/lib/python3.7/site-packages/sklearn/metrics/pairwise.py\u001b[0m in \u001b[0;36meuclidean_distances\u001b[0;34m(X, Y, Y_norm_squared, squared, X_norm_squared)\u001b[0m\n\u001b[1;32m    271\u001b[0m     \u001b[0;32melse\u001b[0m\u001b[0;34m:\u001b[0m\u001b[0;34m\u001b[0m\u001b[0;34m\u001b[0m\u001b[0m\n\u001b[1;32m    272\u001b[0m         \u001b[0;31m# if dtype is already float64, no need to chunk and upcast\u001b[0m\u001b[0;34m\u001b[0m\u001b[0;34m\u001b[0m\u001b[0;34m\u001b[0m\u001b[0m\n\u001b[0;32m--> 273\u001b[0;31m         \u001b[0mdistances\u001b[0m \u001b[0;34m=\u001b[0m \u001b[0;34m-\u001b[0m \u001b[0;36m2\u001b[0m \u001b[0;34m*\u001b[0m \u001b[0msafe_sparse_dot\u001b[0m\u001b[0;34m(\u001b[0m\u001b[0mX\u001b[0m\u001b[0;34m,\u001b[0m \u001b[0mY\u001b[0m\u001b[0;34m.\u001b[0m\u001b[0mT\u001b[0m\u001b[0;34m,\u001b[0m \u001b[0mdense_output\u001b[0m\u001b[0;34m=\u001b[0m\u001b[0;32mTrue\u001b[0m\u001b[0;34m)\u001b[0m\u001b[0;34m\u001b[0m\u001b[0;34m\u001b[0m\u001b[0m\n\u001b[0m\u001b[1;32m    274\u001b[0m         \u001b[0mdistances\u001b[0m \u001b[0;34m+=\u001b[0m \u001b[0mXX\u001b[0m\u001b[0;34m\u001b[0m\u001b[0;34m\u001b[0m\u001b[0m\n\u001b[1;32m    275\u001b[0m         \u001b[0mdistances\u001b[0m \u001b[0;34m+=\u001b[0m \u001b[0mYY\u001b[0m\u001b[0;34m\u001b[0m\u001b[0;34m\u001b[0m\u001b[0m\n",
      "\u001b[0;32m~/opt/anaconda3/envs/ml/lib/python3.7/site-packages/sklearn/utils/extmath.py\u001b[0m in \u001b[0;36msafe_sparse_dot\u001b[0;34m(a, b, dense_output)\u001b[0m\n\u001b[1;32m    140\u001b[0m         \u001b[0;32mreturn\u001b[0m \u001b[0mret\u001b[0m\u001b[0;34m\u001b[0m\u001b[0;34m\u001b[0m\u001b[0m\n\u001b[1;32m    141\u001b[0m     \u001b[0;32melse\u001b[0m\u001b[0;34m:\u001b[0m\u001b[0;34m\u001b[0m\u001b[0;34m\u001b[0m\u001b[0m\n\u001b[0;32m--> 142\u001b[0;31m         \u001b[0;32mreturn\u001b[0m \u001b[0mnp\u001b[0m\u001b[0;34m.\u001b[0m\u001b[0mdot\u001b[0m\u001b[0;34m(\u001b[0m\u001b[0ma\u001b[0m\u001b[0;34m,\u001b[0m \u001b[0mb\u001b[0m\u001b[0;34m)\u001b[0m\u001b[0;34m\u001b[0m\u001b[0;34m\u001b[0m\u001b[0m\n\u001b[0m\u001b[1;32m    143\u001b[0m \u001b[0;34m\u001b[0m\u001b[0m\n\u001b[1;32m    144\u001b[0m \u001b[0;34m\u001b[0m\u001b[0m\n",
      "\u001b[0;32m<__array_function__ internals>\u001b[0m in \u001b[0;36mdot\u001b[0;34m(*args, **kwargs)\u001b[0m\n",
      "\u001b[0;31mKeyboardInterrupt\u001b[0m: "
     ]
    }
   ],
   "source": [
    "#Pipeline 3\n",
    "\n",
    "data_X,data_y = hl.load_data(n_samples,tot_data_X,tot_data_Y)\n",
    "\n",
    "data_X,data_y = out.IQR_y_outliers(data_X,data_y)\n",
    "\n",
    "pca = KernelPCA()\n",
    "min_max = MinMaxScaler()\n",
    "rid = Ridge()\n",
    "pipeline = Pipeline([\n",
    "  ('min_max',min_max),\n",
    "  ('pca',pca),\n",
    "  ('ridge', rid)\n",
    "])\n",
    "\n",
    "param_grid = {\n",
    "    'pca__n_components': [80, 100],\n",
    "    'ridge__alpha': np.logspace(np.log10(0.001),np.log10(1000),5),\n",
    "    'pca__kernel': ['linear','poly','rbf'],\n",
    "    'pca__degree': [2,4,6],\n",
    "    'pca__gamma': [0.2,1.0,1.5]\n",
    "}\n",
    "\n",
    "cv = KFold(n_splits = K)\n",
    "search = GridSearchCV(pipeline, param_grid, scoring = 'neg_mean_absolute_error',iid=False, cv=cv)\n",
    "search.fit(data_X,data_y)\n",
    "\n",
    "best_score = search.best_score_\n",
    "bp_ = search.best_params_\n",
    "be_ = search.best_estimator_\n",
    "\n",
    "pipeline.set_params(pca__n_components= bp_['pca__n_components'],ridge__alpha = bp_['ridge__alpha'])\n",
    "\n",
    "results = cross_validate(pipeline,data_X, data_y, cv = cv,scoring=SCORING)\n",
    "lm.log_model(results,pipeline,param_grid,path_dic[data_path])\n",
    "\n",
    "lm.display_score(results)\n",
    "\n",
    "print(search.best_estimator_.named_steps)"
   ]
  },
  {
   "cell_type": "code",
   "execution_count": null,
   "metadata": {},
   "outputs": [],
   "source": [
    "# Pipeline 4\n",
    "# Load data\n",
    "data_X,data_y = hl.load_data(n_samples,tot_data_X,tot_data_Y)\n",
    "data_X = data_X[:,rfe.support_]\n",
    "data_y = data_y[:,rfe.support_]\n",
    "# Define pipeline\n",
    "pipeline = Pipeline([\n",
    "    ('elastic_net', ElasticNet( max_iter=2000))])\n",
    "\n",
    "# Define a parameter grid (use in gridsearch)\n",
    "param_grid = {\n",
    "    'elastic_net__alpha': [0.1,0.5,1.4,2.8], #don't use 0\n",
    "    'elastic_net__l1_ratio': [0.1,0.3,0.9] #don't use 0       \n",
    "}\n",
    "\n",
    "cv = KFold(n_splits= K)\n",
    "search = GridSearchCV(pipeline, param_grid, scoring = 'neg_mean_absolute_error',iid=False, cv=cv)\n",
    "\n",
    "search.fit(data_X,data_y)\n",
    "\n",
    "best_score = search.best_score_\n",
    "bp_ = search.best_params_\n",
    "be_ = search.best_estimator_\n",
    "\n",
    "pipeline.set_params(elastic_net__alpha = bp_['elastic_net__alpha'],\n",
    "                   elastic_net__l1_ratio = bp_['elastic_net__l1_ratio'])\n",
    "\n",
    "results = cross_validate(pipeline,data_X, data_y, cv = cv,scoring=SCORING)\n",
    "lm.log_model(results,pipeline,param_grid,path_dic[data_path])\n",
    "\n",
    "lm.display_score(results)\n",
    "\n",
    "print(search.best_estimator_.named_steps)"
   ]
  },
  {
   "cell_type": "markdown",
   "metadata": {},
   "source": [
    "### 3.2 PyTorch pipeline\n",
    "<a id='main_pytorch'></a>"
   ]
  },
  {
   "cell_type": "code",
   "execution_count": 51,
   "metadata": {},
   "outputs": [],
   "source": [
    "def load_process_data(n, iqr=False, pca=False, scale=False):\n",
    "    if iqr:\n",
    "        X_train, X_test, y_train, y_test = load_data_train_test(n, X_tot, y_tot, iqr=apply_iqr)\n",
    "    else:\n",
    "        X_train, X_test, y_train, y_test = load_data_train_test(n, X_tot, y_tot)\n",
    "        \n",
    "    if scale:\n",
    "        min_max = MinMaxScaler()\n",
    "        X_train, X_test = apply_scaler(min_max, X_train, X_test)\n",
    "        \n",
    "    if pca:\n",
    "        n = 80\n",
    "        X_train, X_test = do_PCA(X_train, X_test, n)\n",
    "        nb_input_neurons = n\n",
    "\n",
    "    return X_train, X_test, y_train, y_test\n"
   ]
  },
  {
   "cell_type": "markdown",
   "metadata": {},
   "source": [
    " 4-fold cross-validation"
   ]
  },
  {
   "cell_type": "code",
   "execution_count": 61,
   "metadata": {},
   "outputs": [
    {
     "name": "stdout",
     "output_type": "stream",
     "text": [
      "(100, 14400)\n",
      "(100,)\n"
     ]
    }
   ],
   "source": [
    "from sklearn.model_selection import KFold\n",
    "\n",
    "mse_storage = []\n",
    "mae_storage = []\n",
    "r2_storage = []\n",
    "\n",
    "mini_batch_size = 10\n",
    "nb_input_neurons = 14400\n",
    "\n",
    "# Load data, remove outliers but do not split yet into train and test\n",
    "X, y = hl.load_data(100, tot_data_x=tot_data_X, tot_data_y=tot_data_Y)\n",
    "\n",
    "print(X.shape)\n",
    "print(y.shape)"
   ]
  },
  {
   "cell_type": "code",
   "execution_count": 64,
   "metadata": {},
   "outputs": [
    {
     "name": "stdout",
     "output_type": "stream",
     "text": [
      "FOLD 1\n",
      "[epoch 1] loss: 5344.70\n",
      "[epoch 2] loss: 5344.66\n",
      "[epoch 3] loss: 5344.63\n",
      "[epoch 4] loss: 5344.59\n",
      "[epoch 5] loss: 5344.54\n",
      "[epoch 6] loss: 5344.50\n",
      "[epoch 7] loss: 5344.44\n",
      "[epoch 8] loss: 5344.38\n",
      "[epoch 9] loss: 5344.11\n",
      "[epoch 10] loss: 5338.09\n",
      "FOLD 2\n",
      "[epoch 1] loss: 5353.52\n",
      "[epoch 2] loss: 5353.48\n",
      "[epoch 3] loss: 5353.44\n",
      "[epoch 4] loss: 5353.40\n",
      "[epoch 5] loss: 5353.35\n",
      "[epoch 6] loss: 5352.68\n",
      "[epoch 7] loss: 5347.39\n",
      "[epoch 8] loss: 5340.34\n",
      "[epoch 9] loss: 5332.82\n",
      "[epoch 10] loss: 5324.63\n",
      "FOLD 3\n",
      "[epoch 1] loss: 5540.37\n",
      "[epoch 2] loss: 5535.85\n",
      "[epoch 3] loss: 5530.36\n",
      "[epoch 4] loss: 5524.28\n",
      "[epoch 5] loss: 5517.67\n",
      "[epoch 6] loss: 5510.38\n",
      "[epoch 7] loss: 5502.08\n",
      "[epoch 8] loss: 5492.51\n",
      "[epoch 9] loss: 5481.98\n",
      "[epoch 10] loss: 5470.58\n",
      "FOLD 4\n",
      "[epoch 1] loss: 5193.25\n",
      "[epoch 2] loss: 5193.22\n",
      "[epoch 3] loss: 5193.18\n",
      "[epoch 4] loss: 5193.15\n",
      "[epoch 5] loss: 5193.11\n",
      "[epoch 6] loss: 5193.07\n",
      "[epoch 7] loss: 5193.03\n",
      "[epoch 8] loss: 5192.97\n",
      "[epoch 9] loss: 5190.50\n",
      "[epoch 10] loss: 5182.72\n"
     ]
    }
   ],
   "source": [
    "kf = KFold(n_splits=4, shuffle=True)\n",
    "\n",
    "for idx, (train_index, test_index) in enumerate(kf.split(X)):\n",
    "    print(\"FOLD {}\".format(idx+1))\n",
    "    X_train, X_test = X[train_index], X[test_index]\n",
    "    y_train, y_test = y[train_index], y[test_index]\n",
    "    \n",
    "    train_input = torch.Tensor(X_train)\n",
    "    test_input = torch.Tensor(X_test)\n",
    "    train_target = torch.Tensor(y_train.reshape(len(y_train), 1))\n",
    "    test_target = torch.Tensor(y_test.reshape(len(y_test), 1))\n",
    "    \n",
    "    model = nrn.Net_4(nb_input_neurons) \n",
    "    losses = nrn.train_model(model, train_input, train_target, mini_batch_size, monitor_loss=True)\n",
    "\n",
    "    #Make predictions\n",
    "    y_hat = nrn.compute_pred(model, test_input)\n",
    "    #Compute score\n",
    "    mse_nn, mae_nn, r2_nn = nrn.compute_score(y_test, y_hat.detach().numpy())\n",
    "    \n",
    "    mse_storage.append(mse_nn)\n",
    "    mae_storage.append(mae_nn)\n",
    "    r2_storage.append(r2_nn)"
   ]
  },
  {
   "cell_type": "code",
   "execution_count": 148,
   "metadata": {},
   "outputs": [],
   "source": [
    "with open('metrics_all_dataset2_net4_4fold.pkl', 'wb') as f:\n",
    "    pickle.dump([mse_storage, mae_storage, r2_storage], f)"
   ]
  },
  {
   "cell_type": "code",
   "execution_count": 65,
   "metadata": {},
   "outputs": [
    {
     "name": "stdout",
     "output_type": "stream",
     "text": [
      "MSE: 670.28 +/- 45.4261 \n",
      "MAE: 25.66 +/- 0.9321 \n",
      "R2: -79.03 +/- 42.1079\n"
     ]
    }
   ],
   "source": [
    "print('MSE: {:0.2f} +/- {:0.4f} \\nMAE: {:0.2f} +/- {:0.4f} \\nR2: {:0.2f} +/- {:0.4f}'.format(np.mean(mse_storage), np.std(mse_storage), np.mean(mae_storage), np.std(mae_storage), np.mean(r2_storage), np.std(r2_storage)))"
   ]
  },
  {
   "cell_type": "markdown",
   "metadata": {},
   "source": [
    "### 3.3 Keras pipeline\n",
    "<a id='main_keras'></a>"
   ]
  },
  {
   "cell_type": "code",
   "execution_count": 75,
   "metadata": {},
   "outputs": [
    {
     "name": "stdout",
     "output_type": "stream",
     "text": [
      "Train on 1280 samples, validate on 320 samples\n",
      "Epoch 1/1\n",
      "1280/1280 [==============================] - 2s 1ms/step - loss: 22.1589 - mean_absolute_error: 22.1589 - val_loss: 15.2330 - val_mean_absolute_error: 15.2330\n",
      "Train on 1280 samples, validate on 320 samples\n",
      "Epoch 1/1\n",
      "1280/1280 [==============================] - 2s 2ms/step - loss: 25.3695 - val_loss: 25.4409\n",
      "Train on 1280 samples, validate on 320 samples\n",
      "Epoch 1/1\n",
      "1280/1280 [==============================] - 3s 2ms/step - loss: 21.8314 - val_loss: 21.9960\n"
     ]
    }
   ],
   "source": [
    "models = [k_models.model_5, k_models.model_6, k_models.model_7]\n",
    "\n",
    "model_names = [] #[m.__name__ for m in models]\n",
    "epochs_list = []\n",
    "mse_list = []\n",
    "mae_list = []\n",
    "\n",
    "X_train, X_test, y_train, y_test = hl.load_data_train_test(2000, tot_data_X, tot_data_Y)\n",
    "\n",
    "nb_epochs = [1]\n",
    "for m in models:\n",
    "    for e in nb_epochs:\n",
    "        network = m(X_train, 'mean_absolute_error')\n",
    "        network.fit(X_train, y_train, epochs=e, batch_size=10, validation_split=0.2)\n",
    "\n",
    "        y_hat = network.predict(X_test)\n",
    "        mse_nn, mae_nn, r2_nn = nrn.compute_score(y_test, y_hat)\n",
    "\n",
    "        model_names.append(m.__name__)\n",
    "        epochs_list.append(e)\n",
    "        mse_list.append(mse_nn)\n",
    "        mae_list.append(mae_nn)\n"
   ]
  },
  {
   "cell_type": "code",
   "execution_count": 76,
   "metadata": {},
   "outputs": [
    {
     "name": "stdout",
     "output_type": "stream",
     "text": [
      "╒════════╤═══════════╤═══════════╤═══════════╕\n",
      "│        │   model_5 │   model_6 │   model_7 │\n",
      "╞════════╪═══════════╪═══════════╪═══════════╡\n",
      "│ Epochs │    1      │    1      │    1      │\n",
      "├────────┼───────────┼───────────┼───────────┤\n",
      "│ MSE    │  237.758  │  656.838  │  490.517  │\n",
      "├────────┼───────────┼───────────┼───────────┤\n",
      "│ MAE    │   15.1086 │   25.3981 │   21.9421 │\n",
      "╘════════╧═══════════╧═══════════╧═══════════╛\n"
     ]
    }
   ],
   "source": [
    "print(tabulate([model_names, ['Epochs']+epochs_list, ['MSE']+mse_list, ['MAE']+mae_list], headers=\"firstrow\", tablefmt='fancy_grid'))"
   ]
  },
  {
   "cell_type": "code",
   "execution_count": 78,
   "metadata": {},
   "outputs": [],
   "source": [
    "# Quick tests\n",
    "apply_pca = False\n",
    "apply_iqr = True\n",
    "\n",
    "if apply_iqr:\n",
    "    X_train, X_test, y_train, y_test = hl.load_data_train_test(12000, tot_data_X, tot_data_Y)\n",
    "else:\n",
    "    X_train, X_test, y_train, y_test = hl.load_data_train_test(12000, tot_data_X, tot_data_Y)\n",
    "\n",
    "if apply_pca:\n",
    "    n = 100\n",
    "    X_train, X_test = do_PCA(X_train, X_test, n)\n",
    "    nb_input_neurons = n\n"
   ]
  },
  {
   "cell_type": "code",
   "execution_count": 79,
   "metadata": {},
   "outputs": [
    {
     "name": "stdout",
     "output_type": "stream",
     "text": [
      "Train on 7680 samples, validate on 1920 samples\n",
      "Epoch 1/1\n",
      "7680/7680 [==============================] - 12s 2ms/step - loss: 4.5371 - val_loss: 1.2273\n"
     ]
    },
    {
     "data": {
      "text/plain": [
       "<keras.callbacks.callbacks.History at 0x1b3f2e8bd0>"
      ]
     },
     "execution_count": 79,
     "metadata": {},
     "output_type": "execute_result"
    }
   ],
   "source": [
    "k_ann = k_models.model_8(X_train, 'mean_absolute_error') \n",
    "k_ann.fit(X_train, y_train, epochs=1, batch_size=10, validation_split=0.2)"
   ]
  },
  {
   "cell_type": "code",
   "execution_count": 81,
   "metadata": {},
   "outputs": [
    {
     "name": "stdout",
     "output_type": "stream",
     "text": [
      "MSE: 3.76 \n",
      "MAE: 1.29\n"
     ]
    }
   ],
   "source": [
    "# test model\n",
    "y_hat = k_ann.predict(X_test)\n",
    "\n",
    "# compute score\n",
    "mse_nn, mae_nn, _ = nrn.compute_score(y_test, y_hat)\n",
    "print('MSE: {:.2f} \\nMAE: {:.2f}'.format(mse_nn, mae_nn))"
   ]
  },
  {
   "cell_type": "code",
   "execution_count": 340,
   "metadata": {},
   "outputs": [],
   "source": [
    "with open('y_hat_12000_dataset2_model8.pkl', 'wb') as f:\n",
    "    pickle.dump(y_hat, f)"
   ]
  },
  {
   "cell_type": "markdown",
   "metadata": {},
   "source": [
    "**Results tracking**\n",
    "\n",
    "Model    | MSE  | MAE  | PCA | IQR |    n     | dataset | *n* PCs | Epochs | Scaling | \n",
    "---      | ---  | ---  | --- | --- |   ---    |   ---   |   ---   |   ---  |   ---   |\n",
    "model_6  | 0.93 | 0.70 | Yes | Yes |  20000   |   2     |   40    |   150  |   No    |\n",
    "model_6  | 0.85 | 0.67 | No  | Yes |   4000   |   2     |    -    |   150  |   No    |\n",
    "model_6  | 0.78 | 0.64 | Yes | Yes |  20000   |   2     |   60    |   150  |   No    | \n",
    "model_6  | 0.75 | 0.63 | Yes | Yes |  25000   |   2     |   70    |   200  |   No    |\n",
    "model_6  | 0.67 | 0.60 | No  | Yes |   8000   |   2     |    -    |   150  |   No    |\n",
    "model_6  | 0.75 | 0.62 | Yes | Yes |  25000   |   2     |  100    |   150  |   No    |\n",
    "model_6  | 0.60 | 0.55 | No  | Yes |  12000   |   2     |    -    |   150  |   No    |\n",
    "Net_3    | 1.01 | 0.74 | Yes | Yes |   5000   |   2     |   80    |   100  |   No    |\n",
    "Net_3    | 1.03 | 0.73 | Yes | Yes |   8000   |   2     |   80    |   150  |   No    |\n",
    "Net_3    | 0.65 | 0.60 | No  | Yes |   8000   |   2     |    -    |   150  |   No    |\n",
    "Net_3    | 0.52 | 0.54 | No  | Yes |  12000   |   2     |    -    |   150  |   No    |\n",
    "model_8  | 0.58 | 0.57 | No  | Yes |  12000   |   2     |    -    |   150  |   No    |\n",
    "Net_3    | 0.57 | 0.56 | No  | Yes |  12000   |   3     |    -    |   150  |   No    |\n",
    "Net_3    | 0.65 | 0.62 | No  | Yes |  12000   |   2     |    -    |   150  |   Yes   |\n",
    "Net_3    | 1.00 | 0.76 | Yes | Yes |  12000   |   2     |   80    |   150  |   Yes   |\n",
    "Net_3    | 0.86 | 0.69 | Yes | Yes |  25000   |   2     |   80    |   150  |   Yes   |\n",
    "Net_4    | 0.47 | 0.52 | No  | Yes |  12000   |   2     |   -     |   150  |   Yes   |\n",
    "Net_5    | 0.54 | 0.54 | No  | Yes |  12000   |   2     |   -     |   150  |   Yes   |\n"
   ]
  },
  {
   "cell_type": "markdown",
   "metadata": {},
   "source": [
    "### 3.4 NN3 Pipeline"
   ]
  },
  {
   "cell_type": "code",
   "execution_count": 87,
   "metadata": {
    "collapsed": true,
    "jupyter": {
     "outputs_hidden": true
    }
   },
   "outputs": [
    {
     "name": "stdout",
     "output_type": "stream",
     "text": [
      "1 / 5 fold\n",
      "##############################Training model 1##############################\n",
      "[epoch 1] loss: 5285.72\n",
      "[epoch 2] loss: 5285.68\n",
      "[epoch 3] loss: 5285.64\n",
      "[epoch 4] loss: 5285.60\n",
      "[epoch 5] loss: 5285.56\n",
      "[epoch 6] loss: 5285.51\n",
      "[epoch 7] loss: 5285.47\n",
      "[epoch 8] loss: 5285.32\n",
      "[epoch 9] loss: 5282.87\n",
      "[epoch 10] loss: 5276.18\n",
      "[epoch 11] loss: 5267.54\n",
      "[epoch 12] loss: 5258.22\n",
      "[epoch 13] loss: 5248.81\n",
      "[epoch 14] loss: 5239.43\n",
      "[epoch 15] loss: 5230.08\n",
      "[epoch 16] loss: 5220.71\n",
      "[epoch 17] loss: 5211.28\n",
      "[epoch 18] loss: 5201.78\n",
      "[epoch 19] loss: 5192.16\n",
      "[epoch 20] loss: 5182.41\n",
      "[epoch 21] loss: 5172.51\n",
      "[epoch 22] loss: 5162.46\n",
      "[epoch 23] loss: 5152.24\n",
      "[epoch 24] loss: 5141.84\n",
      "[epoch 25] loss: 5131.27\n",
      "[epoch 26] loss: 5120.50\n",
      "[epoch 27] loss: 5109.55\n",
      "[epoch 28] loss: 5098.40\n",
      "[epoch 29] loss: 5087.06\n",
      "[epoch 30] loss: 5075.52\n",
      "[epoch 31] loss: 5063.78\n",
      "[epoch 32] loss: 5051.84\n",
      "[epoch 33] loss: 5039.70\n",
      "[epoch 34] loss: 5027.36\n",
      "[epoch 35] loss: 5014.82\n",
      "[epoch 36] loss: 5002.07\n",
      "[epoch 37] loss: 4989.12\n",
      "[epoch 38] loss: 4975.97\n",
      "[epoch 39] loss: 4962.62\n",
      "[epoch 40] loss: 4949.07\n",
      "[epoch 41] loss: 4935.32\n",
      "[epoch 42] loss: 4921.36\n",
      "[epoch 43] loss: 4907.21\n",
      "[epoch 44] loss: 4892.86\n",
      "[epoch 45] loss: 4878.32\n",
      "[epoch 46] loss: 4863.57\n",
      "[epoch 47] loss: 4848.64\n",
      "[epoch 48] loss: 4833.51\n",
      "[epoch 49] loss: 4818.19\n",
      "[epoch 50] loss: 4802.68\n",
      "[epoch 51] loss: 4786.98\n",
      "[epoch 52] loss: 4771.09\n",
      "[epoch 53] loss: 4755.02\n",
      "[epoch 54] loss: 4738.77\n",
      "[epoch 55] loss: 4722.33\n",
      "[epoch 56] loss: 4705.71\n",
      "[epoch 57] loss: 4688.91\n",
      "[epoch 58] loss: 4671.94\n",
      "[epoch 59] loss: 4654.79\n",
      "[epoch 60] loss: 4637.46\n",
      "[epoch 61] loss: 4619.97\n",
      "[epoch 62] loss: 4602.31\n",
      "[epoch 63] loss: 4584.48\n",
      "[epoch 64] loss: 4566.48\n",
      "[epoch 65] loss: 4548.32\n",
      "[epoch 66] loss: 4530.00\n",
      "[epoch 67] loss: 4511.52\n",
      "[epoch 68] loss: 4492.89\n",
      "[epoch 69] loss: 4474.10\n",
      "[epoch 70] loss: 4455.15\n",
      "[epoch 71] loss: 4436.06\n",
      "[epoch 72] loss: 4416.82\n",
      "[epoch 73] loss: 4397.43\n",
      "[epoch 74] loss: 4377.90\n",
      "[epoch 75] loss: 4358.23\n",
      "[epoch 76] loss: 4338.42\n",
      "[epoch 77] loss: 4318.47\n",
      "[epoch 78] loss: 4298.38\n",
      "[epoch 79] loss: 4278.17\n",
      "[epoch 80] loss: 4257.83\n",
      "[epoch 81] loss: 4237.36\n",
      "[epoch 82] loss: 4216.76\n",
      "[epoch 83] loss: 4196.04\n",
      "[epoch 84] loss: 4175.20\n",
      "[epoch 85] loss: 4154.25\n",
      "[epoch 86] loss: 4133.17\n",
      "[epoch 87] loss: 4111.99\n",
      "[epoch 88] loss: 4090.69\n",
      "[epoch 89] loss: 4069.29\n",
      "[epoch 90] loss: 4047.78\n",
      "[epoch 91] loss: 4026.17\n",
      "[epoch 92] loss: 4004.46\n",
      "[epoch 93] loss: 3982.65\n",
      "[epoch 94] loss: 3960.75\n",
      "[epoch 95] loss: 3938.75\n",
      "[epoch 96] loss: 3916.66\n",
      "[epoch 97] loss: 3894.48\n",
      "[epoch 98] loss: 3872.22\n",
      "[epoch 99] loss: 3849.87\n",
      "[epoch 100] loss: 3827.45\n",
      "[epoch 101] loss: 3804.94\n",
      "[epoch 102] loss: 3782.36\n",
      "[epoch 103] loss: 3759.71\n",
      "[epoch 104] loss: 3736.99\n",
      "[epoch 105] loss: 3714.19\n",
      "[epoch 106] loss: 3691.34\n",
      "[epoch 107] loss: 3668.42\n",
      "[epoch 108] loss: 3645.44\n",
      "[epoch 109] loss: 3622.40\n",
      "[epoch 110] loss: 3599.30\n",
      "[epoch 111] loss: 3576.15\n",
      "[epoch 112] loss: 3552.95\n",
      "[epoch 113] loss: 3529.70\n",
      "[epoch 114] loss: 3506.41\n",
      "[epoch 115] loss: 3483.07\n",
      "[epoch 116] loss: 3459.70\n",
      "[epoch 117] loss: 3436.28\n",
      "[epoch 118] loss: 3412.83\n",
      "[epoch 119] loss: 3389.34\n",
      "[epoch 120] loss: 3365.82\n",
      "[epoch 121] loss: 3342.28\n",
      "[epoch 122] loss: 3318.71\n",
      "[epoch 123] loss: 3295.11\n",
      "[epoch 124] loss: 3271.49\n",
      "[epoch 125] loss: 3247.86\n",
      "[epoch 126] loss: 3224.20\n",
      "[epoch 127] loss: 3200.54\n",
      "[epoch 128] loss: 3176.86\n",
      "[epoch 129] loss: 3153.17\n",
      "[epoch 130] loss: 3129.47\n",
      "[epoch 131] loss: 3105.77\n",
      "[epoch 132] loss: 3082.06\n",
      "[epoch 133] loss: 3058.36\n",
      "[epoch 134] loss: 3034.65\n",
      "[epoch 135] loss: 3010.95\n",
      "[epoch 136] loss: 2987.26\n",
      "[epoch 137] loss: 2963.58\n",
      "[epoch 138] loss: 2939.90\n",
      "[epoch 139] loss: 2916.24\n",
      "[epoch 140] loss: 2892.60\n",
      "[epoch 141] loss: 2868.97\n",
      "[epoch 142] loss: 2845.37\n",
      "[epoch 143] loss: 2821.78\n",
      "[epoch 144] loss: 2798.22\n",
      "[epoch 145] loss: 2774.69\n",
      "[epoch 146] loss: 2751.18\n",
      "[epoch 147] loss: 2727.70\n",
      "[epoch 148] loss: 2704.26\n",
      "[epoch 149] loss: 2680.85\n",
      "[epoch 150] loss: 2657.48\n",
      "##############################Training model 2##############################\n",
      "[epoch 1] loss: 5285.55\n",
      "[epoch 2] loss: 5285.53\n",
      "[epoch 3] loss: 5285.51\n",
      "[epoch 4] loss: 5285.49\n",
      "[epoch 5] loss: 5285.47\n",
      "[epoch 6] loss: 5285.45\n",
      "[epoch 7] loss: 5285.42\n",
      "[epoch 8] loss: 5285.07\n",
      "[epoch 9] loss: 5282.75\n",
      "[epoch 10] loss: 5278.07\n",
      "[epoch 11] loss: 5272.46\n",
      "[epoch 12] loss: 5266.65\n",
      "[epoch 13] loss: 5260.78\n",
      "[epoch 14] loss: 5254.88\n",
      "[epoch 15] loss: 5248.93\n",
      "[epoch 16] loss: 5242.89\n",
      "[epoch 17] loss: 5236.75\n",
      "[epoch 18] loss: 5230.49\n",
      "[epoch 19] loss: 5224.11\n",
      "[epoch 20] loss: 5217.59\n",
      "[epoch 21] loss: 5210.93\n",
      "[epoch 22] loss: 5204.11\n",
      "[epoch 23] loss: 5197.14\n",
      "[epoch 24] loss: 5190.01\n",
      "[epoch 25] loss: 5182.72\n",
      "[epoch 26] loss: 5175.26\n",
      "[epoch 27] loss: 5167.64\n",
      "[epoch 28] loss: 5159.85\n",
      "[epoch 29] loss: 5151.89\n",
      "[epoch 30] loss: 5143.76\n",
      "[epoch 31] loss: 5135.47\n",
      "[epoch 32] loss: 5127.00\n",
      "[epoch 33] loss: 5118.36\n",
      "[epoch 34] loss: 5109.55\n",
      "[epoch 35] loss: 5100.57\n",
      "[epoch 36] loss: 5091.42\n",
      "[epoch 37] loss: 5082.10\n",
      "[epoch 38] loss: 5072.61\n",
      "[epoch 39] loss: 5062.95\n",
      "[epoch 40] loss: 5053.12\n",
      "[epoch 41] loss: 5043.12\n",
      "[epoch 42] loss: 5032.96\n",
      "[epoch 43] loss: 5022.63\n",
      "[epoch 44] loss: 5012.13\n",
      "[epoch 45] loss: 5001.46\n",
      "[epoch 46] loss: 4990.63\n",
      "[epoch 47] loss: 4979.64\n",
      "[epoch 48] loss: 4968.48\n",
      "[epoch 49] loss: 4957.16\n",
      "[epoch 50] loss: 4945.68\n",
      "[epoch 51] loss: 4934.04\n",
      "[epoch 52] loss: 4922.24\n",
      "[epoch 53] loss: 4910.28\n",
      "[epoch 54] loss: 4898.17\n",
      "[epoch 55] loss: 4885.90\n",
      "[epoch 56] loss: 4873.47\n",
      "[epoch 57] loss: 4860.89\n",
      "[epoch 58] loss: 4848.16\n",
      "[epoch 59] loss: 4835.28\n",
      "[epoch 60] loss: 4822.25\n",
      "[epoch 61] loss: 4809.07\n",
      "[epoch 62] loss: 4795.74\n",
      "[epoch 63] loss: 4782.27\n",
      "[epoch 64] loss: 4768.65\n",
      "[epoch 65] loss: 4754.89\n",
      "[epoch 66] loss: 4740.98\n",
      "[epoch 67] loss: 4726.94\n",
      "[epoch 68] loss: 4712.76\n",
      "[epoch 69] loss: 4698.44\n",
      "[epoch 70] loss: 4683.98\n",
      "[epoch 71] loss: 4669.39\n",
      "[epoch 72] loss: 4654.67\n",
      "[epoch 73] loss: 4639.81\n",
      "[epoch 74] loss: 4624.82\n",
      "[epoch 75] loss: 4609.71\n",
      "[epoch 76] loss: 4594.47\n",
      "[epoch 77] loss: 4579.10\n",
      "[epoch 78] loss: 4563.61\n",
      "[epoch 79] loss: 4547.99\n",
      "[epoch 80] loss: 4532.25\n",
      "[epoch 81] loss: 4516.40\n",
      "[epoch 82] loss: 4500.42\n",
      "[epoch 83] loss: 4484.33\n",
      "[epoch 84] loss: 4468.12\n",
      "[epoch 85] loss: 4451.81\n",
      "[epoch 86] loss: 4435.37\n",
      "[epoch 87] loss: 4418.83\n",
      "[epoch 88] loss: 4402.18\n",
      "[epoch 89] loss: 4385.42\n",
      "[epoch 90] loss: 4368.56\n",
      "[epoch 91] loss: 4351.59\n",
      "[epoch 92] loss: 4334.53\n",
      "[epoch 93] loss: 4317.36\n",
      "[epoch 94] loss: 4300.09\n",
      "[epoch 95] loss: 4282.72\n",
      "[epoch 96] loss: 4265.26\n",
      "[epoch 97] loss: 4247.70\n",
      "[epoch 98] loss: 4230.06\n",
      "[epoch 99] loss: 4212.32\n",
      "[epoch 100] loss: 4194.49\n",
      "[epoch 101] loss: 4176.57\n",
      "[epoch 102] loss: 4158.57\n",
      "[epoch 103] loss: 4140.49\n",
      "[epoch 104] loss: 4122.32\n",
      "[epoch 105] loss: 4104.07\n",
      "[epoch 106] loss: 4085.74\n",
      "[epoch 107] loss: 4067.33\n",
      "[epoch 108] loss: 4048.85\n",
      "[epoch 109] loss: 4030.29\n",
      "[epoch 110] loss: 4011.66\n",
      "[epoch 111] loss: 3992.96\n",
      "[epoch 112] loss: 3974.19\n",
      "[epoch 113] loss: 3955.35\n",
      "[epoch 114] loss: 3936.45\n",
      "[epoch 115] loss: 3917.48\n",
      "[epoch 116] loss: 3898.45\n",
      "[epoch 117] loss: 3879.36\n",
      "[epoch 118] loss: 3860.21\n",
      "[epoch 119] loss: 3841.00\n",
      "[epoch 120] loss: 3821.73\n",
      "[epoch 121] loss: 3802.41\n",
      "[epoch 122] loss: 3783.03\n",
      "[epoch 123] loss: 3763.61\n",
      "[epoch 124] loss: 3744.13\n",
      "[epoch 125] loss: 3724.61\n",
      "[epoch 126] loss: 3705.04\n",
      "[epoch 127] loss: 3685.42\n",
      "[epoch 128] loss: 3665.77\n",
      "[epoch 129] loss: 3646.07\n",
      "[epoch 130] loss: 3626.33\n",
      "[epoch 131] loss: 3606.55\n",
      "[epoch 132] loss: 3586.73\n",
      "[epoch 133] loss: 3566.88\n",
      "[epoch 134] loss: 3547.00\n",
      "[epoch 135] loss: 3527.08\n",
      "[epoch 136] loss: 3507.13\n",
      "[epoch 137] loss: 3487.15\n",
      "[epoch 138] loss: 3467.15\n",
      "[epoch 139] loss: 3447.12\n",
      "[epoch 140] loss: 3427.07\n",
      "[epoch 141] loss: 3406.99\n",
      "[epoch 142] loss: 3386.89\n",
      "[epoch 143] loss: 3366.77\n",
      "[epoch 144] loss: 3346.64\n",
      "[epoch 145] loss: 3326.48\n",
      "[epoch 146] loss: 3306.32\n",
      "[epoch 147] loss: 3286.13\n",
      "[epoch 148] loss: 3265.94\n",
      "[epoch 149] loss: 3245.74\n",
      "[epoch 150] loss: 3225.52\n",
      "##############################Training model 3##############################\n",
      "[epoch 1] loss: 5285.33\n",
      "[epoch 2] loss: 5283.63\n",
      "[epoch 3] loss: 5279.91\n",
      "[epoch 4] loss: 5275.94\n",
      "[epoch 5] loss: 5271.89\n",
      "[epoch 6] loss: 5267.68\n",
      "[epoch 7] loss: 5263.15\n",
      "[epoch 8] loss: 5258.28\n",
      "[epoch 9] loss: 5253.15\n",
      "[epoch 10] loss: 5247.81\n",
      "[epoch 11] loss: 5242.29\n",
      "[epoch 12] loss: 5236.61\n",
      "[epoch 13] loss: 5230.76\n",
      "[epoch 14] loss: 5224.73\n",
      "[epoch 15] loss: 5218.52\n",
      "[epoch 16] loss: 5212.12\n",
      "[epoch 17] loss: 5205.53\n",
      "[epoch 18] loss: 5198.75\n",
      "[epoch 19] loss: 5191.76\n",
      "[epoch 20] loss: 5184.57\n",
      "[epoch 21] loss: 5177.18\n",
      "[epoch 22] loss: 5169.58\n",
      "[epoch 23] loss: 5161.77\n",
      "[epoch 24] loss: 5153.75\n",
      "[epoch 25] loss: 5145.53\n",
      "[epoch 26] loss: 5137.10\n",
      "[epoch 27] loss: 5128.46\n",
      "[epoch 28] loss: 5119.61\n",
      "[epoch 29] loss: 5110.55\n",
      "[epoch 30] loss: 5101.28\n",
      "[epoch 31] loss: 5091.80\n",
      "[epoch 32] loss: 5082.12\n",
      "[epoch 33] loss: 5072.22\n",
      "[epoch 34] loss: 5062.13\n",
      "[epoch 35] loss: 5051.82\n",
      "[epoch 36] loss: 5041.31\n",
      "[epoch 37] loss: 5030.60\n",
      "[epoch 38] loss: 5019.68\n",
      "[epoch 39] loss: 5008.56\n",
      "[epoch 40] loss: 4997.24\n",
      "[epoch 41] loss: 4985.71\n",
      "[epoch 42] loss: 4973.99\n",
      "[epoch 43] loss: 4962.07\n",
      "[epoch 44] loss: 4949.96\n",
      "[epoch 45] loss: 4937.64\n",
      "[epoch 46] loss: 4925.14\n",
      "[epoch 47] loss: 4912.44\n",
      "[epoch 48] loss: 4899.55\n",
      "[epoch 49] loss: 4886.47\n",
      "[epoch 50] loss: 4873.19\n",
      "[epoch 51] loss: 4859.74\n",
      "[epoch 52] loss: 4846.10\n",
      "[epoch 53] loss: 4832.27\n",
      "[epoch 54] loss: 4818.26\n",
      "[epoch 55] loss: 4804.07\n",
      "[epoch 56] loss: 4789.70\n",
      "[epoch 57] loss: 4775.15\n",
      "[epoch 58] loss: 4760.43\n",
      "[epoch 59] loss: 4745.54\n",
      "[epoch 60] loss: 4730.47\n",
      "[epoch 61] loss: 4715.23\n",
      "[epoch 62] loss: 4699.82\n",
      "[epoch 63] loss: 4684.25\n",
      "[epoch 64] loss: 4668.51\n",
      "[epoch 65] loss: 4652.60\n",
      "[epoch 66] loss: 4636.54\n",
      "[epoch 67] loss: 4620.32\n",
      "[epoch 68] loss: 4603.94\n",
      "[epoch 69] loss: 4587.40\n",
      "[epoch 70] loss: 4570.71\n",
      "[epoch 71] loss: 4553.87\n",
      "[epoch 72] loss: 4536.88\n",
      "[epoch 73] loss: 4519.74\n",
      "[epoch 74] loss: 4502.45\n",
      "[epoch 75] loss: 4485.02\n",
      "[epoch 76] loss: 4467.45\n",
      "[epoch 77] loss: 4449.74\n",
      "[epoch 78] loss: 4431.90\n",
      "[epoch 79] loss: 4413.91\n",
      "[epoch 80] loss: 4395.80\n",
      "[epoch 81] loss: 4377.55\n",
      "[epoch 82] loss: 4359.17\n",
      "[epoch 83] loss: 4340.67\n",
      "[epoch 84] loss: 4322.04\n",
      "[epoch 85] loss: 4303.29\n",
      "[epoch 86] loss: 4284.41\n",
      "[epoch 87] loss: 4265.42\n",
      "[epoch 88] loss: 4246.31\n",
      "[epoch 89] loss: 4227.09\n",
      "[epoch 90] loss: 4207.75\n",
      "[epoch 91] loss: 4188.31\n",
      "[epoch 92] loss: 4168.75\n",
      "[epoch 93] loss: 4149.09\n",
      "[epoch 94] loss: 4129.33\n",
      "[epoch 95] loss: 4109.46\n",
      "[epoch 96] loss: 4089.50\n",
      "[epoch 97] loss: 4069.44\n",
      "[epoch 98] loss: 4049.28\n",
      "[epoch 99] loss: 4029.03\n",
      "[epoch 100] loss: 4008.68\n",
      "[epoch 101] loss: 3988.25\n",
      "[epoch 102] loss: 3967.74\n",
      "[epoch 103] loss: 3947.13\n",
      "[epoch 104] loss: 3926.45\n",
      "[epoch 105] loss: 3905.68\n",
      "[epoch 106] loss: 3884.84\n",
      "[epoch 107] loss: 3863.92\n",
      "[epoch 108] loss: 3842.93\n",
      "[epoch 109] loss: 3821.87\n",
      "[epoch 110] loss: 3800.73\n",
      "[epoch 111] loss: 3779.53\n",
      "[epoch 112] loss: 3758.27\n",
      "[epoch 113] loss: 3736.94\n",
      "[epoch 114] loss: 3715.55\n",
      "[epoch 115] loss: 3694.10\n",
      "[epoch 116] loss: 3672.60\n",
      "[epoch 117] loss: 3651.04\n",
      "[epoch 118] loss: 3629.42\n",
      "[epoch 119] loss: 3607.76\n",
      "[epoch 120] loss: 3586.05\n",
      "[epoch 121] loss: 3564.30\n",
      "[epoch 122] loss: 3542.50\n",
      "[epoch 123] loss: 3520.66\n",
      "[epoch 124] loss: 3498.77\n",
      "[epoch 125] loss: 3476.85\n",
      "[epoch 126] loss: 3454.90\n",
      "[epoch 127] loss: 3432.91\n",
      "[epoch 128] loss: 3410.89\n",
      "[epoch 129] loss: 3388.84\n",
      "[epoch 130] loss: 3366.77\n",
      "[epoch 131] loss: 3344.66\n",
      "[epoch 132] loss: 3322.54\n",
      "[epoch 133] loss: 3300.39\n",
      "[epoch 134] loss: 3278.23\n",
      "[epoch 135] loss: 3256.04\n",
      "[epoch 136] loss: 3233.84\n",
      "[epoch 137] loss: 3211.63\n",
      "[epoch 138] loss: 3189.41\n",
      "[epoch 139] loss: 3167.18\n",
      "[epoch 140] loss: 3144.94\n",
      "[epoch 141] loss: 3122.69\n",
      "[epoch 142] loss: 3100.44\n",
      "[epoch 143] loss: 3078.19\n",
      "[epoch 144] loss: 3055.95\n",
      "[epoch 145] loss: 3033.70\n",
      "[epoch 146] loss: 3011.45\n",
      "[epoch 147] loss: 2989.22\n",
      "[epoch 148] loss: 2966.99\n",
      "[epoch 149] loss: 2944.77\n",
      "[epoch 150] loss: 2922.56\n",
      "##############################TRAINING TERMINATED##############################\n"
     ]
    },
    {
     "ename": "NameError",
     "evalue": "name 'mean_squared_error' is not defined",
     "output_type": "error",
     "traceback": [
      "\u001b[0;31m---------------------------------------------------------------------------\u001b[0m",
      "\u001b[0;31mNameError\u001b[0m                                 Traceback (most recent call last)",
      "\u001b[0;32m<ipython-input-87-d3b4ea9baca7>\u001b[0m in \u001b[0;36m<module>\u001b[0;34m\u001b[0m\n\u001b[1;32m     17\u001b[0m \u001b[0;34m\u001b[0m\u001b[0m\n\u001b[1;32m     18\u001b[0m \u001b[0;31m#Watch out! dangerous for laptops\u001b[0m\u001b[0;34m\u001b[0m\u001b[0;34m\u001b[0m\u001b[0;34m\u001b[0m\u001b[0m\n\u001b[0;32m---> 19\u001b[0;31m \u001b[0mscores_mean\u001b[0m\u001b[0;34m,\u001b[0m\u001b[0mscores_custom\u001b[0m \u001b[0;34m=\u001b[0m \u001b[0mnn3\u001b[0m\u001b[0;34m.\u001b[0m\u001b[0mKFold3\u001b[0m\u001b[0;34m(\u001b[0m\u001b[0mbigbibo\u001b[0m\u001b[0;34m,\u001b[0m\u001b[0mdata_X1\u001b[0m\u001b[0;34m,\u001b[0m\u001b[0mdata_X2\u001b[0m\u001b[0;34m,\u001b[0m\u001b[0mdata_X3\u001b[0m\u001b[0;34m,\u001b[0m\u001b[0mdata_y\u001b[0m\u001b[0;34m,\u001b[0m\u001b[0mn_splits\u001b[0m\u001b[0;34m=\u001b[0m\u001b[0;36m5\u001b[0m\u001b[0;34m)\u001b[0m\u001b[0;34m\u001b[0m\u001b[0;34m\u001b[0m\u001b[0m\n\u001b[0m\u001b[1;32m     20\u001b[0m \u001b[0;34m\u001b[0m\u001b[0m\n\u001b[1;32m     21\u001b[0m \u001b[0mscores\u001b[0m \u001b[0;34m=\u001b[0m \u001b[0;34m{\u001b[0m\u001b[0;34m'mean_method'\u001b[0m\u001b[0;34m:\u001b[0m\u001b[0mscores_mean\u001b[0m\u001b[0;34m,\u001b[0m\u001b[0;34m'custom_method'\u001b[0m\u001b[0;34m:\u001b[0m\u001b[0mscores_custom\u001b[0m\u001b[0;34m}\u001b[0m\u001b[0;34m\u001b[0m\u001b[0;34m\u001b[0m\u001b[0m\n",
      "\u001b[0;32m~/Downloads/MLprojectfall2019/project2/src/NN3.py\u001b[0m in \u001b[0;36mKFold3\u001b[0;34m(model3, data_X1, data_X2, data_X3, data_y, n_splits, verbose)\u001b[0m\n\u001b[1;32m    161\u001b[0m         \u001b[0mmodel3\u001b[0m\u001b[0;34m.\u001b[0m\u001b[0mset_mean\u001b[0m\u001b[0;34m(\u001b[0m\u001b[0;34m'mean'\u001b[0m\u001b[0;34m)\u001b[0m\u001b[0;34m\u001b[0m\u001b[0;34m\u001b[0m\u001b[0m\n\u001b[1;32m    162\u001b[0m         \u001b[0my_hat\u001b[0m \u001b[0;34m=\u001b[0m \u001b[0mmodel3\u001b[0m\u001b[0;34m.\u001b[0m\u001b[0mpredict\u001b[0m\u001b[0;34m(\u001b[0m\u001b[0mX1_test\u001b[0m\u001b[0;34m,\u001b[0m\u001b[0mX2_test\u001b[0m\u001b[0;34m,\u001b[0m\u001b[0mX3_test\u001b[0m\u001b[0;34m)\u001b[0m\u001b[0;34m\u001b[0m\u001b[0;34m\u001b[0m\u001b[0m\n\u001b[0;32m--> 163\u001b[0;31m         \u001b[0mscore_mean\u001b[0m \u001b[0;34m=\u001b[0m \u001b[0mcompute_score\u001b[0m\u001b[0;34m(\u001b[0m\u001b[0my_test\u001b[0m\u001b[0;34m,\u001b[0m\u001b[0my_hat\u001b[0m\u001b[0;34m)\u001b[0m\u001b[0;34m\u001b[0m\u001b[0;34m\u001b[0m\u001b[0m\n\u001b[0m\u001b[1;32m    164\u001b[0m         \u001b[0mscores_mean\u001b[0m\u001b[0;34m[\u001b[0m\u001b[0;34m'mse'\u001b[0m\u001b[0;34m]\u001b[0m\u001b[0;34m.\u001b[0m\u001b[0mappend\u001b[0m\u001b[0;34m(\u001b[0m\u001b[0mscore_mean\u001b[0m\u001b[0;34m[\u001b[0m\u001b[0;34m'mse'\u001b[0m\u001b[0;34m]\u001b[0m\u001b[0;34m)\u001b[0m\u001b[0;34m\u001b[0m\u001b[0;34m\u001b[0m\u001b[0m\n\u001b[1;32m    165\u001b[0m         \u001b[0mscores_mean\u001b[0m\u001b[0;34m[\u001b[0m\u001b[0;34m'mae'\u001b[0m\u001b[0;34m]\u001b[0m\u001b[0;34m.\u001b[0m\u001b[0mappend\u001b[0m\u001b[0;34m(\u001b[0m\u001b[0mscore_mean\u001b[0m\u001b[0;34m[\u001b[0m\u001b[0;34m'mae'\u001b[0m\u001b[0;34m]\u001b[0m\u001b[0;34m)\u001b[0m\u001b[0;34m\u001b[0m\u001b[0;34m\u001b[0m\u001b[0m\n",
      "\u001b[0;32m~/Downloads/MLprojectfall2019/project2/src/NN3.py\u001b[0m in \u001b[0;36mcompute_score\u001b[0;34m(y_actual, y_pred, verbose)\u001b[0m\n\u001b[1;32m    136\u001b[0m \u001b[0;34m\u001b[0m\u001b[0m\n\u001b[1;32m    137\u001b[0m \u001b[0;32mdef\u001b[0m \u001b[0mcompute_score\u001b[0m\u001b[0;34m(\u001b[0m\u001b[0my_actual\u001b[0m\u001b[0;34m,\u001b[0m \u001b[0my_pred\u001b[0m\u001b[0;34m,\u001b[0m\u001b[0mverbose\u001b[0m \u001b[0;34m=\u001b[0m \u001b[0;32mFalse\u001b[0m\u001b[0;34m)\u001b[0m\u001b[0;34m:\u001b[0m\u001b[0;34m\u001b[0m\u001b[0;34m\u001b[0m\u001b[0m\n\u001b[0;32m--> 138\u001b[0;31m     \u001b[0mmse\u001b[0m \u001b[0;34m=\u001b[0m \u001b[0mmean_squared_error\u001b[0m\u001b[0;34m(\u001b[0m\u001b[0my_actual\u001b[0m\u001b[0;34m,\u001b[0m \u001b[0my_pred\u001b[0m\u001b[0;34m)\u001b[0m\u001b[0;34m\u001b[0m\u001b[0;34m\u001b[0m\u001b[0m\n\u001b[0m\u001b[1;32m    139\u001b[0m     \u001b[0mmae\u001b[0m \u001b[0;34m=\u001b[0m \u001b[0mmean_absolute_error\u001b[0m\u001b[0;34m(\u001b[0m\u001b[0my_actual\u001b[0m\u001b[0;34m,\u001b[0m \u001b[0my_pred\u001b[0m\u001b[0;34m)\u001b[0m\u001b[0;34m\u001b[0m\u001b[0;34m\u001b[0m\u001b[0m\n\u001b[1;32m    140\u001b[0m     \u001b[0;32mif\u001b[0m \u001b[0mverbose\u001b[0m\u001b[0;34m:\u001b[0m\u001b[0;34m\u001b[0m\u001b[0;34m\u001b[0m\u001b[0m\n",
      "\u001b[0;31mNameError\u001b[0m: name 'mean_squared_error' is not defined"
     ]
    }
   ],
   "source": [
    "n_samples = 100\n",
    "tot_data_y = np.load('../data/CSD-10k_H_chemical_shieldings.npy',mmap_mode='r')\n",
    "mask = np.random.permutation(tot_data_y.shape[0])[:n_samples]\n",
    "data_y = tot_data_y[mask]\n",
    "tot_data_X = np.load('../data/CSD-10k_H_fps_1k_MD_n_12_l_9_rc_3.0_gw_0.3_rsr_1.0_rss_2.5_rse_5.npy',mmap_mode='r')\n",
    "data_X1 = tot_data_X[mask][:,rfe.support_]\n",
    "tot_data_X = np.load('../data/CSD-10k_H_fps_1k_MD_n_12_l_9_rc_5.0_gw_0.3_rsr_1.0_rss_2.5_rse_5.npy',mmap_mode='r')\n",
    "data_X2 = tot_data_X[mask][:,rfe.support_]\n",
    "tot_data_X = np.load('../data/CSD-10k_H_fps_1k_MD_n_12_l_9_rc_7.0_gw_0.3_rsr_1.0_rss_2.5_rse_5.npy',mmap_mode='r')\n",
    "data_X3 = tot_data_X[mask][:,rfe.support_]\n",
    "\n",
    "#instanciation of the bigbibo\n",
    "bibo1 = nrn.Net_3(rfe.n_features_)\n",
    "bibo2 = nrn.Net_3(rfe.n_features_)\n",
    "bibo3 = nrn.Net_3(rfe.n_features_)\n",
    "bigbibo  = nn3.NN3(bibo1,bibo2,bibo3,nb_epochs=150,assemble_y='custom')\n",
    "\n",
    "#Watch out! dangerous for laptops\n",
    "scores_mean,scores_custom = nn3.KFold3(bigbibo,data_X1,data_X2,data_X3,data_y,n_splits=5)\n",
    "\n",
    "scores = {'mean_method':scores_mean,'custom_method':scores_custom}\n",
    "\n",
    "with open('kfoldresults.pickle','wb') as f:\n",
    "    pickle.dump(scores,f)\n",
    "\n",
    "print(np.mean(scores_mean['mse']))\n",
    "print(np.mean(scores_custom['mse']))"
   ]
  },
  {
   "cell_type": "markdown",
   "metadata": {},
   "source": [
    "## 4. Stats\n",
    "<a id='stats'></a>"
   ]
  },
  {
   "cell_type": "code",
   "execution_count": 20,
   "metadata": {},
   "outputs": [],
   "source": [
    "with open('stats_iqr_vs_n_2.pkl', 'wb') as f:\n",
    "    pickle.dump([noiqr_5000, noiqr_20000, iqr_5000, iqr_20000], f)"
   ]
  }
 ],
 "metadata": {
  "kernelspec": {
   "display_name": "Python 3",
   "language": "python",
   "name": "python3"
  },
  "language_info": {
   "codemirror_mode": {
    "name": "ipython",
    "version": 3
   },
   "file_extension": ".py",
   "mimetype": "text/x-python",
   "name": "python",
   "nbconvert_exporter": "python",
   "pygments_lexer": "ipython3",
   "version": "3.7.5"
  }
 },
 "nbformat": 4,
 "nbformat_minor": 4
}
